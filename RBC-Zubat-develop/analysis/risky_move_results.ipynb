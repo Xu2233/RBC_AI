{
 "cells": [
  {
   "cell_type": "code",
   "execution_count": 1,
   "outputs": [],
   "source": [
    "%load_ext autoreload\n",
    "%autoreload 2"
   ],
   "metadata": {
    "collapsed": false,
    "ExecuteTime": {
     "end_time": "2023-12-13T05:01:52.916505200Z",
     "start_time": "2023-12-13T05:01:52.857507200Z"
    }
   },
   "id": "66061f7b9f1ffdc2"
  },
  {
   "cell_type": "code",
   "execution_count": 2,
   "outputs": [],
   "source": [
    "import csv\n",
    "import re\n",
    "import pandas as pd\n",
    "import numpy as np\n",
    "\n",
    "import pandas\n",
    "import os\n",
    "\n",
    "from reconchess import GameHistory\n",
    "import matplotlib.pyplot as plt\n",
    "from tqdm import tqdm"
   ],
   "metadata": {
    "collapsed": false,
    "ExecuteTime": {
     "end_time": "2023-12-13T05:01:54.015505600Z",
     "start_time": "2023-12-13T05:01:52.917505900Z"
    }
   },
   "id": "initial_id"
  },
  {
   "cell_type": "markdown",
   "source": [
    "### Find approximate quantiles"
   ],
   "metadata": {
    "collapsed": false
   },
   "id": "d2b8cd2abd0b009e"
  },
  {
   "cell_type": "code",
   "execution_count": 25,
   "outputs": [
    {
     "name": "stderr",
     "output_type": "stream",
     "text": [
      "100%|██████████| 95/95 [00:01<00:00, 67.58it/s]\n",
      "100%|██████████| 100/100 [00:01<00:00, 81.37it/s]\n",
      "100%|██████████| 102/102 [00:01<00:00, 67.55it/s]\n",
      "100%|██████████| 100/100 [00:01<00:00, 67.86it/s]\n",
      "100%|██████████| 100/100 [00:01<00:00, 72.87it/s]\n",
      "100%|██████████| 100/100 [00:01<00:00, 78.86it/s]\n",
      "100%|██████████| 100/100 [00:01<00:00, 82.32it/s]\n",
      "100%|██████████| 100/100 [00:01<00:00, 79.98it/s]\n",
      "100%|██████████| 100/100 [00:01<00:00, 79.28it/s]\n"
     ]
    }
   ],
   "source": [
    "data_path = \"../game_logs/ranked_games\"\n",
    "\n",
    "wins = []\n",
    "losses = []\n",
    "\n",
    "for batch in os.listdir(data_path):\n",
    "    if not os.path.isdir(os.path.join(data_path, batch)):\n",
    "        continue\n",
    "    for game_id in tqdm(os.listdir(os.path.join(data_path, batch))):\n",
    "        try:\n",
    "            game = GameHistory.from_file(os.path.join(data_path, batch, game_id, f\"game_{game_id}.log\"))\n",
    "            has_won = (game.get_white_player_name() == \"Zubat\") == game.get_winner_color()\n",
    "            game_log = os.path.join(data_path, batch, game_id, f\"move_scores_{game_id}.csv\")\n",
    "            df = pd.read_csv(game_log)\n",
    "            mx = df.groupby(\"move_number\").max()\n",
    "            if has_won:\n",
    "                wins.append(mx[\"analytical\"].to_list())\n",
    "            else:\n",
    "                losses.append(mx[\"analytical\"].to_list())\n",
    "        except:\n",
    "            pass"
   ],
   "metadata": {
    "collapsed": false,
    "ExecuteTime": {
     "end_time": "2023-11-08T13:44:07.908464873Z",
     "start_time": "2023-11-08T13:43:55.809774747Z"
    }
   },
   "id": "da2ed2066eb805ee"
  },
  {
   "cell_type": "code",
   "execution_count": 8,
   "outputs": [
    {
     "data": {
      "text/plain": "(667, 226)"
     },
     "execution_count": 8,
     "metadata": {},
     "output_type": "execute_result"
    }
   ],
   "source": [
    "len(wins), len(losses)"
   ],
   "metadata": {
    "collapsed": false,
    "ExecuteTime": {
     "end_time": "2023-11-08T12:22:35.618263461Z",
     "start_time": "2023-11-08T12:22:35.492152018Z"
    }
   },
   "id": "72247157616de8f4"
  },
  {
   "cell_type": "code",
   "execution_count": 9,
   "outputs": [
    {
     "data": {
      "text/plain": "44597"
     },
     "execution_count": 9,
     "metadata": {},
     "output_type": "execute_result"
    }
   ],
   "source": [
    "res = np.array([x for win in wins for x in win] + [x for loss in losses for x in loss] * 3)\n",
    "len(res)"
   ],
   "metadata": {
    "collapsed": false,
    "ExecuteTime": {
     "end_time": "2023-11-08T12:22:39.316207030Z",
     "start_time": "2023-11-08T12:22:39.249219842Z"
    }
   },
   "id": "7e99e871cb4fbb18"
  },
  {
   "cell_type": "code",
   "execution_count": 10,
   "outputs": [
    {
     "data": {
      "text/plain": "<Figure size 640x480 with 1 Axes>",
      "image/png": "[encoded data removed]"
     },
     "metadata": {},
     "output_type": "display_data"
    }
   ],
   "source": [
    "plt.hist(res, bins=100)\n",
    "plt.show()"
   ],
   "metadata": {
    "collapsed": false,
    "ExecuteTime": {
     "end_time": "2023-11-08T12:22:43.019509228Z",
     "start_time": "2023-11-08T12:22:42.679033020Z"
    }
   },
   "id": "cf8c49087f1a0f6d"
  },
  {
   "cell_type": "code",
   "execution_count": 11,
   "outputs": [
    {
     "data": {
      "text/plain": "(24299, 20298)"
     },
     "execution_count": 11,
     "metadata": {},
     "output_type": "execute_result"
    }
   ],
   "source": [
    "len(res[res >= 0]), len(res[res < 0])"
   ],
   "metadata": {
    "collapsed": false,
    "ExecuteTime": {
     "end_time": "2023-11-08T12:22:48.380264520Z",
     "start_time": "2023-11-08T12:22:48.336884756Z"
    }
   },
   "id": "45bd1e506860e956"
  },
  {
   "cell_type": "code",
   "execution_count": 12,
   "outputs": [
    {
     "data": {
      "text/plain": "([(0.0359, 365.34], (0.0359, 365.34], (0.0359, 365.34], (0.0359, 365.34], (0.0359, 365.34], ..., (365.34, 9538.0], (365.34, 9538.0], (0.0359, 365.34], (0.0359, 365.34], (0.0359, 365.34]]\n Length: 24299\n Categories (2, interval[float64, right]): [(0.0359, 365.34] < (365.34, 9538.0]],\n [(-426.252, -0.0204], (-426.252, -0.0204], (-426.252, -0.0204], (-426.252, -0.0204], (-426.252, -0.0204], ..., (-426.252, -0.0204], (-426.252, -0.0204], (-426.252, -0.0204], (-426.252, -0.0204], (-7519.336, -426.252]]\n Length: 20298\n Categories (2, interval[float64, right]): [(-7519.336, -426.252] < (-426.252, -0.0204]])"
     },
     "execution_count": 12,
     "metadata": {},
     "output_type": "execute_result"
    }
   ],
   "source": [
    "pd.qcut(res[res >= 0], 2), pd.qcut(res[res < 0], 2)"
   ],
   "metadata": {
    "collapsed": false,
    "ExecuteTime": {
     "end_time": "2023-11-08T12:22:49.890821990Z",
     "start_time": "2023-11-08T12:22:49.782376118Z"
    }
   },
   "id": "b8bb6e173488a8e0"
  },
  {
   "cell_type": "code",
   "execution_count": 13,
   "outputs": [
    {
     "data": {
      "text/plain": "(10679, 9619, 12963, 11336)"
     },
     "execution_count": 13,
     "metadata": {},
     "output_type": "execute_result"
    }
   ],
   "source": [
    "len(res[res < -400]), len(res[(res < 0) & (res >= -400)]), len(res[(res < 400) & (res >= 0)]), len(res[res >= 400])"
   ],
   "metadata": {
    "collapsed": false,
    "ExecuteTime": {
     "end_time": "2023-11-08T12:22:57.887839126Z",
     "start_time": "2023-11-08T12:22:57.803912052Z"
    }
   },
   "id": "8c7fbc9886b83d42"
  },
  {
   "cell_type": "markdown",
   "source": [
    "Ranges will be (-inf, -400), (-400, 0), (0, 400), (400, inf)"
   ],
   "metadata": {
    "collapsed": false
   },
   "id": "fbc2a790b20e7839"
  },
  {
   "cell_type": "markdown",
   "source": [
    "### Calculating"
   ],
   "metadata": {
    "collapsed": false
   },
   "id": "4bcdcaed6ffaf2d2"
  },
  {
   "cell_type": "code",
   "execution_count": 5,
   "outputs": [],
   "source": [
    "categories = [-400, 0, 400]\n",
    "result_thresholds = [-50, 50]\n",
    "risky_move_threshold = 50"
   ],
   "metadata": {
    "collapsed": false,
    "ExecuteTime": {
     "end_time": "2023-12-13T05:02:33.030046300Z",
     "start_time": "2023-12-13T05:02:32.959045700Z"
    }
   },
   "id": "ff6d7183adc133e5"
  },
  {
   "cell_type": "code",
   "execution_count": 51,
   "outputs": [],
   "source": [
    "results = pd.DataFrame(\n",
    "    {\"category\": [\n",
    "        f\"(-inf, {categories[0]})\", \n",
    "        f\"({categories[0]}, {categories[1]})\", \n",
    "        f\"({categories[1]}, {categories[2]})\", \n",
    "        f\"({categories[2]}, inf)\"\n",
    "    ][::-1], \n",
    "     \"positive\": [0, 0, 0, 0], \"neutral\": [0, 0, 0, 0], \"negative\": [0, 0, 0, 0]})"
   ],
   "metadata": {
    "collapsed": false,
    "ExecuteTime": {
     "end_time": "2023-11-08T14:39:17.144705197Z",
     "start_time": "2023-11-08T14:39:17.023114205Z"
    }
   },
   "id": "c7ee971defe1a812"
  },
  {
   "cell_type": "code",
   "execution_count": 52,
   "outputs": [
    {
     "name": "stderr",
     "output_type": "stream",
     "text": [
      "100%|██████████| 95/95 [00:02<00:00, 34.73it/s]\n",
      "100%|██████████| 100/100 [00:02<00:00, 44.71it/s]\n",
      "100%|██████████| 102/102 [00:02<00:00, 45.47it/s]\n",
      "100%|██████████| 100/100 [00:01<00:00, 54.36it/s]\n",
      "100%|██████████| 100/100 [00:01<00:00, 54.17it/s]\n",
      "100%|██████████| 100/100 [00:02<00:00, 47.01it/s]\n",
      "100%|██████████| 100/100 [00:02<00:00, 46.51it/s]\n",
      "100%|██████████| 100/100 [00:01<00:00, 52.08it/s]\n",
      "100%|██████████| 100/100 [00:01<00:00, 52.84it/s]\n"
     ]
    }
   ],
   "source": [
    "data_path = \"../game_logs/ranked_games\"\n",
    "for batch in os.listdir(data_path):\n",
    "    if not os.path.isdir(os.path.join(data_path, batch)):\n",
    "        continue\n",
    "    for game_id in tqdm(os.listdir(os.path.join(data_path, batch))):\n",
    "        try:\n",
    "            game = GameHistory.from_file(os.path.join(data_path, batch, game_id, f\"game_{game_id}.log\"))\n",
    "            game_log = os.path.join(data_path, batch, game_id, f\"move_scores_{game_id}.csv\")\n",
    "            df = pd.read_csv(game_log)\n",
    "            \n",
    "            gr_df = df.groupby(\"move_number\")\n",
    "            risky_moves = np.where(gr_df[\"analytical\"].max() - gr_df.first()[\"analytical\"] < risky_move_threshold)[0] + 1\n",
    "            risky_moves = np.append(risky_moves, np.where(gr_df[\"analytical\"].max() - gr_df.first()[\"analytical\"] >= risky_move_threshold)[0] + 1)\n",
    "            risky_moves\n",
    "            \n",
    "            analytical_scores = gr_df.max()[\"analytical\"]\n",
    "            for move in risky_moves:\n",
    "                category = np.digitize(analytical_scores[move], categories)\n",
    "                if move < len(gr_df):\n",
    "                    result = np.digitize(analytical_scores[move] - analytical_scores[move+1], result_thresholds)\n",
    "                    results.iloc[3-category, result+1] += 1\n",
    "                else:\n",
    "                    result = 2 * (game.get_white_player_name() == \"Zubat\") == game.get_winner_color()\n",
    "                    results.iloc[3-category, result+1] += 1\n",
    "        except:\n",
    "            pass"
   ],
   "metadata": {
    "collapsed": false,
    "ExecuteTime": {
     "end_time": "2023-11-08T14:39:36.996236568Z",
     "start_time": "2023-11-08T14:39:17.902500471Z"
    }
   },
   "id": "c6ed104c9d3c792d"
  },
  {
   "cell_type": "code",
   "execution_count": 20,
   "outputs": [
    {
     "data": {
      "text/plain": "       category  positive  neutral  negative\n0    (400, inf)       708      816       679\n1      (0, 400)       358      314       492\n2     (-400, 0)       217      162       413\n3  (-inf, -400)       234      230       377",
      "text/html": "<div>\n<style scoped>\n    .dataframe tbody tr th:only-of-type {\n        vertical-align: middle;\n    }\n\n    .dataframe tbody tr th {\n        vertical-align: top;\n    }\n\n    .dataframe thead th {\n        text-align: right;\n    }\n</style>\n<table border=\"1\" class=\"dataframe\">\n  <thead>\n    <tr style=\"text-align: right;\">\n      <th></th>\n      <th>category</th>\n      <th>positive</th>\n      <th>neutral</th>\n      <th>negative</th>\n    </tr>\n  </thead>\n  <tbody>\n    <tr>\n      <th>0</th>\n      <td>(400, inf)</td>\n      <td>708</td>\n      <td>816</td>\n      <td>679</td>\n    </tr>\n    <tr>\n      <th>1</th>\n      <td>(0, 400)</td>\n      <td>358</td>\n      <td>314</td>\n      <td>492</td>\n    </tr>\n    <tr>\n      <th>2</th>\n      <td>(-400, 0)</td>\n      <td>217</td>\n      <td>162</td>\n      <td>413</td>\n    </tr>\n    <tr>\n      <th>3</th>\n      <td>(-inf, -400)</td>\n      <td>234</td>\n      <td>230</td>\n      <td>377</td>\n    </tr>\n  </tbody>\n</table>\n</div>"
     },
     "execution_count": 20,
     "metadata": {},
     "output_type": "execute_result"
    }
   ],
   "source": [
    "results"
   ],
   "metadata": {
    "collapsed": false,
    "ExecuteTime": {
     "end_time": "2023-11-08T12:24:22.308435643Z",
     "start_time": "2023-11-08T12:24:22.242294966Z"
    }
   },
   "id": "3c591a5e10ce18b1"
  },
  {
   "cell_type": "code",
   "execution_count": 42,
   "outputs": [
    {
     "data": {
      "text/plain": "       category  positive  neutral  negative\n0    (400, inf)      2462     3351      1382\n1      (0, 400)      2128     3566      1406\n2     (-400, 0)      1350     1995       986\n3  (-inf, -400)      1124     1037      1285",
      "text/html": "<div>\n<style scoped>\n    .dataframe tbody tr th:only-of-type {\n        vertical-align: middle;\n    }\n\n    .dataframe tbody tr th {\n        vertical-align: top;\n    }\n\n    .dataframe thead th {\n        text-align: right;\n    }\n</style>\n<table border=\"1\" class=\"dataframe\">\n  <thead>\n    <tr style=\"text-align: right;\">\n      <th></th>\n      <th>category</th>\n      <th>positive</th>\n      <th>neutral</th>\n      <th>negative</th>\n    </tr>\n  </thead>\n  <tbody>\n    <tr>\n      <th>0</th>\n      <td>(400, inf)</td>\n      <td>2462</td>\n      <td>3351</td>\n      <td>1382</td>\n    </tr>\n    <tr>\n      <th>1</th>\n      <td>(0, 400)</td>\n      <td>2128</td>\n      <td>3566</td>\n      <td>1406</td>\n    </tr>\n    <tr>\n      <th>2</th>\n      <td>(-400, 0)</td>\n      <td>1350</td>\n      <td>1995</td>\n      <td>986</td>\n    </tr>\n    <tr>\n      <th>3</th>\n      <td>(-inf, -400)</td>\n      <td>1124</td>\n      <td>1037</td>\n      <td>1285</td>\n    </tr>\n  </tbody>\n</table>\n</div>"
     },
     "execution_count": 42,
     "metadata": {},
     "output_type": "execute_result"
    }
   ],
   "source": [
    "results"
   ],
   "metadata": {
    "collapsed": false,
    "ExecuteTime": {
     "end_time": "2023-11-08T14:27:59.340750871Z",
     "start_time": "2023-11-08T14:27:59.148675309Z"
    }
   },
   "id": "e680f609b5689903"
  },
  {
   "cell_type": "code",
   "execution_count": 53,
   "outputs": [
    {
     "data": {
      "text/plain": "       category  positive  neutral  negative\n0    (400, inf)      2895     3833      1782\n1      (0, 400)      2342     3755      1698\n2     (-400, 0)      1479     2093      1231\n3  (-inf, -400)      1256     1156      1501",
      "text/html": "<div>\n<style scoped>\n    .dataframe tbody tr th:only-of-type {\n        vertical-align: middle;\n    }\n\n    .dataframe tbody tr th {\n        vertical-align: top;\n    }\n\n    .dataframe thead th {\n        text-align: right;\n    }\n</style>\n<table border=\"1\" class=\"dataframe\">\n  <thead>\n    <tr style=\"text-align: right;\">\n      <th></th>\n      <th>category</th>\n      <th>positive</th>\n      <th>neutral</th>\n      <th>negative</th>\n    </tr>\n  </thead>\n  <tbody>\n    <tr>\n      <th>0</th>\n      <td>(400, inf)</td>\n      <td>2895</td>\n      <td>3833</td>\n      <td>1782</td>\n    </tr>\n    <tr>\n      <th>1</th>\n      <td>(0, 400)</td>\n      <td>2342</td>\n      <td>3755</td>\n      <td>1698</td>\n    </tr>\n    <tr>\n      <th>2</th>\n      <td>(-400, 0)</td>\n      <td>1479</td>\n      <td>2093</td>\n      <td>1231</td>\n    </tr>\n    <tr>\n      <th>3</th>\n      <td>(-inf, -400)</td>\n      <td>1256</td>\n      <td>1156</td>\n      <td>1501</td>\n    </tr>\n  </tbody>\n</table>\n</div>"
     },
     "execution_count": 53,
     "metadata": {},
     "output_type": "execute_result"
    }
   ],
   "source": [
    "results"
   ],
   "metadata": {
    "collapsed": false,
    "ExecuteTime": {
     "end_time": "2023-11-08T14:39:40.060716647Z",
     "start_time": "2023-11-08T14:39:39.990298684Z"
    }
   },
   "id": "8f576683ed30390e"
  },
  {
   "cell_type": "code",
   "execution_count": 54,
   "outputs": [
    {
     "data": {
      "text/plain": "       category  positive   neutral  negative\n0    (400, inf)  0.340188  0.450411  0.209401\n1      (0, 400)  0.300449  0.481719  0.217832\n2     (-400, 0)  0.307933  0.435769  0.256298\n3  (-inf, -400)  0.320981  0.295426  0.383593",
      "text/html": "<div>\n<style scoped>\n    .dataframe tbody tr th:only-of-type {\n        vertical-align: middle;\n    }\n\n    .dataframe tbody tr th {\n        vertical-align: top;\n    }\n\n    .dataframe thead th {\n        text-align: right;\n    }\n</style>\n<table border=\"1\" class=\"dataframe\">\n  <thead>\n    <tr style=\"text-align: right;\">\n      <th></th>\n      <th>category</th>\n      <th>positive</th>\n      <th>neutral</th>\n      <th>negative</th>\n    </tr>\n  </thead>\n  <tbody>\n    <tr>\n      <th>0</th>\n      <td>(400, inf)</td>\n      <td>0.340188</td>\n      <td>0.450411</td>\n      <td>0.209401</td>\n    </tr>\n    <tr>\n      <th>1</th>\n      <td>(0, 400)</td>\n      <td>0.300449</td>\n      <td>0.481719</td>\n      <td>0.217832</td>\n    </tr>\n    <tr>\n      <th>2</th>\n      <td>(-400, 0)</td>\n      <td>0.307933</td>\n      <td>0.435769</td>\n      <td>0.256298</td>\n    </tr>\n    <tr>\n      <th>3</th>\n      <td>(-inf, -400)</td>\n      <td>0.320981</td>\n      <td>0.295426</td>\n      <td>0.383593</td>\n    </tr>\n  </tbody>\n</table>\n</div>"
     },
     "execution_count": 54,
     "metadata": {},
     "output_type": "execute_result"
    }
   ],
   "source": [
    "results2 = results.copy()\n",
    "results2[\"positive\"] = results[\"positive\"] / (results[\"positive\"] + results[\"neutral\"] + results[\"negative\"])\n",
    "results2[\"neutral\"] = results[\"neutral\"] / (results[\"positive\"] + results[\"neutral\"] + results[\"negative\"])\n",
    "results2[\"negative\"] = results[\"negative\"] / (results[\"positive\"] + results[\"neutral\"] + results[\"negative\"])\n",
    "results2"
   ],
   "metadata": {
    "collapsed": false,
    "ExecuteTime": {
     "end_time": "2023-11-08T14:40:05.718684411Z",
     "start_time": "2023-11-08T14:40:05.620917271Z"
    }
   },
   "id": "bf0e591a6e687c8a"
  },
  {
   "cell_type": "code",
   "execution_count": 43,
   "outputs": [
    {
     "data": {
      "text/plain": "       category  positive   neutral  negative\n0    (400, inf)  0.342182  0.465740  0.192078\n1      (0, 400)  0.299718  0.502254  0.198028\n2     (-400, 0)  0.311706  0.460633  0.227661\n3  (-inf, -400)  0.326175  0.300929  0.372896",
      "text/html": "<div>\n<style scoped>\n    .dataframe tbody tr th:only-of-type {\n        vertical-align: middle;\n    }\n\n    .dataframe tbody tr th {\n        vertical-align: top;\n    }\n\n    .dataframe thead th {\n        text-align: right;\n    }\n</style>\n<table border=\"1\" class=\"dataframe\">\n  <thead>\n    <tr style=\"text-align: right;\">\n      <th></th>\n      <th>category</th>\n      <th>positive</th>\n      <th>neutral</th>\n      <th>negative</th>\n    </tr>\n  </thead>\n  <tbody>\n    <tr>\n      <th>0</th>\n      <td>(400, inf)</td>\n      <td>0.342182</td>\n      <td>0.465740</td>\n      <td>0.192078</td>\n    </tr>\n    <tr>\n      <th>1</th>\n      <td>(0, 400)</td>\n      <td>0.299718</td>\n      <td>0.502254</td>\n      <td>0.198028</td>\n    </tr>\n    <tr>\n      <th>2</th>\n      <td>(-400, 0)</td>\n      <td>0.311706</td>\n      <td>0.460633</td>\n      <td>0.227661</td>\n    </tr>\n    <tr>\n      <th>3</th>\n      <td>(-inf, -400)</td>\n      <td>0.326175</td>\n      <td>0.300929</td>\n      <td>0.372896</td>\n    </tr>\n  </tbody>\n</table>\n</div>"
     },
     "execution_count": 43,
     "metadata": {},
     "output_type": "execute_result"
    }
   ],
   "source": [],
   "metadata": {
    "collapsed": false,
    "ExecuteTime": {
     "end_time": "2023-11-08T14:28:03.371673602Z",
     "start_time": "2023-11-08T14:28:03.324083942Z"
    }
   },
   "id": "9a5522693fa11cbd"
  },
  {
   "cell_type": "code",
   "execution_count": 22,
   "outputs": [],
   "source": [
    "results.to_csv(\"results.csv\")\n",
    "results2.to_csv(\"results_percentage.csv\")"
   ],
   "metadata": {
    "collapsed": false,
    "ExecuteTime": {
     "end_time": "2023-11-08T12:24:34.407505746Z",
     "start_time": "2023-11-08T12:24:34.374415124Z"
    }
   },
   "id": "2edaa920edb870e8"
  },
  {
   "cell_type": "markdown",
   "source": [
    "### Graph"
   ],
   "metadata": {
    "collapsed": false
   },
   "id": "7d916731f17fb2fb"
  },
  {
   "cell_type": "code",
   "execution_count": 36,
   "outputs": [
    {
     "name": "stderr",
     "output_type": "stream",
     "text": [
      "100%|██████████| 95/95 [00:01<00:00, 58.49it/s]\n",
      "100%|██████████| 100/100 [00:01<00:00, 72.66it/s]\n",
      "100%|██████████| 102/102 [00:01<00:00, 56.20it/s]\n",
      "100%|██████████| 100/100 [00:01<00:00, 64.50it/s]\n",
      "100%|██████████| 100/100 [00:01<00:00, 77.46it/s]\n",
      "100%|██████████| 100/100 [00:01<00:00, 76.74it/s]\n",
      "100%|██████████| 100/100 [00:01<00:00, 70.85it/s]\n",
      "100%|██████████| 100/100 [00:01<00:00, 78.54it/s]\n",
      "100%|██████████| 100/100 [00:01<00:00, 80.48it/s]\n"
     ]
    },
    {
     "data": {
      "text/plain": "[(1012.4069999999998, 175.75699999999983),\n (1142.5699999999997, -89.88500000000022),\n (1232.455, -466.26999999999975),\n (1142.1311481788612, -103.57728977419652),\n (1347.777125434993, 104.64585982042809),\n (1243.1312656145649, 32.63139421596429),\n (871.9527051418436, 632.1302218085102),\n (338.71274666666665, 267.8266247975075),\n (436.2493999999999, -3485.7506000000003),\n (541.135287179487, 21.238817482517447),\n (421.6783984615385, 230.4947484615385),\n (414.915, 88.41250000000002),\n (249.84759230769237, -56.37989004524883),\n (-1124.710681818182, -560.6387418181818),\n (33.92917041420108, 38.40337041420105),\n (-78.95, 83.659168888889),\n (166.85, -31.200000000000017),\n (-136.56269153094473, -646.2011592728802),\n (481.66258947368414, -117.68426847024108),\n (-203.70952845528453, 46.72885521818486),\n (-224.36665068493156, 386.96467431506835),\n (-525.694825, -131.64482500000014),\n (-532.95, 238.94999999999982),\n (-824.9699297124603, 905.2212474958412),\n (-3725.487007021788, 129.1371179782118),\n (-582.1335999999999, 378.7764000000001),\n (-960.91, -13.505000000000337),\n (-4205.07825, 2885.1767500000005),\n (-450.75, -3995.75),\n (50.38499222222225, -35.905007777777755),\n (536.0844282352941, 64.57139393296876),\n (501.7967096153846, -2018.2409586538463),\n (95.33, 50.98),\n (-39.533000000000015, 198.64800000000002),\n (-306.8184375, -21.50460000000004),\n (-193.32507998936168, -5.724007852797769),\n (385.60842, 67.42451230769234),\n (316.99517999999995, 43.78536999999989),\n (-189.618, 281.825),\n (-471.443, 33.35399999999993),\n (-802.6875815789474, 265.3379834210525),\n (-663.2049999999999, 91.62000000000012),\n (-754.825, 896.2196999999999),\n (57.0, -3793.0),\n (408.7325909090909, -1294.9593840909097),\n (61.59500000000001, 92.65),\n (-326.1016368421052, 79.00673588516759),\n (-735.6350893835618, -375.5094717230113),\n (-360.12561766055046, 148.71316807438916),\n (-508.8387857349396, 436.2862142650604),\n (-457.9949999999999, 103.80500000000006),\n (473.136038360656, -49.036890806010774),\n (571.0940720338982, 49.120912774638896),\n (521.9731592592593, -68.21304662309387),\n (590.1862058823532, -20.036364211104797),\n (546.120978448276, 59.12845806611023),\n (602.2359811594202, 85.95482731326649),\n (62.900000000000006, 39.199999999999996),\n (-103.5118870967742, -3.935606015693125),\n (-789.4196445364236, -1131.4365195364235),\n (310.27821703056776, 33.71537965683035),\n (-10.587533962264176, 526.5593960377358),\n (-161.85, -754.0000000000001),\n (657.1274999999999, -60.460000000000036),\n (717.5875, 101.32700000000011),\n (616.2604999999999, 56.95249999999987),\n (559.308, -14.686633333333361),\n (573.9946333333334, -109.55419999999992),\n (683.5488333333333, -3834.4511666666667),\n (265.38412479999994, 349.715242872289),\n (583.6555743589744, -13.719916550116409),\n (619.1722416666667, 9.684276388889202),\n (905.1243514908258, -20.441897631980623),\n (925.5662491228064, -3005.5893856598027),\n (221.25, -790.2201093749998),\n (-309.19999999999993, 52.5),\n (-450.3555045045045, -50.80550450450448),\n (-399.55, 160.20499999999998),\n (-549.895, 100.0),\n (-691.7623366666667, 754.8685269696969),\n (-940.2033333333334, 139.12166666666667),\n (-1079.325, 120.20000000000005),\n (-4645.55760795485, 0),\n (599.105, 27.933199999999943),\n (571.1718000000001, 9.23103529411776),\n (532.3421470588233, 82.12330821266977),\n (577.1024681818182, 114.56210568181814),\n (431.9833333333333, 2.9833333333332916),\n (404.85, -6.154999999999973),\n (-5.150000000000013, -3855.15),\n (127.36163636363638, -764.6405077805074),\n (99.28092499999998, -106.94700000000002),\n (369.6767793103447, 48.262032521353945),\n (321.4147467889908, 137.91474678899078),\n (132.65, 29.221692307692322),\n (63.03511881918817, 200.55605968875338),\n (-137.5209408695652, 122.27237625750661),\n (495.755, 94.19999999999999),\n (89.25749999999998, -2053.9967666666666),\n (535.8049999999998, 35.44999999999993),\n (637.778716, 103.73221600000011),\n (474.612975, -119.87402499999985),\n (579.045, 156.01811111111118),\n (473.2619545454544, 107.17195454545441),\n (456.3233333333334, -6.959166666666647),\n (540.7249999999999, 64.0979999999999),\n (518.7506999999999, 128.38069999999993),\n (429.1077777777777, 222.5894444444444),\n (3355.5425, 172.34983306250024),\n (3183.1926669375, -480.31174556250016),\n (3333.253859999999, -2029.746140000001),\n (751.1628285000006, -108.14488859844528),\n (461.6973076923076, -1360.4789342194563),\n (57.01011764705882, -2048.473882352941),\n (-183.82391666666663, 160.28653333333338),\n (-6.148694117647047, -1812.5583095022625),\n (-85.30449999999998, -51.148219999999974),\n (-35.900000000000006, 111.37999999999997),\n (-146.87118750000002, 119.30682800387598),\n (-266.178015503876, 380.546984496124),\n (-646.725, -21.289999999999964),\n (-388.18, 20.485000000000014),\n (-3590.636668996189, -578.523713657622),\n (-3995.58849811482, -892.9184981148201),\n (-3330.581472222222, -177.20293364437475),\n (-3897.969409883837, 49.71443134040055),\n (-31.30000000000001, -3881.3),\n (49.83428229166661, 35.16399968297096),\n (213.96027777777775, -509.9577222222222),\n (781.9633037037033, -68.04849629629655),\n (508.62083181818167, -50.49721902927587),\n (559.1180508474575, 82.52767584987669),\n (545.6448637096775, -572.0791862903219),\n (-516.9324444444444, 79.2642222222222),\n (-663.6083999999998, -33.66322187499986),\n (-629.945178125, 69.25900937499989),\n (-699.2041874999999, 147.79781249999985),\n (-847.0019999999997, 234.67300000000023),\n (-2172.957259469697, -4148.9572594696965),\n (33.5, 103.59500000000003),\n (462.3949999999999, 52.511999999999944),\n (387.50375, -33.320749999999975),\n (430.66343749999993, -380.7772291666667),\n (532.75, 49.55000000000007),\n (457.365, 52.55500000000001),\n (616.138, 23.182999999999993),\n (229.0, 174.84500000000003),\n (-26.76465454545456, 13.059595454545438),\n (-39.82425, 290.8575),\n (-218.803, 348.8169999999999),\n (-2328.423349509472, 125.61800631677352),\n (-177.97245384615383, 168.24454615384616),\n (384.2049999999999, 88.95386666666667),\n (-17.000000000000014, -3867.0),\n (593.2173623188406, 45.45121452009846),\n (547.7661477987422, -9.436041390447144),\n (638.9678686440677, 15.56134156073449),\n (623.4065270833332, 20.73190144230739),\n (-111.77928500000002, 593.3744427280858),\n (-705.1537277280859, -4.115256713593226),\n (-1304.5892241379306, -510.5242241379307),\n (-797.3360113043477, 184.2323386956523),\n (-929.653995597484, 88.33600440251575),\n (-949.3192656249998, 106.98573437500022),\n (-1056.305, 65.19799999999987),\n (-1121.503, 648.0420000000001),\n (-610.5568272727271, -3410.556827272727),\n (129.10000000000002, 63.45000000000002),\n (292.0823294365529, 30.131028589095422),\n (317.2364441928757, 40.21034419287571),\n (523.6825999999999, -32.99977500000023),\n (556.6823750000001, 50.494018749999896),\n (639.5207499999999, 163.17374999999993),\n (613.58, -3628.42),\n (-17.350000000000012, 95.29499999999999),\n (688.7981066298345, 146.18924443471292),\n (345.2543121212121, -39.078141212121125),\n (1129.6710545217925, -435.7437944136566),\n (-99.5732641509434, 198.20173584905663),\n (-297.77500000000003, 100.14499999999987),\n (-551.9023977900554, -2367.101355384992),\n (-531.9704999999999, 149.72950000000014),\n (-614.5999999999999, 971.1499999999999),\n (-4060.942499999999, 2761.307500000001),\n (131.5, 136.27175),\n (-271.37592627272727, -1060.078570022727),\n (66.6, 48.337041176470585),\n (41.45, 85.44200000000001),\n (3821.34075, 45.41277500000069),\n (613.5668185840708, -94.80062822443972),\n (-301.96, 14.36529411764701),\n (252.7068, 340.95515384615385),\n (604.083747249191, 57.793956079740155),\n (178.3597266666666, 79.61657221122108),\n (98.74315445544552, -2115.5834288778874),\n (538.4881009049773, -43.25334754863093),\n (-14.980976415094318, 339.06749899474164),\n (507.78436923076913, -95.34892921884341),\n (676.1799539473683, 63.72924621789991),\n (635.1863640537191, 5.413839817866119),\n (760.9566870967741, -1898.2666568109394),\n (404.85, 26.130105000000015),\n (378.719895, 59.726768913043486),\n (-1546.4141811594202, -329.3642074752097),\n (-2772.9959232031247, 733.6673264808801),\n (-119.75629629629633, 627.5883043013132),\n (-819.7461468900206, -168.98988362172304),\n (-650.7562632682975, -1361.6192997646476),\n (1966.5391294211129, -62.31649619931545),\n (145.695, 407.745),\n (-157.80846875000003, -106.99671875000004),\n (-19.75000000000001, -3869.75),\n (450.935, 119.98835555555559),\n (-468.5361691176471, -1751.8642681420379),\n (528.1734157894733, 103.85333597295971),\n (472.7126184210528, -86.07563157894725),\n (625.321762295082, 46.38603093914992),\n (578.935731355932, -18.890092013633307),\n (624.6962154696131, -789.8263053637203),\n (11.028265671641805, -19.422818703358196),\n (30.451084375, 641.408584375),\n (-420.96104687500014, 35.98749598214266),\n (69.83696666666668, 339.33196666666663),\n (120.45, -3729.55),\n (-67.9846517766497, 20.278467941660168),\n (-540.6506666666667, 58.21183333333329),\n (-577.3167703703705, 153.37682962962947),\n (-759.4860711538461, 92.17372884615395),\n (244.21746813880145, -30.478629314028467),\n (274.6960974528299, 398.5556613872561),\n (883.8805018115943, -31.56140121870851),\n (1077.0146046931409, 204.29502869314115),\n (1071.314095833333, 178.7140958333332),\n (892.5999999999999, -344.9050000000002),\n (1237.505, -12.379166666666379),\n (1249.8841666666665, 57.587833333333265),\n (144.9059315789474, 76.4690508097166),\n (68.43688076923078, 77.5722807692308),\n (469.0351302631581, -23.73731418128608),\n (692.1094305555556, 90.45243055555568),\n (664.3936974576272, -31.54193668871426),\n (791.5344833333331, -201.70528834959532),\n (993.2397716829284, -664.3963338777687),\n (-9.973523584905692, 308.75118323327615),\n (887.2189999999999, -379.0670000000001),\n (3994.44886, 293.16561),\n (3701.28325, 100.35000000000082),\n (3600.933249999999, -2049.066750000001),\n (-237.87499999999997, -3882.875),\n (108.9512225308642, -573.5481399691354),\n (196.49291578947373, -698.82303197172),\n (-94.36042409638556, 65.00874078733536),\n (-627.9555465373962, 108.35215658760376),\n (-756.1636055045872, -16.265334916352003),\n (-52.545, 39.000000000000014),\n (-116.75515, 79.27949867256639),\n (-356.2655, 124.71250000000003),\n (-3240.413083333333, -340.11403722320574),\n (-2900.299046110127, 1034.3940558854688),\n (-13.42489166666668, 130.37635833333331),\n (-143.80124999999998, -117.93240999999998),\n (-25.86884000000001, -186.55334000000002),\n (51.507835, 213.262835),\n (-1195.2590833333334, 1077.294727968213),\n (881.4571900000001, 671.0267266379312),\n (210.4304633620688, -1422.0590282568696),\n (866.805015625, -120.15971547256117),\n (986.9647310975612, -206.40439563545203),\n (1193.3691267330132, -446.62986465022004),\n (1368.637991953125, -3664.362008046875),\n (198.3, -423.1499999999999),\n (523.6368749999999, 178.90749999999997),\n (593.8699999999999, 56.26999999999987),\n (546.0159782608694, 31.058087959866043),\n (566.572642857143, 748.007640924776),\n (-181.43499806763293, 55.43165594696572),\n (551.5041666666667, -14.385103284025377),\n (663.4724328165667, 132.4138132513492),\n (531.0586195652174, -786.5450713284667),\n (3960.25025, 464.04449999999997),\n (-151.76606818181818, -21.833255681818173),\n (-129.9328125, -21.876062500000018),\n (-117.3310909090909, 182.29959353535355),\n (-330.695, -77.1),\n (253.85966666666664, -0.6840833333333194),\n (254.54374999999996, 395.84375),\n (-98.3369393939394, 55.481911636988414),\n (-553.3499999999999, 159.6500000000001),\n (291.36655, 238.93140333333332),\n (405.1939999999999, 20.86293749999993),\n (1128.4388940594065, 157.84149163222185),\n (832.1854354411763, -1068.6914603921568),\n (1154.4227370370372, -125.29237407407368),\n (1279.715111111111, 167.6752589580019),\n (1351.607924528302, -34.025519221698005),\n (1385.63344375, -4715.36655625),\n (801.5152999999999, 18.353390909091104),\n (127.04414705882348, -1946.6229874239343),\n (-590.917, -149.81665000000004),\n (-155.0956358695652, 53.01081867588931),\n (-402.14292, -90.9779200000001),\n (-311.1649999999999, 66.38000000000011),\n (-372.40734090909086, -450.6471867424242),\n (-30.909867199999987, -170.42495719999994),\n (139.51508999999996, 212.31244616438352),\n (-72.79735616438354, 243.59127845100107),\n (-416.0595837209302, 4.849082316805664),\n (75.85205555555552, -53.265229059829096),\n (22.325576000000005, 109.38057599999999),\n (-19.9513, -157.55255000000002),\n (137.60125000000002, 634.64925),\n (74.64500000000001, 7.200000000000003),\n (67.44500000000001, -15.573750000000004),\n (83.01875000000001, 73.6414337606838),\n (9.377316239316215, 136.62531623931622),\n (-127.248, 20.463499999999996),\n (-155.5, 22.099999999999994),\n (-46.031358695652166, 121.79276344175238),\n (-236.57907471264363, 45.29124961168068),\n (-4442.1681996776, 1352.004514874252),\n (-5794.172714551852, -167.52459899501991),\n (-6111.558152115109, -381.68718046583126),\n (-5729.870971649278, 348.2968756575774),\n (-6078.167847306855, -147.1892986952853),\n (-5831.80889587535, 145.60713937591663),\n (-5977.416035251266, -69.05307746564358),\n (-5908.362957785623, 65.04307668416186),\n (-5973.406034469785, -1077.9542446991281),\n (-4895.451789770656, 0),\n (253.4460088397791, -140.0736921947037),\n (393.5197010344828, 107.44562696040873),\n (242.8299396135265, -481.9939701690817),\n (724.8239097826082, -54.94878376577856),\n (779.7726935483868, -1139.8520864354932),\n (520.3734615384615, 103.8238625801282),\n (557.8063625, 43.96172817164188),\n (594.0347019753086, 3.095661727631068),\n (588.7633817567565, 28.58421360860848),\n (560.179168148148, -75.71952619147476),\n (559.8773403614462, 163.05519667723576),\n (690.6976144444444, -5.077052222222164),\n (651.0698857142854, -8.790014285714506),\n (696.9856223404254, 0.9323128809658101),\n (685.2417314814816, 4.694471481481628),\n (627.2645263157898, -103.03597368421015),\n (680.3740983606558, -82.09737351434433),\n (762.4714718750001, 41.12462130028746),\n (721.3468505747127, -25.434593869731657),\n (746.7814444444443, 59.22819526411649),\n (687.5532491803278, 41.33265827123705),\n (646.2205909090908, 48.96096127946112),\n (693.3913861111109, 0.3747803418800686),\n (643.5363970588235, -62.26980644994842),\n (721.6906428571431, 94.77039906909943),\n (626.9202437880436, -61.26646169140838),\n (688.186705479452, 72.7869527912801),\n (615.3997526881719, -79.08814464516115),\n (565.8644672131146, -100.19869945355208),\n (778.377724637681, -281.5528461956528),\n (139.29125, -40.919250000000005),\n (180.2105, 110.9652623786408),\n (69.2452376213592, 236.7807376213592),\n (-58.895, 279.65000000000003),\n (-338.545, 326.667),\n (-553.695, -36.61075000000005),\n (-517.08425, 11.43500000000006),\n (-528.51925, 20.820749999999975),\n (-566.7725, 25.517499999999927),\n (-845.6318819095475, -166.6771936054539),\n (-171.83584615384615, 111.07656608019636),\n (-189.7746674509804, -355.558622674861),\n (148.52068965517236, 18.344022988505742),\n (130.17666666666662, -53.39499999999998),\n (183.5716666666666, 224.4116666666666),\n (495.6964818181817, 170.62675681818172),\n (342.32499999999993, 88.99999999999994),\n (331.83145161290327, 65.84613911290336),\n (-363.1648868613139, -303.0264952950488),\n (491.3296354166665, 29.13941666666659),\n (570.425, -14.155000000000086),\n (536.0216666666666, 51.99333333333334),\n (586.1099999999999, -8.8900000000001),\n (595.0, -13.829999999999927),\n (627.0999999999999, 12.174999999999955),\n (651.325, 99.84500000000003),\n (617.925, 7.745000000000118),\n (669.55, -133.4999999999999),\n (803.0499999999998, -2503.025),\n (3578.6675, -591.7997049744522),\n (4170.467204974452, 188.9297049744523),\n (3981.5375, 31.230000000000018),\n (3950.3075, -270.4423638547223),\n (4220.749863854722, 309.15986385472206),\n (4043.80505781974, 36.80018897573109),\n (4007.004868844009, 78.7298688440087),\n (3995.325, -47.40000000000009),\n (4042.725, -1062.275),\n (-644.9039460526317, 5000),\n (72.1447705882353, 314.0647705882353),\n (-410.6902241379311, -52.89391753415765),\n (-373.7241555555556, 71.30768734665253),\n (-396.3555284697509, 93.18522925938731),\n (-68.0794102189781, -1767.336575404163),\n (224.392, 98.28),\n (126.112, 200.32969999999997),\n (448.95, 55.45228125),\n (418.1, 85.52510526315797),\n (82.95874676254215, 508.76401948981476),\n (-4033.745368390646, 0),\n (133.31333333333333, 39.99330420711975),\n (227.3569627450979, 124.99260763146171),\n (204.99078079999992, 514.0945731245612),\n (1292.992477272727, -1042.780943929885),\n (67.18448517241382, -71.29207934371527),\n (242.8732607999998, -51.54752651343313),\n (294.4207873134329, 38.787136711023436),\n (310.60186546762594, -124.40050708139364),\n (487.59418111111097, -67.57005836257315),\n (994.9605, -3500.454730769229),\n (200.7, -833.1020468749996),\n (-336.69999999999993, 33.30950000000007),\n (-736.5027499999999, -113.27274999999986),\n (-543.4071314136125, 23.07647414194298),\n (-566.4836055555555, -126.88364030732862),\n (-342.2290999999999, 182.3536704326924),\n (-238.7827846153846, -633.7327846153845),\n (394.94999999999993, 8.281623684210444),\n (413.1773500000001, -92.82264999999978),\n (525.3850375, 0),\n (2.984299999999997, -69.54845),\n (223.64706666666663, 39.162244389438996),\n (-390.6001984771574, -601.0261984771573),\n (210.426, 11.486301526717597),\n (446.1114444444444, -2735.6570849673208),\n (3181.768529411765, 0),\n (46.806704545454544, 39.11753787878787),\n (7.689166666666672, 84.61116666666666),\n (-28.02, -16.619999999999997),\n (-36.25401612903226, -1663.1970574134352),\n (-12.394999999999984, 19.86890000000001),\n (581.95, 193.48461250000014),\n (388.4653874999999, 89.29538051470598),\n (299.1700069852939, 445.67296896446055),\n (-2151.8451125, 0),\n (291.49742156862743, 16.087773017902975),\n (275.40964855072446, -399.9684070048311),\n (707.8752081967214, 23.487926946721473),\n (684.3872812499999, -113.39693856982001),\n (797.7842198198199, -714.1431848544929),\n (2551.2592835549244, -2348.7407164450756),\n (922.2738470588238, 24.5535215871256),\n (916.3335583333331, -143.44371217026412),\n (1059.7772705035973, -243.5182448207695),\n (1303.2955153243668, 577.8872413517641),\n (1129.2184107913668, -275.63895439850626),\n (1404.857365189873, 284.18636518987296),\n (1120.671, -129.23734056939452),\n (1249.9083405693946, -709.6167384746202),\n (42.20884210526313, -139.99503102135162),\n (171.5939801324502, 171.3771141324502),\n (512.0871212962962, -134.8917120370371),\n (681.8108333333332, -10.26329166666676),\n (692.074125, 88.04502500000001),\n (604.0291, 10.443899999999985),\n (688.1264499999999, 1.1514499999999543),\n (686.9749999999999, 129.70000000000005),\n (525.4048074074074, 31.88338518518526),\n (493.5214222222221, 96.76266535947713),\n (396.758756862745, -443.50916063725464),\n (18.370000000000005, 48.858000000000004),\n (-141.25337916666666, 50.62105911084535),\n (-191.874438277512, 61.026084075429196),\n (-2164.784878938676, 558.8799764660112),\n (27.499598365122523, 91.10560892194056),\n (-63.60601055681804, -6.224272122619375),\n (685.842, 43.459410526315764),\n (642.3825894736842, 30.08778947368421),\n (651.5348333333333, 86.83640630630623),\n (639.0008111111113, -88.36647041062781),\n (727.3672815217391, -2414.362788790762),\n (435.82346999999993, -188.71123072992702),\n (118.80452631578947, 69.4548467458969),\n (49.34967956989257, 129.81209615280716),\n (98.95513978494608, 329.3102300783998),\n (-466.10257692307687, 130.43442307692317),\n (-678.8196733333336, -1.1371916169159704),\n (-677.6824817164177, 10.651693283581722),\n (-688.3341749999994, 59.51600525594142),\n (-747.8501802559408, -97.71187470038512),\n (-650.1383055555557, 789.0012770355368),\n (-1350.8105947674417, -436.69665726744165),\n (-914.1139375, -74.18503125000007),\n (-939.7303333333332, 19.407563218391033),\n (-841.65951875, 72.68223124999986),\n (-77.16603333333336, -208.05513846153846),\n (-87.822, 85.30299999999997),\n (-219.5165826086956, -208.7165826086956),\n (-90.82431132075466, 59.95921382717431),\n (-150.78352514792897, 310.8618825443787),\n (-1147.1950428169012, 891.1848200196957),\n (879.1738590909084, -377.9558700757585),\n (179.8075, 102.01249999999999),\n (77.79500000000002, -27.749999999999986),\n (105.545, 60.04226923076923),\n (-320.141, 91.96233333333333),\n (-257.8549999999999, 98.90000000000009),\n (-338.44999999999993, -16.494999999999948),\n (-321.955, 220.02500000000003),\n (-59.346705000000014, 12.271294999999995),\n (-71.61800000000001, 100.30140999999999),\n (-156.1548461538461, 63.83270531674202),\n (-219.98755147058813, 19.429198529411877),\n (-218.57958870967744, 487.7083151364765),\n (-286.1049999999999, 233.14499999999998),\n (-631.1604838709677, 99.4925161290322),\n (50.642359000000006, -7.308585785276044),\n (57.95094478527605, 43.17814478527608),\n (184.0519, 79.20872352941183),\n (42.26643085106375, -53.69903539893627),\n (168.17672826086954, 67.8882918972334),\n (100.28843636363614, -2618.8413329696964),\n (50.0, -85.22499999999997),\n (135.22499999999997, 16.723666666666645),\n (118.50133333333332, 127.58133333333333),\n (32.08127108433734, 56.86540896740186),\n (-24.784137883064524, -25.377006064882693),\n (122.42206451612904, 47.164621982345295),\n (75.25744253378375, 8.68550920045044),\n (66.5719333333333, -73.91654414414413),\n (156.41618966176472, -299.9268417107845),\n (524.4495355387932, -200.315649646392),\n (724.7651851851851, -5025.234814814815),\n (14.3, 108.975),\n (-155.42348648648647, 241.53076823049474),\n (-418.1734927184466, 1.985697281553314),\n (-166.235, -55.39500000000001),\n (317.8987479245283, -53.0730355806262),\n (370.9717835051545, 391.8656223940434),\n (-20.893838888888855, -146.46320763888886),\n (-75.28499999999998, 57.26359999999998),\n (-135.81, 383.195),\n (-590.45, 92.04999999999995),\n (-3559.9861249999994, 5000),\n (16.112855555555544, 38.180322222222216),\n (456.71125, 6.220126470588241),\n (245.8872592592592, 58.09997409796907),\n (-953.7883813502108, 683.7769100634014),\n (160.53050000000002, 1.347459999999927),\n (503.410289473684, -106.81801335317152),\n (823.105668032787, 108.84913192167585),\n (714.2565361111111, -33.986862418300575),\n (775.6704964705884, 94.21888151731741),\n (686.129328, -28.5356654426231),\n (714.6649934426231, -46.30313600943202),\n (654.2321000000001, -21.888902469135587),\n (97.76904098360656, 293.2727464099632),\n (228.9734782608696, 125.3479202608696),\n (8.129625000000019, 71.34566447368425),\n (378.8592307692308, 173.1582307692308),\n (-86.85499999999999, 62.640000000000015),\n (828.3950000000001, 229.6400000000001),\n (598.755, 139.9050000000001),\n (458.8499999999999, 91.09333125),\n (117.62580188679247, 507.00924154196497),\n (590.653108, 0.47965547474757386),\n (11.236211538461518, 65.34614487179485),\n (-215.3505228426396, 13.161560490693688),\n (-98.5773, 70.39485306122454),\n (-168.97215306122453, -64.62341951955786),\n (-104.34873354166668, 484.7825635597826),\n (-587.8419972222222, 11.23710866013073),\n (-555.75, 23.154999999999973),\n (-578.905, 48.1970818181818),\n (-627.1020818181818, 706.7241335273462),\n (-1438.173514569091, 1595.229946287438),\n (-2881.2107488530683, 5000),\n (462.1388933333333, 21.38847666666669),\n (440.7504166666666, 17.652571637426774),\n (423.0978450292398, 121.88353733693214),\n (136.52250574712636, -18.33344118024786),\n (154.85594692737422, 188.77868753510916),\n (-435.8696999999999, 136.55030000000005),\n (163.15106872727267, 221.99333795804188),\n (62.64784722222225, 702.8181572222222),\n (488.4899411764704, 880.9484360482652),\n (-857.1554482041588, 179.78627196943512),\n (-1036.941720173594, 70.84302149307291),\n (449.18187499999993, -20.32312500000006),\n (469.505, 17.398750000000064),\n (452.10624999999993, -69.89874999999995),\n (2965.006969449218, -370.227541235779),\n (179.86791666666667, 564.2753447916668),\n (-384.40742812500014, -749.7043684475811),\n (474.2004166666666, 54.34537575757565),\n (444.9312558139534, 97.61052797890193),\n (579.9674812834226, 38.74846812552789),\n (645.2975093750002, 66.78388116987253),\n (606.2702222222223, -14.141920833333415),\n (620.4121430555557, -87.66966082793931),\n (708.081803883495, 92.1199282737391),\n (-659.8333901017577, 61.545035293871706),\n (-892.1653114912283, 120.23494460633208),\n (-4055.92167551514, 0),\n (-45.45000000000001, -53.550000000000026),\n (8.100000000000012, 52.050000000000026),\n (-69.15, -2281.7820500000003),\n (-392.8295052631578, 121.97029554765322),\n (-420.25239687499993, 642.9276031250001),\n (-2684.8495, 702.5658294444443),\n (178.638, 102.21069230769236),\n (181.97603461538463, 104.94781722408032),\n (438.6725909090908, 159.45259090909076),\n (279.22, 89.85300000000004),\n (250.94817000000003, 69.19484464788738),\n (320.82602, -2403.56837725086),\n (986.6798491823206, -165.1766774481141),\n (1151.8565266304347, 82.11460981176674),\n (696.0433023999999, -283.48893800404005),\n (1109.9147494186036, -284.50807993532885),\n (54.15117500000001, 105.95255812500002),\n (-198.61, 297.365),\n (-597.9151432432434, -1723.0149851550075),\n (-654.7186666666665, 100.16133333333335),\n (-808.6799999999998, 373.5450000000001),\n (9.42016666666666, -35.62483333333334),\n (75.60955882352938, 129.06455882352935),\n (-53.45499999999997, 68.3),\n (89.14000000000004, 100.45000000000002),\n (-688.443105, -70.40810500000009),\n (-618.0349999999999, 0),\n (125.42999999999998, 33.53),\n (510.3713043478259, -58.582862318840625),\n (616.355, 31.53767647058828),\n (644.3325, 71.00350000000003),\n (495.6945999999999, 46.22709999999995),\n (449.4675, 124.84016666666668),\n (574.554931048387, 35.099615300355595),\n (564.8564999999999, -4.665117105263107),\n (461.82, 59.802505376344186),\n (363.0930098425196, -70.66298135466349),\n (433.7559911971831, 45.0276140042007),\n (388.7283771929824, -148.34876714260304),\n (537.0771443355854, 158.6073943355853),\n (378.46975000000015, -82.12111842105264),\n (460.5908684210528, -119.97667347083899),\n (580.5675418918918, 134.31379189189187),\n (446.2537499999999, -40.116437500000075),\n (486.3701875, -297.5712583942183),\n (783.9414458942183, 247.62869589421837),\n (536.3127499999999, -129.05898749999983),\n (665.3717374999998, -5.839373310810856),\n (671.2111108108106, 154.34208907168022),\n (516.8690217391304, -95.99018735177845),\n (612.8592090909088, -83.35734687239358),\n (696.2165559633024, 76.78029057868741),\n (195.45, -827.2310468749997),\n (-1230.66804, 24.545813199999884),\n (-299.43712192982457, -29.762121929824502),\n (-11.035775000000015, 79.33662500000003),\n (572.6549999999999, -188.55700000000013),\n (678.1675576923076, 242.6229951923076),\n (311.62398333333334, -15.051016666666612),\n (326.67499999999995, 180.01999999999998),\n (135.92999999999998, -7.980723076923027),\n (143.910723076923, 38.88964721485405),\n (294.075, -59.060940000000016),\n (353.13594, 34.558887826087016),\n (318.577052173913, 0),\n (163.1269050251256, 407.7081304177956),\n (3701.91610833333, 0),\n (-51.526250000000005, 80.01875000000001),\n (379.37558016877625, 392.18058016877626),\n (120.245, -3647.755),\n (138.325, 142.35500000000002),\n (172.78969718309855, -13.447688892850891),\n (242.68092131979685, 37.469489254579486),\n (191.10887596899224, -2.435053442772528),\n (394.8775057471263, -46.79874425287369),\n (419.5051057692308, 153.15835446488308),\n (535.3408222222218, -3414.659177777778),\n (121.6626764705882, 218.2076764705882),\n (-96.54500000000002, 129.735),\n (70.30443333333332, 165.5951649572649),\n (-238.8784543859649, -162.12459303386103),\n (-76.75386135210385, 135.3230679538087),\n (-243.10002999999995, 100.58872000000008),\n (-379.527894736842, -69.80582153422768),\n (55.19999999999999, 50.04999999999999),\n (327.91477536231884, 26.467043655002044),\n (329.32948846153846, -114.26938212669683),\n (443.5988705882353, -989.3987741486062),\n (113.05875, -4686.94125),\n (467.1175, 53.60872522522527),\n (540.8953000000001, -39.03232280701718),\n (572.7661594202899, 23.1409401220443),\n (198.25, 14.625666666666689),\n (518.45, -33.30304736842095),\n (551.753047368421, 32.7580473684211),\n (689.2793636363635, 51.36164141414133),\n (453.5872397260274, 5.156400440313178),\n (-117.10308333333334, 41.212955729166666),\n (-440.7861948453609, -17.950914890918853),\n (-243.5530923076923, 21.45612019230768),\n (-125.46268684210526, 21.270813157894793),\n (-146.73350000000005, 31.388852941176424),\n (-178.12235294117647, 17.457728128782378),\n (-195.58008106995885, -55.190774548219736),\n (-194.12335367231637, 52.5613218832392),\n (-246.68467555555557, -5.491173639846863),\n (-241.1935019157087, -63.203154765449625),\n (-172.30233129770994, 50.75625223887539),\n (-213.77152980769227, 115.9031476116624),\n (-229.7130772307692, 102.37093507692302),\n (-776.9312995789475, -3.066852356725235),\n (-773.8644472222222, -448.2472009856632),\n (-140.4775, 138.58499999999995),\n (-621.9617222222221, -21.358166666666534),\n (-2068.0288025240384, 133.17785619966162),\n (-2336.0770310162243, 33.63819266053997),\n (-792.85, -51.34500000000003),\n (-54.155000000000015, 67.29499999999999),\n (140.39441463414624, 195.42941463414627),\n (73.32693179487177, 31.419926722407922),\n (-614.9076249999999, 34.1423749999999),\n (111.848115, -111.24001344036697),\n (662.685025, -3750.3149750000002),\n (-4.050000000000013, -2534.961157894737),\n (675.948, -144.8902944444444),\n (820.8382944444444, -16.862689930555803),\n (1088.110452772577, -868.4030552588727),\n (44.44307692307691, 37.17160633484163),\n (-223.8351671232877, -213.2437171232877),\n (-265.0277341880342, 410.4551902911328),\n (-2.7174624999999963, -2260.689449342104),\n (-517.1519999999999, -429.24831958762877),\n (-358.605, -544.5617863636363),\n (194.8, -358.48313749999994),\n (-19.79299302325582, 44.95579941860464),\n (-64.74879244186046, 452.7562075581395),\n (-17.47544117647059, -415.3350882352941),\n (482.1125, 44.19875000000002),\n (437.91375, -60.788749999999936),\n (526.1837499999999, -53.44224999999983),\n (67.2, -3782.8),\n (108.14999999999998, 60.04499999999998),\n (85.70499999999998, 0.9050000000000011),\n (84.79999999999998, 69.47999999999999),\n (839.3322419354838, 82.46904042033248),\n (858.1616666666665, 0.6948854166665797),\n (857.4667812499999, 145.55737215909096),\n (683.7891666666666, 37.52726923076921),\n (528.8500862499998, 131.44417732981185),\n (397.4059089201879, 456.5761964201879),\n (-3052.0115607609923, -741.1727387548467),\n (-2312.0208422630803, -855.7351024008756),\n (-2175.818886416076, -225.31519708238125),\n (772.9672855072463, -91.85431111437526),\n (864.8215966216216, -174.32130885783056),\n (1039.142905479452, -147.32075618526756),\n (1186.4636616647197, 208.28311796553248),\n (18.79999999999999, 53.65833333333332),\n (-78.33036666666666, -8.57836666666664),\n (-63.01500000000003, 245.901),\n (-308.91600000000005, 115.97899999999993),\n (-242.99499999999995, -279.0299999999999),\n (29.282000000000004, -68.90299999999996),\n (318.78599999999994, -203.75900000000001),\n (190.86187517730508, -1056.592652095422),\n (429.878, -9.576999999999998),\n (455.85, -1.9191874999999072),\n (534.6013333333333, 342.62133333333327),\n (239.8, 78.05000000000001),\n (161.75, 40.45),\n (121.3, 120.55),\n (-107.7675, 363.58250000000004),\n (-2983.7, 27.996250000000146),\n (-2937.65, -224.5),\n (69.62499999999997, 0.8936249999999717),\n (368.0425, 56.591499999999996),\n (445.0, -5.4080000000000155),\n (553.1949999999999, -9.8125),\n (621.435, 42.437500000000114),\n (1562.04, 105.26499999999987),\n (1562.04, -12.959999999999582),\n (65.55413076923077, 33.67652543589743),\n (220.91068333333328, 71.95011410256407),\n (148.9605692307692, 214.39477803580058),\n (-65.43420880503136, 25.065260513150434),\n (-90.4994693181818, 37.44096226076553),\n (-127.94043157894733, 121.56288043964996),\n (-153.01871906187637, -161.81320467073238),\n (190.43705882352936, -3659.5629411764708),\n (15.311844999999986, 91.8658174137931),\n (-138.82723728813562, -1.5852706214689647),\n (431.5759894736839, -31.064338138256346),\n (462.6403276119402, -26.598274857195463),\n (440.2561349999995, 34.53229515473839),\n (405.7238398452611, -171.2583254488565),\n (528.7939476821196, 3.65546254358037),\n (525.0017799999998, -78.88636278606987),\n (521.8855079470197, -1.3487393459740815),\n (433.70054491869934, -143.65754040738756),\n (577.3580853260869, -92.86968559589855),\n (670.2277709219854, 79.28756957970347),\n (590.940201342282, 9.628381740009331),\n (581.3118196022726, -86.51555079246418),\n (667.8273703947368, 69.48400164473696),\n (598.3433687499999, -87.19388428030288),\n (0.1620666666666572, 30.191540804597697),\n (-9.240000000000016, 80.195),\n (58.62931454545454, 64.55486356506239),\n (32.694608333333335, 47.48260833333334),\n (-227.23520258620687, -158.97213591954016),\n (-224.1622876811594, -196.27742249597415),\n (-296.3671782051282, 363.9641967948718),\n (-3488.1302499999997, 513.5422499999995),\n (54.24999999999999, 21.873846153846152),\n (72.43249999999999, 132.8325),\n (-439.4641666666666, 80.93300000000005),\n (-520.3971666666666, 274.0628333333333),\n (-764.6999999999999, 18.425000000000068),\n (-1453.3867533333332, -71.4858116666669),\n (-1359.7834491573033, -4241.783449157303),\n (14.85, 31.050000000000004),\n (611.7449999999999, 20.31252941176467),\n (553.7245393258426, 128.40041403172512),\n (503.41874375000015, -9.92712195247924),\n (513.3458657024794, -28.318084297520045),\n (541.6639499999994, 47.23490204460904),\n (613.685199596774, -37.83380453545681),\n (1027.801755208333, 70.1667991638841),\n (957.6349560444488, 89.09912912137167),\n (82.9, 44.55),\n (173.89188, 66.6655616720257),\n (266.1862941176471, -61.04892810457511),\n (726.2698581081079, 182.43819144144118),\n (543.8316666666667, 37.5916666666667),\n (554.1273355263156, 71.97133552631561),\n (575.675, 47.70687500000008),\n (523.9273, 136.92187499999977),\n (387.0054250000002, 46.13583131578969),\n (299.8111602941176, 41.81902104680586),\n (160.0283296416938, -191.56052326689365),\n (351.58885290858746, -40.020659994637754),\n (391.6095129032252, 75.44615921901482),\n (390.8359581967212, 20.79083478122834),\n (370.04512341549287, 121.83545367789739),\n (248.20966973759548, -217.85651098529607),\n (466.06618072289154, -4.299889277108377),\n (411.41708939393936, 0.899840556730112),\n (3492.925236000002, 0),\n (-327.44176315789474, -120.42613815789474),\n (-207.015625, 136.7293749999999),\n (-343.7449999999999, -474.0066562499999),\n (-169.2104896551724, 207.5002603448276),\n (-376.71075, 43.71424999999982),\n (-504.2356269230768, 779.4342770769233),\n (-1283.669904, -562.5211814193551),\n (57.16549999999999, 14.600539473684236),\n (46.27320916030536, -246.32679083969467),\n (-22.85000000000001, 88.57924999999999),\n (294.255, -83.94118148148152),\n (508.6217692307692, 190.27217948717947),\n (318.3495897435897, -94.7237435897436),\n (425.25500000000005, -178.39499999999992),\n (603.65, 118.88449999999989),\n (484.7655000000001, 119.10813863636378),\n (365.6573613636363, 659.1529465677182),\n (194.0575, 76.41250000000001),\n (154.45195217391304, 125.46803844842272),\n (290.2692307692308, -3664.730769230769),\n (607.5958333333333, 14.01798333333329),\n (593.8137135135137, 53.442197120071114),\n (540.3715163934426, -3.3615666710736605),\n (604.6289899999999, -22.260656464646786),\n (16.370937499999993, 106.4659375),\n (-120.77824631578947, 81.00042231166144),\n (-201.7786686274509, -46.98737654824299),\n (1733.283544117647, 2322.988544117647),\n (39.6642, -742.285932222222),\n (-328.05, 18.666999999999916),\n (444.9570890909091, 78.68691134221808),\n (388.8878677419356, -24.99489487488671),\n (413.88276261682233, 13.891746253185772),\n (188.8806518324607, 20.497035165794074),\n (353.8562012195123, 148.06877410508451),\n (205.78742711442777, 357.5888237212141),\n (-278.44763665594866, -532.4192619724043),\n (253.9716253164557, 79.63169301557087),\n (425.5555737421383, 9.214098846740683),\n (332.1141183431953, -8.364195942518961),\n (340.47831428571425, -106.26938841698848),\n (95.39999999999998, -3754.6),\n (126.67075999999996, 36.714359999999985),\n (89.95639999999997, 151.8014),\n (115.00225, 104.40225000000001),\n (26.66249999999998, -115.03250000000004),\n (141.69500000000002, 130.79925000000003),\n (611.4822393939396, 4.269039393939693),\n (454.1491184, 369.7411184),\n (607.3014499999999, -115.0035499999999),\n (703.2170666666666, -4.869452631578952),\n (708.0865192982455, 162.84651929824565),\n (700.9225, 227.5225000000001),\n (541.8380000000001, -74.46199999999988),\n (2923.5199999999995, -425.3850000000007),\n (3051.005, -19.299999999999727),\n (3665.705, -636.8021237171879),\n (4302.507123717188, -47.35464440855412),\n (1004.769534482759, -142.44084236615424),\n (1074.3637095890415, -205.1383949564131),\n (1279.5021045454546, -1524.9451410277638),\n (2804.4472455732184, -3511.5527544267816),\n (5.65, -3844.35),\n (54.79999999999999, 71.15),\n (6.145689699570838, -458.4998755782067),\n (-291.24549999999994, 77.20098971962614),\n (-376.7059230769231, 138.0440769230769),\n (-514.75, 327.04499999999996),\n (-978.15, 97.17077499999971),\n (-1075.3207749999997, -5.825774999999794),\n (-1306.55, 1988.0000000000002),\n (590.2175000000001, -177.69315217391284),\n (842.9809103825137, 77.61874371584713),\n (765.3621666666666, -1361.834115312499),\n (-92.73405172413791, 64.16509533468562),\n (498.706072907489, 101.69398840044681),\n (521.9841583333333, 27.832041519174027),\n (113.14999999999998, -3636.85),\n (153.0816818181818, 578.7939629946522),\n (-425.7122811764704, -450.6708032454359),\n (24.958522068965465, 127.86025122990088),\n (321.11898, 73.24860520325211),\n (247.8703747967479, 274.8647747967479),\n (10.927983783783802, 112.83298378378376),\n (30.54513438914032, 202.45768893459484),\n (368.93234, -106.76065009900975),\n (-16.845, -36.245),\n (463.77345, 44.75144999999992),\n (327.08556666666664, 122.86856666666662),\n (229.71086260869572, 426.5858626086957),\n (8.849999999999987, 144.695),\n (62.05, 9.695),\n (177.88037132964, 663.8780323225478),\n (-3798.05, -843.2111367298457),\n (599.6776923076924, 4.145394230769057),\n (541.1954395973155, 68.22142856790379),\n (-24.02882352941177, 68.24317647058824),\n (-330.195, 94.04526923076929),\n (158.35365019455267, 127.20615019455268),\n (31.14749999999999, -3485.8524999999995),\n (567.74375, -34.91250000000002),\n (545.700761723279, -1283.7791540051971),\n (541.6848090567627, 304.6012437817625),\n (925.7653924418602, -87.57063893745067),\n (715.8330000000001, 152.288),\n (556.37136, 29.883737272727217),\n (200.8, -801.5560468749995),\n (174.59560930232564, 291.9161425401635),\n (-18.545, 132.05),\n (32.568244444444446, 77.62749059829062),\n (33.02683846153849, -287.19316153846154),\n (513.1685240157478, -26.82748531473669),\n (474.1131992647065, -140.09193157641505),\n (614.2051308411216, 25.68247600241193),\n (626.5775925925927, -73.77267619935355),\n (657.1494545454545, -49.381980533079286),\n (716.06135, -332.3950646016631),\n (-278.7749673913044, 450.03505271739124),\n (-728.8100201086957, -51.628075664251355),\n (882.1695674418602, 96.49947560512555),\n (624.61038, -69.05617000000007),\n (693.66655, 15.566810000000146),\n (678.0997399999999, 19.486313529411746),\n (99.03823125, -1709.8446434308507),\n (416.5283333333333, 37.46750000000003),\n (494.1318375, 27.215737500000046),\n (633.4056498194946, -314.37541761169746),\n (612.7780427884613, 104.45213159624757),\n (612.2372137096772, 0),\n (42.32749999999999, -1088.2876082857142),\n (508.8499999999999, -2268.6699999999996),\n (12.67361073825505, -30.24104451846877),\n (42.91465525672382, 118.18172249810304),\n (-582.5053423076923, 31.344369826198886),\n (-613.8497121338912, 815.7887078661086),\n (-923.31, 3016.054699920509),\n (-3939.364699920509, 0),\n (442.4557493150685, -53.021888579668314),\n (495.4776378947368, -3687.5223621052633),\n (658.675, 60.694999999999936),\n (355.07656422287374, 10.430814855785172),\n (305.92375, 96.24815454545455),\n (652.4503642533937, 153.19235970793898),\n (499.2580045454547, -20.187212845849444),\n (519.4452173913041, 36.95727989130404),\n (482.4879375000001, -135.78782380136994),\n (618.27576130137, -3536.72423869863),\n (92.25, -2121.981088235294),\n (516.0949999999998, -41.80000000000018),\n ...]"
     },
     "execution_count": 36,
     "metadata": {},
     "output_type": "execute_result"
    }
   ],
   "source": [
    "data_path = \"../game_logs/ranked_games\"\n",
    "\n",
    "results = []\n",
    "for batch in os.listdir(data_path):\n",
    "    if not os.path.isdir(os.path.join(data_path, batch)):\n",
    "        continue\n",
    "    for game_id in tqdm(os.listdir(os.path.join(data_path, batch))):\n",
    "        try:\n",
    "            game = GameHistory.from_file(os.path.join(data_path, batch, game_id, f\"game_{game_id}.log\"))\n",
    "            game_log = os.path.join(data_path, batch, game_id, f\"move_scores_{game_id}.csv\")\n",
    "            df = pd.read_csv(game_log)\n",
    "            \n",
    "            gr_df = df.groupby(\"move_number\")\n",
    "            risky_moves = np.where(gr_df[\"analytical\"].max() - gr_df.first()[\"analytical\"] > risky_move_threshold)[0] + 1\n",
    "            \n",
    "            analytical_scores = gr_df.max()[\"analytical\"]\n",
    "            for move in risky_moves:\n",
    "                if move < len(gr_df):\n",
    "                    results.append((analytical_scores[move], analytical_scores[move] - analytical_scores[move+1]))\n",
    "                else:\n",
    "                    result = 2 * (game.get_white_player_name() == \"Zubat\") == game.get_winner_color() - 1\n",
    "                    results.append((analytical_scores[move], result * 5000))\n",
    "        except:\n",
    "            pass\n",
    "        \n",
    "results"
   ],
   "metadata": {
    "collapsed": false,
    "ExecuteTime": {
     "end_time": "2023-11-08T13:49:03.977532146Z",
     "start_time": "2023-11-08T13:48:50.957801835Z"
    }
   },
   "id": "9170e6b34081e878"
  },
  {
   "cell_type": "code",
   "execution_count": 37,
   "outputs": [
    {
     "data": {
      "text/plain": "<matplotlib.collections.PathCollection at 0x7fafe9873650>"
     },
     "execution_count": 37,
     "metadata": {},
     "output_type": "execute_result"
    },
    {
     "data": {
      "text/plain": "<Figure size 640x480 with 1 Axes>",
      "image/png": "[encoded data removed]"
     },
     "metadata": {},
     "output_type": "display_data"
    }
   ],
   "source": [
    "plt.scatter([r[0] for r in results], [r[1] for r in results], s=1)"
   ],
   "metadata": {
    "collapsed": false,
    "ExecuteTime": {
     "end_time": "2023-11-08T13:49:05.654362122Z",
     "start_time": "2023-11-08T13:49:05.253586774Z"
    }
   },
   "id": "290c844983fbf900"
  },
  {
   "cell_type": "code",
   "execution_count": 32,
   "outputs": [
    {
     "data": {
      "text/plain": "2"
     },
     "execution_count": 32,
     "metadata": {},
     "output_type": "execute_result"
    }
   ],
   "source": [
    "np.clip(1, 2, 5)"
   ],
   "metadata": {
    "collapsed": false,
    "ExecuteTime": {
     "end_time": "2023-11-08T13:45:57.763522018Z",
     "start_time": "2023-11-08T13:45:57.717370590Z"
    }
   },
   "id": "131674ad9f0bb486"
  },
  {
   "cell_type": "markdown",
   "source": [
    "## Individual game"
   ],
   "metadata": {
    "collapsed": false
   },
   "id": "35fe6306a6f9675d"
  },
  {
   "cell_type": "code",
   "execution_count": 56,
   "outputs": [
    {
     "data": {
      "text/plain": "array([15, 18, 22, 15, 18, 22], dtype=int64)"
     },
     "execution_count": 56,
     "metadata": {},
     "output_type": "execute_result"
    }
   ],
   "source": [
    "risky_move_threshold = 50\n",
    "dir = \"../game_logs/unranked_games/u4r4/StrangeFish2\"\n",
    "game_id = \"1701716767\"\n",
    "\n",
    "game = GameHistory.from_file(os.path.join(dir, game_id, f\"game_{game_id}.log\"))\n",
    "game_log = os.path.join(dir, game_id, f\"move_scores_{game_id}.csv\")\n",
    "df = pd.read_csv(game_log)\n",
    "\n",
    "gr_df = df.groupby(\"move_number\")\n",
    "risky_moves = np.where(gr_df[\"analytical\"].max() - gr_df.first()[\"analytical\"] > risky_move_threshold)[0] + 1\n",
    "risky_moves = np.append(risky_moves, np.where(gr_df[\"analytical\"].max() - gr_df.first()[\"analytical\"] >= risky_move_threshold)[0] + 1)\n",
    "risky_moves\n",
    "\n",
    "\n",
    "\n",
    "# analytical_scores = gr_df.max()[\"analytical\"]\n",
    "# for move in risky_moves:\n",
    "#     category = np.digitize(analytical_scores[move], categories)\n",
    "#     if move < len(gr_df):\n",
    "#         result = np.digitize(analytical_scores[move] - analytical_scores[move+1], result_thresholds)\n",
    "#         results.iloc[3-category, result+1] += 1\n",
    "#     else:\n",
    "#         result = 2 * (game.get_white_player_name() == \"Zubat\") == game.get_winner_color()\n",
    "#         results.iloc[3-category, result+1] += 1"
   ],
   "metadata": {
    "collapsed": false,
    "ExecuteTime": {
     "end_time": "2023-12-13T05:47:46.158695600Z",
     "start_time": "2023-12-13T05:47:46.072697Z"
    }
   },
   "id": "3d64ea36f59983be"
  },
  {
   "cell_type": "code",
   "execution_count": 57,
   "outputs": [
    {
     "data": {
      "text/plain": "     move_number  move       score  analytical  uncertainty      gamble\n507           15  e4e5   31.864500 -115.603182     0.404987  528.258349\n508           15  e1e3   21.137266  -11.577182     0.102272  439.754000\n509           15  e1f2   12.785331  -66.594091     0.243324  452.458076\n510           15  b3d4   11.251639  -24.526045     0.151416  272.575000\n511           15  e1g3  -36.801903 -115.868091     0.299893  327.296000\n512           15  c1e3  -41.353170  -78.139545     0.161344  256.000000\n513           15  e1d2  -74.031595  -94.757727     0.326396  -73.000000\n514           15  h2h3  -75.985076 -139.006045     0.243324  318.000000\n515           15  d3d4  -90.270673 -182.021364     0.326266  362.428571\n516           15  a2a4 -124.958131 -214.957727     0.280663  441.335294\n517           15  c1g5 -129.597522 -222.124682     0.280663  459.346667\n518           15  g1h1 -131.196233 -186.751500     0.251538  241.725000\n519           15  c1f4 -150.670264 -240.083318     0.230609  575.451712\n520           15  c1d2 -154.691834 -207.503182     0.213757  294.125000\n521           15  g2h3 -159.369812 -200.449545     0.161344  309.220000\n522           15  0000 -172.861663 -205.203182     0.102272  432.461111\n523           15  c1h6 -175.784853 -220.496955     0.251538  155.510000\n524           15  c3c4 -184.731735 -203.948636     0.102272  175.800000\n525           15  h2h4 -209.875879 -255.621364     0.137181  466.937692\n526           15  a2a3 -211.496682 -244.266818     0.326396    0.800000\n527           15  f1f2 -222.582385 -294.530455     0.336049  228.200000\n528           15  f1f3 -231.726950 -256.596273     0.214576   31.800000\n529           15  c1b2 -238.351248 -258.521364     0.214576  -12.000000\n530           15  a1b1 -290.950023 -326.403182     0.336049   11.000000\n531           15  e1d1 -298.792039 -338.821364     0.137181  383.600000\n532           15  b3d2 -311.479038 -339.712273     0.326396  -27.000000\n533           15  e1h4 -354.386803 -442.439136     0.404987  234.840000\n534           15  c1a3 -365.127204 -426.768773     0.230038  335.925714\n535           15  f1f6 -366.111356 -414.247727     0.161344  396.693333\n536           15  f1f4 -385.914569 -402.619682     0.213757  -43.700000\n537           15  b3a5 -398.678485 -421.696955     0.243324  -10.800000\n538           15  g2g4 -404.264076 -440.441500     0.251538   87.650000\n539           15  g2g3 -407.493363 -408.023318     0.151416 -193.000000\n540           15  g1f2 -451.071235 -439.362864     0.137181 -370.700000\n541           15  e1e2 -467.054377 -485.057727     0.151416   37.800000\n542           15  b3c5 -470.317497 -485.066818     0.102272   88.433333\n543           15  f1f5 -793.015265 -781.421364     0.230038 -300.800000",
      "text/html": "<div>\n<style scoped>\n    .dataframe tbody tr th:only-of-type {\n        vertical-align: middle;\n    }\n\n    .dataframe tbody tr th {\n        vertical-align: top;\n    }\n\n    .dataframe thead th {\n        text-align: right;\n    }\n</style>\n<table border=\"1\" class=\"dataframe\">\n  <thead>\n    <tr style=\"text-align: right;\">\n      <th></th>\n      <th>move_number</th>\n      <th>move</th>\n      <th>score</th>\n      <th>analytical</th>\n      <th>uncertainty</th>\n      <th>gamble</th>\n    </tr>\n  </thead>\n  <tbody>\n    <tr>\n      <th>507</th>\n      <td>15</td>\n      <td>e4e5</td>\n      <td>31.864500</td>\n      <td>-115.603182</td>\n      <td>0.404987</td>\n      <td>528.258349</td>\n    </tr>\n    <tr>\n      <th>508</th>\n      <td>15</td>\n      <td>e1e3</td>\n      <td>21.137266</td>\n      <td>-11.577182</td>\n      <td>0.102272</td>\n      <td>439.754000</td>\n    </tr>\n    <tr>\n      <th>509</th>\n      <td>15</td>\n      <td>e1f2</td>\n      <td>12.785331</td>\n      <td>-66.594091</td>\n      <td>0.243324</td>\n      <td>452.458076</td>\n    </tr>\n    <tr>\n      <th>510</th>\n      <td>15</td>\n      <td>b3d4</td>\n      <td>11.251639</td>\n      <td>-24.526045</td>\n      <td>0.151416</td>\n      <td>272.575000</td>\n    </tr>\n    <tr>\n      <th>511</th>\n      <td>15</td>\n      <td>e1g3</td>\n      <td>-36.801903</td>\n      <td>-115.868091</td>\n      <td>0.299893</td>\n      <td>327.296000</td>\n    </tr>\n    <tr>\n      <th>512</th>\n      <td>15</td>\n      <td>c1e3</td>\n      <td>-41.353170</td>\n      <td>-78.139545</td>\n      <td>0.161344</td>\n      <td>256.000000</td>\n    </tr>\n    <tr>\n      <th>513</th>\n      <td>15</td>\n      <td>e1d2</td>\n      <td>-74.031595</td>\n      <td>-94.757727</td>\n      <td>0.326396</td>\n      <td>-73.000000</td>\n    </tr>\n    <tr>\n      <th>514</th>\n      <td>15</td>\n      <td>h2h3</td>\n      <td>-75.985076</td>\n      <td>-139.006045</td>\n      <td>0.243324</td>\n      <td>318.000000</td>\n    </tr>\n    <tr>\n      <th>515</th>\n      <td>15</td>\n      <td>d3d4</td>\n      <td>-90.270673</td>\n      <td>-182.021364</td>\n      <td>0.326266</td>\n      <td>362.428571</td>\n    </tr>\n    <tr>\n      <th>516</th>\n      <td>15</td>\n      <td>a2a4</td>\n      <td>-124.958131</td>\n      <td>-214.957727</td>\n      <td>0.280663</td>\n      <td>441.335294</td>\n    </tr>\n    <tr>\n      <th>517</th>\n      <td>15</td>\n      <td>c1g5</td>\n      <td>-129.597522</td>\n      <td>-222.124682</td>\n      <td>0.280663</td>\n      <td>459.346667</td>\n    </tr>\n    <tr>\n      <th>518</th>\n      <td>15</td>\n      <td>g1h1</td>\n      <td>-131.196233</td>\n      <td>-186.751500</td>\n      <td>0.251538</td>\n      <td>241.725000</td>\n    </tr>\n    <tr>\n      <th>519</th>\n      <td>15</td>\n      <td>c1f4</td>\n      <td>-150.670264</td>\n      <td>-240.083318</td>\n      <td>0.230609</td>\n      <td>575.451712</td>\n    </tr>\n    <tr>\n      <th>520</th>\n      <td>15</td>\n      <td>c1d2</td>\n      <td>-154.691834</td>\n      <td>-207.503182</td>\n      <td>0.213757</td>\n      <td>294.125000</td>\n    </tr>\n    <tr>\n      <th>521</th>\n      <td>15</td>\n      <td>g2h3</td>\n      <td>-159.369812</td>\n      <td>-200.449545</td>\n      <td>0.161344</td>\n      <td>309.220000</td>\n    </tr>\n    <tr>\n      <th>522</th>\n      <td>15</td>\n      <td>0000</td>\n      <td>-172.861663</td>\n      <td>-205.203182</td>\n      <td>0.102272</td>\n      <td>432.461111</td>\n    </tr>\n    <tr>\n      <th>523</th>\n      <td>15</td>\n      <td>c1h6</td>\n      <td>-175.784853</td>\n      <td>-220.496955</td>\n      <td>0.251538</td>\n      <td>155.510000</td>\n    </tr>\n    <tr>\n      <th>524</th>\n      <td>15</td>\n      <td>c3c4</td>\n      <td>-184.731735</td>\n      <td>-203.948636</td>\n      <td>0.102272</td>\n      <td>175.800000</td>\n    </tr>\n    <tr>\n      <th>525</th>\n      <td>15</td>\n      <td>h2h4</td>\n      <td>-209.875879</td>\n      <td>-255.621364</td>\n      <td>0.137181</td>\n      <td>466.937692</td>\n    </tr>\n    <tr>\n      <th>526</th>\n      <td>15</td>\n      <td>a2a3</td>\n      <td>-211.496682</td>\n      <td>-244.266818</td>\n      <td>0.326396</td>\n      <td>0.800000</td>\n    </tr>\n    <tr>\n      <th>527</th>\n      <td>15</td>\n      <td>f1f2</td>\n      <td>-222.582385</td>\n      <td>-294.530455</td>\n      <td>0.336049</td>\n      <td>228.200000</td>\n    </tr>\n    <tr>\n      <th>528</th>\n      <td>15</td>\n      <td>f1f3</td>\n      <td>-231.726950</td>\n      <td>-256.596273</td>\n      <td>0.214576</td>\n      <td>31.800000</td>\n    </tr>\n    <tr>\n      <th>529</th>\n      <td>15</td>\n      <td>c1b2</td>\n      <td>-238.351248</td>\n      <td>-258.521364</td>\n      <td>0.214576</td>\n      <td>-12.000000</td>\n    </tr>\n    <tr>\n      <th>530</th>\n      <td>15</td>\n      <td>a1b1</td>\n      <td>-290.950023</td>\n      <td>-326.403182</td>\n      <td>0.336049</td>\n      <td>11.000000</td>\n    </tr>\n    <tr>\n      <th>531</th>\n      <td>15</td>\n      <td>e1d1</td>\n      <td>-298.792039</td>\n      <td>-338.821364</td>\n      <td>0.137181</td>\n      <td>383.600000</td>\n    </tr>\n    <tr>\n      <th>532</th>\n      <td>15</td>\n      <td>b3d2</td>\n      <td>-311.479038</td>\n      <td>-339.712273</td>\n      <td>0.326396</td>\n      <td>-27.000000</td>\n    </tr>\n    <tr>\n      <th>533</th>\n      <td>15</td>\n      <td>e1h4</td>\n      <td>-354.386803</td>\n      <td>-442.439136</td>\n      <td>0.404987</td>\n      <td>234.840000</td>\n    </tr>\n    <tr>\n      <th>534</th>\n      <td>15</td>\n      <td>c1a3</td>\n      <td>-365.127204</td>\n      <td>-426.768773</td>\n      <td>0.230038</td>\n      <td>335.925714</td>\n    </tr>\n    <tr>\n      <th>535</th>\n      <td>15</td>\n      <td>f1f6</td>\n      <td>-366.111356</td>\n      <td>-414.247727</td>\n      <td>0.161344</td>\n      <td>396.693333</td>\n    </tr>\n    <tr>\n      <th>536</th>\n      <td>15</td>\n      <td>f1f4</td>\n      <td>-385.914569</td>\n      <td>-402.619682</td>\n      <td>0.213757</td>\n      <td>-43.700000</td>\n    </tr>\n    <tr>\n      <th>537</th>\n      <td>15</td>\n      <td>b3a5</td>\n      <td>-398.678485</td>\n      <td>-421.696955</td>\n      <td>0.243324</td>\n      <td>-10.800000</td>\n    </tr>\n    <tr>\n      <th>538</th>\n      <td>15</td>\n      <td>g2g4</td>\n      <td>-404.264076</td>\n      <td>-440.441500</td>\n      <td>0.251538</td>\n      <td>87.650000</td>\n    </tr>\n    <tr>\n      <th>539</th>\n      <td>15</td>\n      <td>g2g3</td>\n      <td>-407.493363</td>\n      <td>-408.023318</td>\n      <td>0.151416</td>\n      <td>-193.000000</td>\n    </tr>\n    <tr>\n      <th>540</th>\n      <td>15</td>\n      <td>g1f2</td>\n      <td>-451.071235</td>\n      <td>-439.362864</td>\n      <td>0.137181</td>\n      <td>-370.700000</td>\n    </tr>\n    <tr>\n      <th>541</th>\n      <td>15</td>\n      <td>e1e2</td>\n      <td>-467.054377</td>\n      <td>-485.057727</td>\n      <td>0.151416</td>\n      <td>37.800000</td>\n    </tr>\n    <tr>\n      <th>542</th>\n      <td>15</td>\n      <td>b3c5</td>\n      <td>-470.317497</td>\n      <td>-485.066818</td>\n      <td>0.102272</td>\n      <td>88.433333</td>\n    </tr>\n    <tr>\n      <th>543</th>\n      <td>15</td>\n      <td>f1f5</td>\n      <td>-793.015265</td>\n      <td>-781.421364</td>\n      <td>0.230038</td>\n      <td>-300.800000</td>\n    </tr>\n  </tbody>\n</table>\n</div>"
     },
     "execution_count": 57,
     "metadata": {},
     "output_type": "execute_result"
    }
   ],
   "source": [
    "df[df[\"move_number\"] == 15]"
   ],
   "metadata": {
    "collapsed": false,
    "ExecuteTime": {
     "end_time": "2023-12-13T05:47:54.427877700Z",
     "start_time": "2023-12-13T05:47:54.342878100Z"
    }
   },
   "id": "d0e0fd4bbc6f7907"
  },
  {
   "cell_type": "code",
   "execution_count": 58,
   "outputs": [
    {
     "name": "stdout",
     "output_type": "stream",
     "text": [
      "0 1701710908   11   21.994724523016856\n",
      "0 1701710908   22   -446.93768000000006\n",
      "0 1701710908   11   21.994724523016856\n",
      "0 1701710908   22   -446.93768000000006\n",
      "1 1701712629   9   -165.84553333333338\n",
      "1 1701712629   10   90.9823541666666\n",
      "1 1701712629   12   79.98775993827167\n",
      "1 1701712629   16   -136.25531192614807\n",
      "1 1701712629   24   -57.7018750000002\n",
      "1 1701712629   30   171.13770245189346\n",
      "1 1701712629   33   -737.8664466666667\n",
      "1 1701712629   92   -3651.9625000000005\n",
      "1 1701712629   9   -165.84553333333338\n",
      "1 1701712629   10   90.9823541666666\n",
      "1 1701712629   12   79.98775993827167\n",
      "1 1701712629   16   -136.25531192614807\n",
      "1 1701712629   24   -57.7018750000002\n",
      "1 1701712629   30   171.13770245189346\n",
      "1 1701712629   33   -737.8664466666667\n",
      "1 1701712629   92   -3651.9625000000005\n",
      "2 1701715296   24   -190.7957890909089\n",
      "2 1701715296   24   -190.7957890909089\n",
      "4 1701717758   13   24.74791071288679\n",
      "4 1701717758   43   23.715754773462322\n",
      "4 1701717758   13   24.74791071288679\n",
      "4 1701717758   43   23.715754773462322\n",
      "5 1701719503   33   -44.23627812500001\n",
      "5 1701719503   39   -1362.786313869863\n",
      "5 1701719503   33   -44.23627812500001\n",
      "5 1701719503   39   -1362.786313869863\n",
      "6 1701720936   78   151.82308806336732\n",
      "6 1701720936   78   151.82308806336732\n",
      "8 1701724653   56   -15.152500000000032\n",
      "8 1701724653   80   -99.94499999999971\n",
      "8 1701724653   56   -15.152500000000032\n",
      "8 1701724653   80   -99.94499999999971\n",
      "11 1701730570   34   -252.29985937499987\n",
      "11 1701730570   34   -252.29985937499987\n",
      "13 1701732610   25   -183.92009999999996\n",
      "13 1701732610   25   -183.92009999999996\n",
      "14 1701733678   24   16.257513157894806\n",
      "14 1701733678   27   28.76571029176654\n",
      "14 1701733678   28   -376.39533335939933\n",
      "14 1701733678   33   -187.0350800000001\n",
      "14 1701733678   42   -1051.6278496729597\n",
      "14 1701733678   44   -7469.2495\n",
      "14 1701733678   24   16.257513157894806\n",
      "14 1701733678   27   28.76571029176654\n",
      "14 1701733678   28   -376.39533335939933\n",
      "14 1701733678   33   -187.0350800000001\n",
      "14 1701733678   42   -1051.6278496729597\n",
      "14 1701733678   44   -7469.2495\n",
      "15 1701735513   49   -835.0165770897058\n",
      "15 1701735513   49   -835.0165770897058\n",
      "16 1701737188   14   -115.75433518518517\n",
      "16 1701737188   23   -70.99670969827582\n",
      "16 1701737188   14   -115.75433518518517\n",
      "16 1701737188   23   -70.99670969827582\n",
      "17 1701738602   24   -574.095\n",
      "17 1701738602   45   -644.395745605585\n",
      "17 1701738602   46   loss\n",
      "17 1701738602   24   -574.095\n",
      "17 1701738602   45   -644.395745605585\n",
      "17 1701738602   46   loss\n",
      "19 1701741588   14   -147.92159134615372\n",
      "19 1701741588   32   3.8449999999999136\n",
      "19 1701741588   38   -316.2952\n",
      "19 1701741588   14   -147.92159134615372\n",
      "19 1701741588   32   3.8449999999999136\n",
      "19 1701741588   38   -316.2952\n",
      "20 1701743173   19   -60.63000000000001\n",
      "20 1701743173   48   118.72999999999999\n",
      "20 1701743173   73   loss\n",
      "20 1701743173   19   -60.63000000000001\n",
      "20 1701743173   48   118.72999999999999\n",
      "20 1701743173   73   loss\n",
      "21 1701745477   10   -337.307693548387\n",
      "21 1701745477   10   -337.307693548387\n",
      "22 1701746276   71   97.45945408710259\n",
      "22 1701746276   73   loss\n",
      "22 1701746276   71   97.45945408710259\n",
      "22 1701746276   73   loss\n",
      "23 734750   24   -167.54190000000006\n",
      "23 734750   24   -167.54190000000006\n",
      "25 734769   9   -233.84228668594028\n",
      "25 734769   10   -61.561576776005865\n",
      "25 734769   25   25.0555555555556\n",
      "25 734769   9   -233.84228668594028\n",
      "25 734769   10   -61.561576776005865\n",
      "25 734769   25   25.0555555555556\n",
      "26 734781   93   -567.4499999999998\n",
      "26 734781   93   -567.4499999999998\n",
      "28 734818   31   45.97376470588239\n",
      "28 734818   51   34.75\n",
      "28 734818   67   -214.22175319446478\n",
      "28 734818   68   -139.55000000000018\n",
      "28 734818   70   -11.449999999999818\n",
      "28 734818   31   45.97376470588239\n",
      "28 734818   51   34.75\n",
      "28 734818   67   -214.22175319446478\n",
      "28 734818   68   -139.55000000000018\n",
      "28 734818   70   -11.449999999999818\n",
      "30 734889   19   -158.39199999999983\n",
      "30 734889   22   -113.10000000000002\n",
      "30 734889   19   -158.39199999999983\n",
      "30 734889   22   -113.10000000000002\n",
      "31 734906   19   -329.47306666666714\n",
      "31 734906   27   loss\n",
      "31 734906   19   -329.47306666666714\n",
      "31 734906   27   loss\n",
      "33 734942   9   39.76709412568306\n",
      "33 734942   22   -340.37005642946303\n",
      "33 734942   9   39.76709412568306\n",
      "33 734942   22   -340.37005642946303\n",
      "36 735014   13   -152.12397369696976\n",
      "36 735014   13   -152.12397369696976\n",
      "38 735039   52   -84.89499999999998\n",
      "38 735039   52   -84.89499999999998\n",
      "41 735073   49   61.337590909090906\n",
      "41 735073   49   61.337590909090906\n",
      "42 735087   52   loss\n",
      "42 735087   52   loss\n",
      "43 735096   40   81.73374999999999\n",
      "43 735096   41   -73.52000000000004\n",
      "43 735096   42   73.52000000000004\n",
      "43 735096   43   -73.52000000000004\n",
      "43 735096   44   73.52000000000004\n",
      "43 735096   45   -73.52000000000004\n",
      "43 735096   61   -1440.8175125\n",
      "43 735096   40   81.73374999999999\n",
      "43 735096   41   -73.52000000000004\n",
      "43 735096   42   73.52000000000004\n",
      "43 735096   43   -73.52000000000004\n",
      "43 735096   44   73.52000000000004\n",
      "43 735096   45   -73.52000000000004\n",
      "43 735096   61   -1440.8175125\n",
      "44 735116   18   -227.43300000000005\n",
      "44 735116   46   -1250.8828711000951\n",
      "44 735116   18   -227.43300000000005\n",
      "44 735116   46   -1250.8828711000951\n",
      "45 735128   7   -190.66969918152586\n",
      "45 735128   29   -27.09199999999987\n",
      "45 735128   37   29.49488457831319\n",
      "45 735128   38   -27.572673333333228\n",
      "45 735128   45   -383.8538224983954\n",
      "45 735128   7   -190.66969918152586\n",
      "45 735128   29   -27.09199999999987\n",
      "45 735128   37   29.49488457831319\n",
      "45 735128   38   -27.572673333333228\n",
      "45 735128   45   -383.8538224983954\n",
      "47 735153   12   -138.67580778032035\n",
      "47 735153   18   -47.999999999999886\n",
      "47 735153   12   -138.67580778032035\n",
      "47 735153   18   -47.999999999999886\n",
      "48 735158   14   -34.14668092044593\n",
      "48 735158   14   -34.14668092044593\n",
      "49 735170   51   -70.54719999999998\n",
      "49 735170   54   -41.797500000000014\n",
      "49 735170   64   138.70499999999998\n",
      "49 735170   65   -44.60000000000002\n",
      "49 735170   68   -73.69500000000005\n",
      "49 735170   51   -70.54719999999998\n",
      "49 735170   54   -41.797500000000014\n",
      "49 735170   64   138.70499999999998\n",
      "49 735170   65   -44.60000000000002\n",
      "49 735170   68   -73.69500000000005\n"
     ]
    }
   ],
   "source": [
    "risky_move_threshold = 100\n",
    "dir = \"../game_logs/unranked_games/u4r4/StrangeFish2\"\n",
    "for i, game_id in enumerate(os.listdir(dir)):\n",
    "    try:\n",
    "        game = GameHistory.from_file(os.path.join(dir, game_id, f\"game_{game_id}.log\"))\n",
    "        game_log = os.path.join(dir, game_id, f\"move_scores_{game_id}.csv\")\n",
    "        df = pd.read_csv(game_log)\n",
    "        \n",
    "        gr_df = df.groupby(\"move_number\")\n",
    "        risky_moves = np.where(gr_df[\"analytical\"].max() - gr_df.first()[\"analytical\"] > risky_move_threshold)[0] + 1\n",
    "        risky_moves = np.append(risky_moves, np.where(gr_df[\"analytical\"].max() - gr_df.first()[\"analytical\"] >= risky_move_threshold)[0] + 1)\n",
    "        \n",
    "        analytical_scores = gr_df.max()[\"analytical\"]\n",
    "        for move in risky_moves:\n",
    "            category = np.digitize(analytical_scores[move], categories)\n",
    "            if move < len(gr_df):\n",
    "                if analytical_scores[move+1] - analytical_scores[move] < 200:\n",
    "                    print(f\"{i} {game_id}   {move}   {analytical_scores[move+1] - analytical_scores[move]}\")\n",
    "            else:\n",
    "                print(f\"{i} {game_id}   {move}   {'win' if (game.get_white_player_name() == 'Zubat') == game.get_winner_color() else 'loss'}\")            \n",
    "    except:\n",
    "        pass"
   ],
   "metadata": {
    "collapsed": false,
    "ExecuteTime": {
     "end_time": "2023-12-13T06:36:51.936752900Z",
     "start_time": "2023-12-13T06:36:51.235752200Z"
    }
   },
   "id": "3f6f782aab169701"
  }
 ],
 "metadata": {
  "kernelspec": {
   "display_name": "Python 3",
   "language": "python",
   "name": "python3"
  },
  "language_info": {
   "codemirror_mode": {
    "name": "ipython",
    "version": 2
   },
   "file_extension": ".py",
   "mimetype": "text/x-python",
   "name": "python",
   "nbconvert_exporter": "python",
   "pygments_lexer": "ipython2",
   "version": "2.7.6"
  }
 },
 "nbformat": 4,
 "nbformat_minor": 5
}
