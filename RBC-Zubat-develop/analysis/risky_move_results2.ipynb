{
 "cells": [
  {
   "cell_type": "code",
   "execution_count": 2,
   "outputs": [
    {
     "name": "stdout",
     "output_type": "stream",
     "text": [
      "The autoreload extension is already loaded. To reload it, use:\n",
      "  %reload_ext autoreload\n"
     ]
    }
   ],
   "source": [
    "%load_ext autoreload\n",
    "%autoreload 2"
   ],
   "metadata": {
    "collapsed": false,
    "ExecuteTime": {
     "end_time": "2023-12-29T01:52:43.697272300Z",
     "start_time": "2023-12-29T01:52:43.651609600Z"
    }
   },
   "id": "66061f7b9f1ffdc2"
  },
  {
   "cell_type": "code",
   "execution_count": 3,
   "outputs": [],
   "source": [
    "import csv\n",
    "import re\n",
    "import pandas as pd\n",
    "import numpy as np\n",
    "\n",
    "import pandas\n",
    "import os\n",
    "\n",
    "from reconchess import GameHistory\n",
    "import matplotlib.pyplot as plt\n",
    "from tqdm import tqdm"
   ],
   "metadata": {
    "collapsed": false,
    "ExecuteTime": {
     "end_time": "2023-12-29T01:52:46.875768Z",
     "start_time": "2023-12-29T01:52:45.468125500Z"
    }
   },
   "id": "initial_id"
  },
  {
   "cell_type": "markdown",
   "source": [
    "### Find approximate quantiles"
   ],
   "metadata": {
    "collapsed": false
   },
   "id": "d2b8cd2abd0b009e"
  },
  {
   "cell_type": "code",
   "execution_count": 4,
   "outputs": [
    {
     "name": "stderr",
     "output_type": "stream",
     "text": [
      "100%|██████████| 2/2 [00:00<00:00, 106184.91it/s]\n",
      "100%|██████████| 2/2 [00:00<?, ?it/s]\n",
      "100%|██████████| 2/2 [00:00<00:00, 1998.24it/s]\n",
      "100%|██████████| 2/2 [00:00<00:00, 2001.10it/s]\n",
      "100%|██████████| 2/2 [00:00<00:00, 1997.76it/s]\n",
      "100%|██████████| 2/2 [00:00<?, ?it/s]\n",
      "100%|██████████| 2/2 [00:00<?, ?it/s]\n",
      "100%|██████████| 2/2 [00:00<00:00, 1995.39it/s]\n",
      "100%|██████████| 2/2 [00:00<?, ?it/s]\n",
      "100%|██████████| 2/2 [00:00<00:00, 2002.53it/s]\n",
      "100%|██████████| 2/2 [00:00<00:00, 2001.58it/s]\n",
      "100%|██████████| 2/2 [00:00<?, ?it/s]\n",
      "100%|██████████| 2/2 [00:00<?, ?it/s]\n",
      "100%|██████████| 2/2 [00:00<00:00, 1998.24it/s]\n",
      "100%|██████████| 2/2 [00:00<?, ?it/s]\n",
      "100%|██████████| 2/2 [00:00<00:00, 2001.58it/s]\n",
      "100%|██████████| 2/2 [00:00<00:00, 1917.40it/s]\n",
      "100%|██████████| 2/2 [00:00<?, ?it/s]\n",
      "100%|██████████| 2/2 [00:00<00:00, 2002.05it/s]\n",
      "100%|██████████| 2/2 [00:00<00:00, 2000.62it/s]\n",
      "100%|██████████| 2/2 [00:00<00:00, 1998.72it/s]\n",
      "100%|██████████| 2/2 [00:00<00:00, 1999.67it/s]\n",
      "100%|██████████| 2/2 [00:00<?, ?it/s]\n",
      "100%|██████████| 2/2 [00:00<?, ?it/s]\n",
      "100%|██████████| 2/2 [00:00<00:00, 1997.29it/s]\n",
      "100%|██████████| 2/2 [00:00<00:00, 1999.19it/s]\n",
      "100%|██████████| 2/2 [00:00<?, ?it/s]\n",
      "100%|██████████| 2/2 [00:00<?, ?it/s]\n",
      "100%|██████████| 2/2 [00:00<00:00, 1998.72it/s]\n",
      "100%|██████████| 2/2 [00:00<?, ?it/s]\n",
      "100%|██████████| 2/2 [00:00<?, ?it/s]\n",
      "100%|██████████| 2/2 [00:00<?, ?it/s]\n",
      "100%|██████████| 2/2 [00:00<?, ?it/s]\n",
      "100%|██████████| 2/2 [00:00<00:00, 1998.24it/s]\n",
      "100%|██████████| 2/2 [00:00<?, ?it/s]\n"
     ]
    }
   ],
   "source": [
    "data_path = \"../game_logs/ranked_games\"\n",
    "\n",
    "wins = []\n",
    "losses = []\n",
    "\n",
    "for batch in os.listdir(data_path):\n",
    "    if not os.path.isdir(os.path.join(data_path, batch)):\n",
    "        continue\n",
    "    for game_id in tqdm(os.listdir(os.path.join(data_path, batch))):\n",
    "        try:\n",
    "            game = GameHistory.from_file(os.path.join(data_path, batch, game_id, f\"game_{game_id}.log\"))\n",
    "            has_won = (game.get_white_player_name() == \"Zubat\") == game.get_winner_color()\n",
    "            game_log = os.path.join(data_path, batch, game_id, f\"move_scores_{game_id}.csv\")\n",
    "            df = pd.read_csv(game_log)\n",
    "            mx = df.groupby(\"move_number\").max()\n",
    "            if has_won:\n",
    "                wins.append(mx[\"analytical\"].to_list())\n",
    "            else:\n",
    "                losses.append(mx[\"analytical\"].to_list())\n",
    "        except:\n",
    "            pass"
   ],
   "metadata": {
    "collapsed": false,
    "ExecuteTime": {
     "end_time": "2023-12-29T01:50:56.727211900Z",
     "start_time": "2023-12-29T01:50:56.537665200Z"
    }
   },
   "id": "da2ed2066eb805ee"
  },
  {
   "cell_type": "code",
   "execution_count": 8,
   "outputs": [
    {
     "data": {
      "text/plain": "(667, 226)"
     },
     "execution_count": 8,
     "metadata": {},
     "output_type": "execute_result"
    }
   ],
   "source": [
    "len(wins), len(losses)"
   ],
   "metadata": {
    "collapsed": false,
    "ExecuteTime": {
     "end_time": "2023-11-08T12:22:35.618263461Z",
     "start_time": "2023-11-08T12:22:35.492152018Z"
    }
   },
   "id": "72247157616de8f4"
  },
  {
   "cell_type": "code",
   "execution_count": 9,
   "outputs": [
    {
     "data": {
      "text/plain": "44597"
     },
     "execution_count": 9,
     "metadata": {},
     "output_type": "execute_result"
    }
   ],
   "source": [
    "res = np.array([x for win in wins for x in win] + [x for loss in losses for x in loss] * 3)\n",
    "len(res)"
   ],
   "metadata": {
    "collapsed": false,
    "ExecuteTime": {
     "end_time": "2023-11-08T12:22:39.316207030Z",
     "start_time": "2023-11-08T12:22:39.249219842Z"
    }
   },
   "id": "7e99e871cb4fbb18"
  },
  {
   "cell_type": "code",
   "execution_count": 10,
   "outputs": [
    {
     "data": {
      "text/plain": "<Figure size 640x480 with 1 Axes>",
      "image/png": "[encoded data removed]"
     },
     "metadata": {},
     "output_type": "display_data"
    }
   ],
   "source": [
    "plt.hist(res, bins=100)\n",
    "plt.show()"
   ],
   "metadata": {
    "collapsed": false,
    "ExecuteTime": {
     "end_time": "2023-11-08T12:22:43.019509228Z",
     "start_time": "2023-11-08T12:22:42.679033020Z"
    }
   },
   "id": "cf8c49087f1a0f6d"
  },
  {
   "cell_type": "code",
   "execution_count": 11,
   "outputs": [
    {
     "data": {
      "text/plain": "(24299, 20298)"
     },
     "execution_count": 11,
     "metadata": {},
     "output_type": "execute_result"
    }
   ],
   "source": [
    "len(res[res >= 0]), len(res[res < 0])"
   ],
   "metadata": {
    "collapsed": false,
    "ExecuteTime": {
     "end_time": "2023-11-08T12:22:48.380264520Z",
     "start_time": "2023-11-08T12:22:48.336884756Z"
    }
   },
   "id": "45bd1e506860e956"
  },
  {
   "cell_type": "code",
   "execution_count": 12,
   "outputs": [
    {
     "data": {
      "text/plain": "([(0.0359, 365.34], (0.0359, 365.34], (0.0359, 365.34], (0.0359, 365.34], (0.0359, 365.34], ..., (365.34, 9538.0], (365.34, 9538.0], (0.0359, 365.34], (0.0359, 365.34], (0.0359, 365.34]]\n Length: 24299\n Categories (2, interval[float64, right]): [(0.0359, 365.34] < (365.34, 9538.0]],\n [(-426.252, -0.0204], (-426.252, -0.0204], (-426.252, -0.0204], (-426.252, -0.0204], (-426.252, -0.0204], ..., (-426.252, -0.0204], (-426.252, -0.0204], (-426.252, -0.0204], (-426.252, -0.0204], (-7519.336, -426.252]]\n Length: 20298\n Categories (2, interval[float64, right]): [(-7519.336, -426.252] < (-426.252, -0.0204]])"
     },
     "execution_count": 12,
     "metadata": {},
     "output_type": "execute_result"
    }
   ],
   "source": [
    "pd.qcut(res[res >= 0], 2), pd.qcut(res[res < 0], 2)"
   ],
   "metadata": {
    "collapsed": false,
    "ExecuteTime": {
     "end_time": "2023-11-08T12:22:49.890821990Z",
     "start_time": "2023-11-08T12:22:49.782376118Z"
    }
   },
   "id": "b8bb6e173488a8e0"
  },
  {
   "cell_type": "code",
   "execution_count": 13,
   "outputs": [
    {
     "data": {
      "text/plain": "(10679, 9619, 12963, 11336)"
     },
     "execution_count": 13,
     "metadata": {},
     "output_type": "execute_result"
    }
   ],
   "source": [
    "len(res[res < -400]), len(res[(res < 0) & (res >= -400)]), len(res[(res < 400) & (res >= 0)]), len(res[res >= 400])"
   ],
   "metadata": {
    "collapsed": false,
    "ExecuteTime": {
     "end_time": "2023-11-08T12:22:57.887839126Z",
     "start_time": "2023-11-08T12:22:57.803912052Z"
    }
   },
   "id": "8c7fbc9886b83d42"
  },
  {
   "cell_type": "markdown",
   "source": [
    "Ranges will be (-inf, -400), (-400, 0), (0, 400), (400, inf)"
   ],
   "metadata": {
    "collapsed": false
   },
   "id": "fbc2a790b20e7839"
  },
  {
   "cell_type": "markdown",
   "source": [
    "### Calculating"
   ],
   "metadata": {
    "collapsed": false
   },
   "id": "4bcdcaed6ffaf2d2"
  },
  {
   "cell_type": "code",
   "execution_count": 7,
   "outputs": [],
   "source": [
    "categories = [-400, 0, 400]\n",
    "result_thresholds = [-50, 50]\n",
    "risky_move_threshold = 50"
   ],
   "metadata": {
    "collapsed": false,
    "ExecuteTime": {
     "end_time": "2023-12-29T01:55:42.507870Z",
     "start_time": "2023-12-29T01:55:42.434465800Z"
    }
   },
   "id": "ff6d7183adc133e5"
  },
  {
   "cell_type": "code",
   "execution_count": 8,
   "outputs": [],
   "source": [
    "results = pd.DataFrame(\n",
    "    {\"category\": [\n",
    "        f\"(-inf, {categories[0]})\", \n",
    "        f\"({categories[0]}, {categories[1]})\", \n",
    "        f\"({categories[1]}, {categories[2]})\", \n",
    "        f\"({categories[2]}, inf)\"\n",
    "    ][::-1], \n",
    "     \"positive\": [0, 0, 0, 0], \"neutral\": [0, 0, 0, 0], \"negative\": [0, 0, 0, 0]})"
   ],
   "metadata": {
    "collapsed": false,
    "ExecuteTime": {
     "end_time": "2023-12-29T01:55:44.075971200Z",
     "start_time": "2023-12-29T01:55:44.002459900Z"
    }
   },
   "id": "c7ee971defe1a812"
  },
  {
   "cell_type": "code",
   "execution_count": null,
   "outputs": [
    {
     "name": "stderr",
     "output_type": "stream",
     "text": [
      "100%|██████████| 50/50 [00:00<00:00, 58.59it/s]\n",
      "100%|██████████| 51/51 [00:01<00:00, 42.47it/s]\n",
      "100%|██████████| 46/46 [00:00<00:00, 53.41it/s]\n",
      "100%|██████████| 50/50 [00:01<00:00, 45.79it/s]\n",
      "100%|██████████| 54/54 [00:00<00:00, 73.58it/s]\n",
      "100%|██████████| 53/53 [00:01<00:00, 50.59it/s]\n",
      "100%|██████████| 51/51 [00:00<00:00, 64.33it/s]\n",
      "100%|██████████| 56/56 [00:00<00:00, 64.15it/s]\n",
      "100%|██████████| 50/50 [00:00<00:00, 56.11it/s]\n",
      "100%|██████████| 50/50 [00:00<00:00, 59.52it/s]\n",
      "100%|██████████| 50/50 [00:00<00:00, 58.63it/s]\n",
      "100%|██████████| 50/50 [00:01<00:00, 45.74it/s]\n",
      "100%|██████████| 50/50 [00:00<00:00, 60.98it/s]\n",
      "100%|██████████| 50/50 [00:00<00:00, 50.28it/s]\n",
      "100%|██████████| 53/53 [00:00<00:00, 60.75it/s]\n",
      "100%|██████████| 51/51 [00:01<00:00, 46.45it/s]\n",
      "100%|██████████| 47/47 [00:00<00:00, 65.55it/s]\n",
      "100%|██████████| 51/51 [00:00<00:00, 55.29it/s]\n",
      "100%|██████████| 50/50 [00:00<00:00, 61.18it/s]\n",
      "100%|██████████| 50/50 [00:00<00:00, 56.30it/s]\n",
      "100%|██████████| 47/47 [00:00<00:00, 61.52it/s]\n",
      "100%|██████████| 52/52 [00:01<00:00, 43.40it/s]\n",
      "100%|██████████| 48/48 [00:00<00:00, 61.55it/s]\n",
      "100%|██████████| 50/50 [00:01<00:00, 49.46it/s]\n",
      "100%|██████████| 52/52 [00:00<00:00, 67.86it/s]\n",
      " 66%|██████▌   | 35/53 [00:00<00:00, 48.70it/s]"
     ]
    }
   ],
   "source": [
    "data_path = \"../game_logs/unranked_games\"\n",
    "for batch in os.listdir(data_path):\n",
    "    if not os.path.isdir(os.path.join(data_path, batch)):\n",
    "        continue\n",
    "    for bot in os.listdir(os.path.join(data_path, batch)):\n",
    "        for game_id in tqdm(os.listdir(os.path.join(data_path, batch, bot))):\n",
    "            try:\n",
    "                path = os.path.join(data_path, batch, bot, game_id)\n",
    "                game = GameHistory.from_file(os.path.join(path, f\"game_{game_id}.log\"))\n",
    "                game_log = os.path.join(path, f\"move_scores_{game_id}.csv\")\n",
    "                df = pd.read_csv(game_log)\n",
    "                \n",
    "                gr_df = df.groupby(\"move_number\")\n",
    "                risky_moves = np.where(gr_df[\"analytical\"].max() - gr_df.first()[\"analytical\"] < risky_move_threshold)[0] + 1\n",
    "                risky_moves = np.append(risky_moves, np.where(gr_df[\"analytical\"].max() - gr_df.first()[\"analytical\"] >= risky_move_threshold)[0] + 1)\n",
    "                \n",
    "                true_scores = gr_df.max()[\"true_score\"]\n",
    "                for move in risky_moves:\n",
    "                    category = np.digitize(true_scores[move], categories)\n",
    "                    if move < len(gr_df):\n",
    "                        result = np.digitize(true_scores[move] - true_scores[move + 1], result_thresholds)\n",
    "                        results.iloc[3-category, result+1] += 1\n",
    "                    else:\n",
    "                        result = 2 * (game.get_white_player_name() == \"Zubat\") == game.get_winner_color()\n",
    "                        results.iloc[3-category, result+1] += 1\n",
    "            except:\n",
    "                pass"
   ],
   "metadata": {
    "collapsed": false,
    "ExecuteTime": {
     "start_time": "2023-12-29T01:52:13.424800200Z"
    }
   },
   "id": "c6ed104c9d3c792d"
  },
  {
   "cell_type": "code",
   "execution_count": 7,
   "outputs": [
    {
     "data": {
      "text/plain": "       category  positive  neutral  negative\n0    (400, inf)      8259    31322      8106\n1      (0, 400)      5954    23234      5904\n2     (-400, 0)      5964    28674      6739\n3  (-inf, -400)      5869    23728      8144",
      "text/html": "<div>\n<style scoped>\n    .dataframe tbody tr th:only-of-type {\n        vertical-align: middle;\n    }\n\n    .dataframe tbody tr th {\n        vertical-align: top;\n    }\n\n    .dataframe thead th {\n        text-align: right;\n    }\n</style>\n<table border=\"1\" class=\"dataframe\">\n  <thead>\n    <tr style=\"text-align: right;\">\n      <th></th>\n      <th>category</th>\n      <th>positive</th>\n      <th>neutral</th>\n      <th>negative</th>\n    </tr>\n  </thead>\n  <tbody>\n    <tr>\n      <th>0</th>\n      <td>(400, inf)</td>\n      <td>8259</td>\n      <td>31322</td>\n      <td>8106</td>\n    </tr>\n    <tr>\n      <th>1</th>\n      <td>(0, 400)</td>\n      <td>5954</td>\n      <td>23234</td>\n      <td>5904</td>\n    </tr>\n    <tr>\n      <th>2</th>\n      <td>(-400, 0)</td>\n      <td>5964</td>\n      <td>28674</td>\n      <td>6739</td>\n    </tr>\n    <tr>\n      <th>3</th>\n      <td>(-inf, -400)</td>\n      <td>5869</td>\n      <td>23728</td>\n      <td>8144</td>\n    </tr>\n  </tbody>\n</table>\n</div>"
     },
     "execution_count": 7,
     "metadata": {},
     "output_type": "execute_result"
    }
   ],
   "source": [
    "results"
   ],
   "metadata": {
    "collapsed": false,
    "ExecuteTime": {
     "end_time": "2023-12-28T14:23:51.248639940Z",
     "start_time": "2023-12-28T14:23:51.195057727Z"
    }
   },
   "id": "3c591a5e10ce18b1"
  },
  {
   "cell_type": "code",
   "execution_count": 42,
   "outputs": [
    {
     "data": {
      "text/plain": "       category  positive  neutral  negative\n0    (400, inf)      2462     3351      1382\n1      (0, 400)      2128     3566      1406\n2     (-400, 0)      1350     1995       986\n3  (-inf, -400)      1124     1037      1285",
      "text/html": "<div>\n<style scoped>\n    .dataframe tbody tr th:only-of-type {\n        vertical-align: middle;\n    }\n\n    .dataframe tbody tr th {\n        vertical-align: top;\n    }\n\n    .dataframe thead th {\n        text-align: right;\n    }\n</style>\n<table border=\"1\" class=\"dataframe\">\n  <thead>\n    <tr style=\"text-align: right;\">\n      <th></th>\n      <th>category</th>\n      <th>positive</th>\n      <th>neutral</th>\n      <th>negative</th>\n    </tr>\n  </thead>\n  <tbody>\n    <tr>\n      <th>0</th>\n      <td>(400, inf)</td>\n      <td>2462</td>\n      <td>3351</td>\n      <td>1382</td>\n    </tr>\n    <tr>\n      <th>1</th>\n      <td>(0, 400)</td>\n      <td>2128</td>\n      <td>3566</td>\n      <td>1406</td>\n    </tr>\n    <tr>\n      <th>2</th>\n      <td>(-400, 0)</td>\n      <td>1350</td>\n      <td>1995</td>\n      <td>986</td>\n    </tr>\n    <tr>\n      <th>3</th>\n      <td>(-inf, -400)</td>\n      <td>1124</td>\n      <td>1037</td>\n      <td>1285</td>\n    </tr>\n  </tbody>\n</table>\n</div>"
     },
     "execution_count": 42,
     "metadata": {},
     "output_type": "execute_result"
    }
   ],
   "source": [
    "results"
   ],
   "metadata": {
    "collapsed": false,
    "ExecuteTime": {
     "end_time": "2023-11-08T14:27:59.340750871Z",
     "start_time": "2023-11-08T14:27:59.148675309Z"
    }
   },
   "id": "e680f609b5689903"
  },
  {
   "cell_type": "code",
   "execution_count": 53,
   "outputs": [
    {
     "data": {
      "text/plain": "       category  positive  neutral  negative\n0    (400, inf)      2895     3833      1782\n1      (0, 400)      2342     3755      1698\n2     (-400, 0)      1479     2093      1231\n3  (-inf, -400)      1256     1156      1501",
      "text/html": "<div>\n<style scoped>\n    .dataframe tbody tr th:only-of-type {\n        vertical-align: middle;\n    }\n\n    .dataframe tbody tr th {\n        vertical-align: top;\n    }\n\n    .dataframe thead th {\n        text-align: right;\n    }\n</style>\n<table border=\"1\" class=\"dataframe\">\n  <thead>\n    <tr style=\"text-align: right;\">\n      <th></th>\n      <th>category</th>\n      <th>positive</th>\n      <th>neutral</th>\n      <th>negative</th>\n    </tr>\n  </thead>\n  <tbody>\n    <tr>\n      <th>0</th>\n      <td>(400, inf)</td>\n      <td>2895</td>\n      <td>3833</td>\n      <td>1782</td>\n    </tr>\n    <tr>\n      <th>1</th>\n      <td>(0, 400)</td>\n      <td>2342</td>\n      <td>3755</td>\n      <td>1698</td>\n    </tr>\n    <tr>\n      <th>2</th>\n      <td>(-400, 0)</td>\n      <td>1479</td>\n      <td>2093</td>\n      <td>1231</td>\n    </tr>\n    <tr>\n      <th>3</th>\n      <td>(-inf, -400)</td>\n      <td>1256</td>\n      <td>1156</td>\n      <td>1501</td>\n    </tr>\n  </tbody>\n</table>\n</div>"
     },
     "execution_count": 53,
     "metadata": {},
     "output_type": "execute_result"
    }
   ],
   "source": [
    "results"
   ],
   "metadata": {
    "collapsed": false,
    "ExecuteTime": {
     "end_time": "2023-11-08T14:39:40.060716647Z",
     "start_time": "2023-11-08T14:39:39.990298684Z"
    }
   },
   "id": "8f576683ed30390e"
  },
  {
   "cell_type": "code",
   "execution_count": 8,
   "outputs": [
    {
     "data": {
      "text/plain": "       category  positive   neutral  negative\n0    (400, inf)  0.173192  0.656825  0.169983\n1      (0, 400)  0.169668  0.662088  0.168243\n2     (-400, 0)  0.144138  0.692994  0.162868\n3  (-inf, -400)  0.155507  0.628706  0.215787",
      "text/html": "<div>\n<style scoped>\n    .dataframe tbody tr th:only-of-type {\n        vertical-align: middle;\n    }\n\n    .dataframe tbody tr th {\n        vertical-align: top;\n    }\n\n    .dataframe thead th {\n        text-align: right;\n    }\n</style>\n<table border=\"1\" class=\"dataframe\">\n  <thead>\n    <tr style=\"text-align: right;\">\n      <th></th>\n      <th>category</th>\n      <th>positive</th>\n      <th>neutral</th>\n      <th>negative</th>\n    </tr>\n  </thead>\n  <tbody>\n    <tr>\n      <th>0</th>\n      <td>(400, inf)</td>\n      <td>0.173192</td>\n      <td>0.656825</td>\n      <td>0.169983</td>\n    </tr>\n    <tr>\n      <th>1</th>\n      <td>(0, 400)</td>\n      <td>0.169668</td>\n      <td>0.662088</td>\n      <td>0.168243</td>\n    </tr>\n    <tr>\n      <th>2</th>\n      <td>(-400, 0)</td>\n      <td>0.144138</td>\n      <td>0.692994</td>\n      <td>0.162868</td>\n    </tr>\n    <tr>\n      <th>3</th>\n      <td>(-inf, -400)</td>\n      <td>0.155507</td>\n      <td>0.628706</td>\n      <td>0.215787</td>\n    </tr>\n  </tbody>\n</table>\n</div>"
     },
     "execution_count": 8,
     "metadata": {},
     "output_type": "execute_result"
    }
   ],
   "source": [
    "results2 = results.copy()\n",
    "results2[\"positive\"] = results[\"positive\"] / (results[\"positive\"] + results[\"neutral\"] + results[\"negative\"])\n",
    "results2[\"neutral\"] = results[\"neutral\"] / (results[\"positive\"] + results[\"neutral\"] + results[\"negative\"])\n",
    "results2[\"negative\"] = results[\"negative\"] / (results[\"positive\"] + results[\"neutral\"] + results[\"negative\"])\n",
    "results2"
   ],
   "metadata": {
    "collapsed": false,
    "ExecuteTime": {
     "end_time": "2023-12-28T14:24:50.108476168Z",
     "start_time": "2023-12-28T14:24:50.048250566Z"
    }
   },
   "id": "bf0e591a6e687c8a"
  },
  {
   "cell_type": "code",
   "execution_count": 43,
   "outputs": [
    {
     "data": {
      "text/plain": "       category  positive   neutral  negative\n0    (400, inf)  0.342182  0.465740  0.192078\n1      (0, 400)  0.299718  0.502254  0.198028\n2     (-400, 0)  0.311706  0.460633  0.227661\n3  (-inf, -400)  0.326175  0.300929  0.372896",
      "text/html": "<div>\n<style scoped>\n    .dataframe tbody tr th:only-of-type {\n        vertical-align: middle;\n    }\n\n    .dataframe tbody tr th {\n        vertical-align: top;\n    }\n\n    .dataframe thead th {\n        text-align: right;\n    }\n</style>\n<table border=\"1\" class=\"dataframe\">\n  <thead>\n    <tr style=\"text-align: right;\">\n      <th></th>\n      <th>category</th>\n      <th>positive</th>\n      <th>neutral</th>\n      <th>negative</th>\n    </tr>\n  </thead>\n  <tbody>\n    <tr>\n      <th>0</th>\n      <td>(400, inf)</td>\n      <td>0.342182</td>\n      <td>0.465740</td>\n      <td>0.192078</td>\n    </tr>\n    <tr>\n      <th>1</th>\n      <td>(0, 400)</td>\n      <td>0.299718</td>\n      <td>0.502254</td>\n      <td>0.198028</td>\n    </tr>\n    <tr>\n      <th>2</th>\n      <td>(-400, 0)</td>\n      <td>0.311706</td>\n      <td>0.460633</td>\n      <td>0.227661</td>\n    </tr>\n    <tr>\n      <th>3</th>\n      <td>(-inf, -400)</td>\n      <td>0.326175</td>\n      <td>0.300929</td>\n      <td>0.372896</td>\n    </tr>\n  </tbody>\n</table>\n</div>"
     },
     "execution_count": 43,
     "metadata": {},
     "output_type": "execute_result"
    }
   ],
   "source": [],
   "metadata": {
    "collapsed": false,
    "ExecuteTime": {
     "end_time": "2023-11-08T14:28:03.371673602Z",
     "start_time": "2023-11-08T14:28:03.324083942Z"
    }
   },
   "id": "9a5522693fa11cbd"
  },
  {
   "cell_type": "code",
   "execution_count": 9,
   "outputs": [],
   "source": [
    "results.to_csv(\"tables/risk_results.csv\")\n",
    "results2.to_csv(\"tables/risk_results_percentage.csv\")"
   ],
   "metadata": {
    "collapsed": false,
    "ExecuteTime": {
     "end_time": "2023-12-28T14:26:00.469281052Z",
     "start_time": "2023-12-28T14:26:00.425238226Z"
    }
   },
   "id": "2edaa920edb870e8"
  },
  {
   "cell_type": "markdown",
   "source": [
    "### Graph"
   ],
   "metadata": {
    "collapsed": false
   },
   "id": "7d916731f17fb2fb"
  },
  {
   "cell_type": "code",
   "execution_count": 20,
   "outputs": [
    {
     "name": "stderr",
     "output_type": "stream",
     "text": [
      "100%|██████████| 50/50 [00:00<00:00, 125.43it/s]\n",
      "100%|██████████| 51/51 [00:00<00:00, 86.96it/s] \n",
      "100%|██████████| 46/46 [00:00<00:00, 109.64it/s]\n",
      "100%|██████████| 50/50 [00:00<00:00, 96.82it/s] \n",
      "100%|██████████| 54/54 [00:00<00:00, 128.73it/s]\n",
      "100%|██████████| 53/53 [00:00<00:00, 115.23it/s]\n",
      "100%|██████████| 51/51 [00:00<00:00, 124.06it/s]\n",
      "100%|██████████| 56/56 [00:00<00:00, 113.38it/s]\n",
      "100%|██████████| 50/50 [00:00<00:00, 121.95it/s]\n",
      "100%|██████████| 50/50 [00:00<00:00, 119.39it/s]\n",
      "100%|██████████| 50/50 [00:00<00:00, 122.74it/s]\n",
      "100%|██████████| 50/50 [00:00<00:00, 95.11it/s] \n",
      "100%|██████████| 50/50 [00:00<00:00, 126.19it/s]\n",
      "100%|██████████| 50/50 [00:00<00:00, 99.40it/s] \n",
      "100%|██████████| 53/53 [00:00<00:00, 122.02it/s]\n",
      "100%|██████████| 51/51 [00:00<00:00, 91.98it/s] \n",
      "100%|██████████| 47/47 [00:00<00:00, 126.53it/s]\n",
      "100%|██████████| 51/51 [00:00<00:00, 105.92it/s]\n",
      "100%|██████████| 50/50 [00:00<00:00, 131.23it/s]\n",
      "100%|██████████| 50/50 [00:00<00:00, 99.87it/s] \n",
      "100%|██████████| 47/47 [00:00<00:00, 128.54it/s]\n",
      "100%|██████████| 52/52 [00:00<00:00, 93.76it/s] \n",
      "100%|██████████| 48/48 [00:00<00:00, 122.77it/s]\n",
      "100%|██████████| 50/50 [00:00<00:00, 110.38it/s]\n",
      "100%|██████████| 52/52 [00:00<00:00, 115.42it/s]\n",
      "100%|██████████| 53/53 [00:00<00:00, 116.25it/s]\n",
      "100%|██████████| 55/55 [00:00<00:00, 126.42it/s]\n",
      "100%|██████████| 56/56 [00:00<00:00, 105.07it/s]\n",
      "100%|██████████| 50/50 [00:00<00:00, 119.12it/s]\n",
      "100%|██████████| 50/50 [00:00<00:00, 92.82it/s] \n",
      "100%|██████████| 50/50 [00:00<00:00, 124.53it/s]\n",
      "100%|██████████| 50/50 [00:00<00:00, 104.61it/s]\n",
      "100%|██████████| 51/51 [00:00<00:00, 109.09it/s]\n",
      "100%|██████████| 50/50 [00:00<00:00, 111.12it/s]\n",
      "100%|██████████| 50/50 [00:00<00:00, 135.04it/s]\n",
      "100%|██████████| 50/50 [00:00<00:00, 97.42it/s] \n",
      "100%|██████████| 50/50 [00:00<00:00, 125.16it/s]\n",
      "100%|██████████| 52/52 [00:00<00:00, 112.80it/s]\n",
      "100%|██████████| 50/50 [00:00<00:00, 114.16it/s]\n",
      "100%|██████████| 51/51 [00:00<00:00, 108.26it/s]\n",
      "100%|██████████| 52/52 [00:00<00:00, 132.43it/s]\n",
      "100%|██████████| 52/52 [00:00<00:00, 90.80it/s] \n",
      "100%|██████████| 49/49 [00:00<00:00, 121.82it/s]\n",
      "100%|██████████| 51/51 [00:00<00:00, 97.91it/s] \n",
      "100%|██████████| 56/56 [00:00<00:00, 143.64it/s]\n",
      "100%|██████████| 54/54 [00:00<00:00, 117.93it/s]\n",
      "100%|██████████| 53/53 [00:00<00:00, 115.91it/s]\n",
      "100%|██████████| 54/54 [00:00<00:00, 120.22it/s]\n",
      "100%|██████████| 48/48 [00:00<00:00, 117.01it/s]\n",
      "100%|██████████| 50/50 [00:00<00:00, 96.09it/s] \n",
      "100%|██████████| 50/50 [00:00<00:00, 113.45it/s]\n",
      "100%|██████████| 52/52 [00:00<00:00, 106.58it/s]\n",
      "100%|██████████| 64/64 [00:00<00:00, 109.96it/s]\n",
      "100%|██████████| 50/50 [00:00<00:00, 103.97it/s]\n",
      "100%|██████████| 50/50 [00:00<00:00, 127.94it/s]\n",
      "100%|██████████| 51/51 [00:00<00:00, 92.00it/s]\n",
      "100%|██████████| 50/50 [00:00<00:00, 112.11it/s]\n",
      "100%|██████████| 51/51 [00:00<00:00, 100.56it/s]\n",
      "100%|██████████| 50/50 [00:00<00:00, 117.85it/s]\n",
      "100%|██████████| 50/50 [00:00<00:00, 95.67it/s] \n",
      "100%|██████████| 51/51 [00:00<00:00, 126.28it/s]\n",
      "100%|██████████| 54/54 [00:00<00:00, 110.33it/s]\n",
      "100%|██████████| 50/50 [00:00<00:00, 107.67it/s]\n",
      "100%|██████████| 66/66 [00:00<00:00, 101.25it/s]\n",
      "100%|██████████| 50/50 [00:00<00:00, 136.71it/s]\n",
      "100%|██████████| 51/51 [00:00<00:00, 101.08it/s]\n",
      "100%|██████████| 53/53 [00:00<00:00, 129.88it/s]\n",
      "100%|██████████| 50/50 [00:00<00:00, 119.04it/s]\n",
      "100%|██████████| 60/60 [00:00<00:00, 115.71it/s]\n",
      "100%|██████████| 50/50 [00:00<00:00, 107.81it/s]\n"
     ]
    },
    {
     "data": {
      "text/plain": "[(8000, 8000),\n (-733, -5),\n (-738, -898),\n (-8000, -8000),\n (602, -8000),\n (92, -39),\n (-84, 27),\n (-8000, 8000),\n (897, -172),\n (-560, 5),\n (813, -14),\n (208, -29),\n (680, 78),\n (758, 7),\n (3554, 0),\n (505, 32),\n (-596, -256),\n (378, -100),\n (1185, 8000),\n (-665, -5),\n (-518, -197),\n (67, -30),\n (-107, -52),\n (4546, 46),\n (-743, -8000),\n (24, -686),\n (-234, -8),\n (8000, 8000),\n (8000, 8000),\n (8000, -4033),\n (546, -13),\n (-379, -46),\n (457, -75),\n (-765, -76),\n (-8000, -8000),\n (619, -95),\n (469, -13),\n (457, -86),\n (8000, 8000),\n (-997, -10),\n (797, -222),\n (820, -28),\n (4478, -4),\n (4477, 1),\n (-619, 10),\n (-601, -8000),\n (-532, -100),\n (-3753, 2605),\n (-1148, 8000),\n (-396, -101),\n (-674, -393),\n (-38, -79),\n (-105, -26),\n (-879, -8000),\n (721, 113),\n (834, 57),\n (8000, -7180),\n (-1139, -8000),\n (-64, -49),\n (633, -12),\n (598, 5),\n (-525, -34),\n (-559, -69),\n (-655, -65),\n (-720, -109),\n (-553, -157),\n (-8000, -8000),\n (-757, -18),\n (164, -967),\n (-607, 173),\n (-422, -178),\n (0, 279),\n (634, -459),\n (458, -59),\n (363, -11),\n (-92, -21),\n (8000, 8000),\n (-48, -57),\n (-547, -40),\n (537, -49),\n (-182, -64),\n (8000, 8000),\n (-373, -172),\n (-39, -79),\n (669, -44),\n (550, -1133),\n (-961, 36),\n (491, -16),\n (-42, -71),\n (-663, -157),\n (-46, -72),\n (277, -143),\n (82, -9),\n (414, 35),\n (-96, -158),\n (610, 26),\n (4172, -8),\n (4750, -8000),\n (-795, -8000),\n (692, -689),\n (14, -269),\n (-46, -72),\n (4, -25),\n (75, 453),\n (-8000, 8000),\n (-50, -328),\n (-427, 8),\n (-15, -25),\n (222, 351),\n (609, 18),\n (650, -5),\n (-8000, -8000),\n (559, 28),\n (-480, -46),\n (402, -32),\n (-43, -74),\n (-288, -369),\n (143, -60),\n (501, 61),\n (633, 46),\n (105, -8000),\n (21, 2),\n (-8000, -8000),\n (-566, 70),\n (533, -28),\n (554, -18),\n (480, 32),\n (513, 254),\n (8, 9),\n (-488, -21),\n (-628, -39),\n (-225, -247),\n (-444, -184),\n (-8000, -8000),\n (-8000, -8000),\n (-353, -74),\n (-594, -114),\n (-507, 507),\n (-729, -63),\n (-792, 0),\n (618, 5),\n (576, -5),\n (571, 8),\n (-403, -107),\n (8000, -8000),\n (-396, -307),\n (-703, -222),\n (-925, -46),\n (21, -428),\n (144, -63),\n (81, -60),\n (3723, 618),\n (206, -156),\n (-610, -2),\n (-614, 0),\n (-614, 17),\n (706, 0),\n (752, 0),\n (1381, -602),\n (8000, 8000),\n (8000, -8000),\n (15, 206),\n (-847, -328),\n (8000, 8000),\n (8000, 8000),\n (8000, 0),\n (-39, -79),\n (-214, 3),\n (-39, -68),\n (-128, -527),\n (687, -1076),\n (637, -8000),\n (893, -68),\n (683, 155),\n (636, 92),\n (8000, -8000),\n (609, 8000),\n (297, 15),\n (-350, -167),\n (-494, -48),\n (612, -16),\n (586, -26),\n (8000, -8000),\n (-597, -120),\n (-720, -519),\n (-8000, 8000),\n (142, -556),\n (-479, -106),\n (-55, -67),\n (-122, 5),\n (-8000, -8000),\n (-8000, -8000),\n (-8000, 8000),\n (269, -176),\n (811, 670),\n (-39, -61),\n (632, -100),\n (660, -69),\n (8000, 8000),\n (8000, 8000),\n (8000, 8000),\n (47, -94),\n (362, 136),\n (551, -32),\n (546, 8000),\n (688, 17),\n (678, -33),\n (645, -123),\n (522, -105),\n (574, 8),\n (582, 49),\n (631, -7),\n (542, -198),\n (434, 427),\n (-8000, 0),\n (-536, -66),\n (-45, -56),\n (-143, -19),\n (-162, -169),\n (172, -18),\n (60, 8000),\n (8000, 8000),\n (-92, -13),\n (192, -355),\n (847, -164),\n (527, 1),\n (572, -30),\n (589, 23),\n (48, -94),\n (702, 93),\n (451, -40),\n (674, -40),\n (634, 28),\n (662, -70),\n (590, 74),\n (213, -338),\n (473, -121),\n (0, 8000),\n (112, 68),\n (537, -92),\n (562, 18),\n (580, -126),\n (8000, 8000),\n (8000, 8000),\n (8000, -8000),\n (-32, -47),\n (870, -8),\n (797, 479),\n (1308, 0),\n (1308, 8000),\n (534, 106),\n (663, 153),\n (586, -81),\n (8000, 8000),\n (8000, 8000),\n (8000, 8000),\n (8000, 8000),\n (1510, 8000),\n (8000, 8000),\n (-379, -230),\n (-620, -15),\n (-38, -63),\n (644, -54),\n (593, -8000),\n (337, -414),\n (-276, -49),\n (-601, -330),\n (-1093, -105),\n (-428, -77),\n (239, 26),\n (489, 8000),\n (-106, -54),\n (-172, 49),\n (-574, -123),\n (638, -121),\n (521, -92),\n (139, -158),\n (664, 8000),\n (8000, 8000),\n (8000, 8000),\n (73, -95),\n (-22, -626),\n (-565, -196),\n (220, -59),\n (710, -38),\n (834, 145),\n (979, -150),\n (825, -50),\n (825, 27),\n (852, -196),\n (1050, -17),\n (-123, -61),\n (-172, -57),\n (-40, 674),\n (93, -77),\n (16, -553),\n (-26, -124),\n (-394, -2),\n (-638, -13),\n (329, -334),\n (134, -38),\n (-795, -37),\n (-847, -246),\n (-1144, -68),\n (-8000, 8000),\n (-766, -8000),\n (-8000, -8000),\n (-8000, 8000),\n (555, -121),\n (434, -2),\n (583, 17),\n (600, -19),\n (8000, 8000),\n (8000, -3536),\n (8000, 8000),\n (8000, 8000),\n (8000, 8000),\n (8000, 8000),\n (8000, 8000),\n (8000, 8000),\n (8000, 8000),\n (8000, 8000),\n (8000, 8000),\n (8000, 8000),\n (8000, 8000),\n (8000, 8000),\n (8000, 8000),\n (8000, 8000),\n (8000, 8000),\n (8000, 8000),\n (8000, 8000),\n (8000, 8000),\n (8000, -8000),\n (189, -23),\n (249, 14),\n (323, -1),\n (631, 40),\n (377, -95),\n (-152, -551),\n (-788, -4),\n (-792, 212),\n (-562, -21),\n (-583, -127),\n (420, -45),\n (653, 21),\n (709, -25),\n (3624, 22),\n (208, -122),\n (86, -4),\n (159, -136),\n (-708, -54),\n (-875, -326),\n (-270, 15),\n (-196, -327),\n (-568, -5),\n (-8000, 8000),\n (7, 212),\n (219, -10),\n (-336, -61),\n (-422, -129),\n (-783, -156),\n (-1007, -8000),\n (-384, -8000),\n (-8000, 7728),\n (-829, 63),\n (64, 90),\n (-590, -4),\n (-560, 40),\n (-533, -25),\n (-545, 5),\n (-567, 26),\n (-633, 221),\n (-523, -199),\n (-621, -527),\n (71, -78),\n (-7, -464),\n (-430, 27),\n (-367, -138),\n (-861, -32),\n (-893, -186),\n (-1079, 77),\n (-1007, -27),\n (372, 38),\n (410, -56),\n (641, -206),\n (403, -46),\n (471, 45),\n (727, -17),\n (736, -8000),\n (17, 202),\n (219, -325),\n (-539, -39),\n (-902, -100),\n (-8000, -8000),\n (71, -30),\n (107, -394),\n (-596, -78),\n (-789, -36),\n (-736, -171),\n (-8000, -8000),\n (-8000, 8000),\n (-272, -420),\n (-772, 42),\n (-1039, 0),\n (-1039, -18),\n (-8000, -8000),\n (-332, -174),\n (-506, 28),\n (-346, 8000),\n (-79, -85),\n (-103, -480),\n (-524, -60),\n (-8000, -8000),\n (-625, -25),\n (-512, -7),\n (-551, -20),\n (-479, 136),\n (-546, 70),\n (-101, -283),\n (-384, -264),\n (-648, -330),\n (-8000, -8000),\n (29, -22),\n (-278, -255),\n (-142, 3),\n (467, -70),\n (395, -34),\n (446, 0),\n (398, 48),\n (453, 4),\n (452, -6),\n (455, 15),\n (647, 20),\n (647, 24),\n (638, 49),\n (658, -17),\n (367, 35),\n (-462, -41),\n (-629, -196),\n (-1249, -50),\n (-8000, -8000),\n (-8000, 8000),\n (4, -49),\n (102, -90),\n (42, -118),\n (-220, -446),\n (-8000, -8000),\n (328, -307),\n (113, -36),\n (39, -119),\n (-235, 18),\n (8000, 8000),\n (8000, 8000),\n (8000, 8000),\n (8000, 8000),\n (8000, 8000),\n (8000, -8000),\n (-52, -22),\n (-28, 529),\n (603, 298),\n (911, 63),\n (1103, -10),\n (1092, -39),\n (1139, -33),\n (30, -437),\n (-407, -217),\n (-566, 27),\n (-463, 34),\n (-11, -227),\n (-166, -238),\n (318, -304),\n (222, 9),\n (282, -24),\n (303, 4),\n (313, 5),\n (351, -8),\n (630, -17),\n (396, 170),\n (0, 562),\n (562, -185),\n (396, -885),\n (-132, -686),\n (-811, -260),\n (-1013, 6),\n (-1116, 9),\n (-1107, -151),\n (-1596, -8000),\n (-596, -139),\n (-735, -105),\n (-8000, 8000),\n (-489, -2),\n (-568, 42),\n (-526, 67),\n (-455, 19),\n (18, 311),\n (471, -13),\n (407, 35),\n (293, 87),\n (637, -273),\n (364, 181),\n (545, 120),\n (661, -2),\n (659, -72),\n (589, -12),\n (600, -8000),\n (668, -72),\n (582, -4),\n (-400, 146),\n (193, -25),\n (325, -97),\n (366, -83),\n (283, -10),\n (368, -17),\n (364, -44),\n (320, -63),\n (278, 283),\n (121, -86),\n (26, -30),\n (-4, -7),\n (-8, -374),\n (-333, -7),\n (-402, -222),\n (-8000, -8000),\n (449, 603),\n (1089, -179),\n (910, -5),\n (802, -148),\n (588, -1119),\n (-540, -198),\n (9, -26),\n (-636, -147),\n (-8000, -8000),\n (89, 23),\n (-19, -34),\n (548, -270),\n (278, 291),\n (-582, -60),\n (-560, 60),\n (-675, -23),\n (-731, -413),\n (-1144, -157),\n (-1301, -30),\n (169, 8),\n (91, 21),\n (324, -298),\n (-88, 45),\n (-36, -46),\n (-55, -9),\n (-96, 23),\n (-59, 26),\n (30, -366),\n (-350, -162),\n (-287, -28),\n (388, 12),\n (516, -49),\n (391, -18),\n (472, -119),\n (460, -82),\n (493, -115),\n (442, -8000),\n (0, -139),\n (528, -69),\n (501, 10),\n (549, -6),\n (543, -31),\n (505, 101),\n (612, 523),\n (-18, -169),\n (579, -75),\n (504, -500),\n (-4, -3),\n (1062, -17),\n (1045, -61),\n (984, -68),\n (1392, -89),\n (733, -39),\n (911, 14),\n (867, 107),\n (1043, -10),\n (1033, 8000),\n (1072, -211),\n (851, -4),\n (816, -19),\n (985, -8000),\n (623, -207),\n (345, -31),\n (-5, -153),\n (-310, -103),\n (-413, -67),\n (-480, 27),\n (-689, 123),\n (-232, -48),\n (-280, -155),\n (-435, -234),\n (-535, -285),\n (-5, -145),\n (-583, -55),\n (-843, 971),\n (403, 2),\n (-59, 312),\n (242, -213),\n (-81, 20),\n (76, -41),\n (817, 2592),\n (3494, -18),\n (3509, -1),\n (3508, 22),\n (3530, -21),\n (3526, -6),\n (3520, 10),\n (3530, -28),\n (3502, 25),\n (3440, 77),\n (3517, -5),\n (3512, 0),\n (4293, -11),\n (4289, -23),\n (4266, 8),\n (4272, 35),\n (4307, 8000),\n (8000, 8000),\n (4293, 8000),\n (4330, 8000),\n (8000, 8000),\n (8000, -3715),\n (4285, -28),\n (4257, 6),\n (4302, -18),\n (4284, -16),\n (4296, 14),\n (4310, -29),\n (4281, -8000),\n (-25, -127),\n (-421, -68),\n (-418, -189),\n (-676, -181),\n (-1271, 8000),\n (494, -51),\n (-113, -65),\n (-200, -25),\n (811, 41),\n (852, 68),\n (844, -10),\n (815, -8),\n (807, -179),\n (674, -115),\n (553, -49),\n (495, 14),\n (533, -3),\n (599, -186),\n (361, 213),\n (8000, 8000),\n (8000, 8000),\n (8000, 8000),\n (8000, 8000),\n (8000, 8000),\n (8000, 8000),\n (8000, 0),\n (39, -41),\n (583, -18),\n (-42, -17),\n (642, -70),\n (598, 66),\n (789, 3),\n (811, -39),\n (798, 36),\n (834, -49),\n (1013, -16),\n (-123, -38),\n (-161, -13),\n (624, -87),\n (8000, 8000),\n (8000, 8000),\n (-123, -41),\n (69, -315),\n (-504, -67),\n (-571, -68),\n (-8000, -8000),\n (-8000, 8000),\n (-118, -45),\n (616, -10),\n (-112, -50),\n (961, 9),\n (978, 5),\n (1011, -23),\n (1007, -39),\n (963, -468),\n (879, 10),\n (1025, 18),\n (1043, 16),\n (1138, -78),\n (1126, -83),\n (644, -66),\n (557, -44),\n (493, 2),\n (601, -8),\n (834, -18),\n (3607, -31),\n (3553, -2692),\n (241, 2),\n (243, 1),\n (183, -2),\n (289, -179),\n (539, -2),\n (644, -104),\n (554, -15),\n (557, -3),\n (642, -13),\n (536, 8000),\n (343, 182),\n (619, -104),\n (515, -96),\n (8000, 8000),\n (8000, 8000),\n (8000, 8000),\n (8000, 8000),\n (8000, 8000),\n (-28, -142),\n (640, -32),\n (608, 39),\n (647, 59),\n (627, 38),\n (665, -41),\n (593, 5),\n (598, 3),\n (601, 18),\n (619, 7),\n (633, -22),\n (611, -8000),\n (672, -21),\n (0, -157),\n (-134, -5),\n (-383, -243),\n (-624, -1),\n (404, 78),\n (525, 8000),\n (587, -19),\n (422, -61),\n (521, 36),\n (540, -125),\n (376, 35),\n (411, 146),\n (503, 13),\n (8000, 8000),\n (598, -11),\n (3, -149),\n (-888, -119),\n (-22, -157),\n (-465, -16),\n (316, -731),\n (9, -155),\n (-177, -80),\n (-67, -180),\n (-525, -154),\n (-38, -65),\n (184, 44),\n (228, 0),\n (-31, -77),\n (575, -36),\n (657, -155),\n (281, 328),\n (632, 21),\n (653, -30),\n (8000, 8000),\n (8000, 8000),\n (8000, -8000),\n (-8000, -8000),\n (-35, -71),\n (596, -124),\n (-475, -20),\n (-3753, -8000),\n (-8000, -8000),\n (-33, -71),\n (-579, -195),\n (-33, -63),\n (843, 18),\n (866, -36),\n (802, 15),\n (870, 27),\n (8000, 8000),\n (8000, 8000),\n (-498, -273),\n (-59, -120),\n (1002, 32),\n (1002, 26),\n (-779, -314),\n (633, -401),\n (344, -347),\n (-25, -452),\n (-483, -242),\n (-929, -215),\n (-1144, -48),\n (-31, -71),\n (671, 27),\n (739, 8000),\n (-111, -34),\n (-145, -94),\n (-37, -66),\n (416, -183),\n (578, -89),\n (541, -8000),\n (1019, 15),\n (1034, -82),\n (893, 23),\n (-79, 4),\n (-136, -177),\n (-242, -102),\n (-8000, 8000),\n (-39, -63),\n (-8000, 8000),\n (-100, -76),\n (-720, -101),\n (-866, -41),\n (-1098, -146),\n (-1244, 77),\n (253, 241),\n (566, 135),\n (730, -26),\n (704, -6),\n (673, -3),\n (696, 201),\n (897, 23),\n (21, -108),\n (-425, 14),\n (-411, -91),\n (143, -73),\n (50, -14),\n (36, 2),\n (38, -582),\n (-544, -21),\n (-307, -71),\n (-378, -35),\n (-413, -77),\n (-501, -62),\n (-563, 35),\n (-471, 80),\n (-391, -69),\n (-460, -7),\n (-467, -35),\n (-502, -31),\n (-533, 15),\n (-518, -42),\n (-546, -49),\n (-487, -34),\n (-521, -13),\n (-577, -57),\n (-192, -573),\n (31, -65),\n (49, -3),\n (10, -3),\n (-699, -33),\n (-8000, -8000),\n (-8000, -8000),\n (79, -97),\n (41, 284),\n (-64, -17),\n (-81, -157),\n (-238, 2),\n (-155, 0),\n (-467, -70),\n (-537, -78),\n (-615, 12),\n (-651, -26),\n (122, -19),\n (-452, -31),\n (31, -3),\n (61, -43),\n (18, -8),\n (-530, -64),\n (-553, 14),\n (51, 106),\n (703, -41),\n (659, -8000),\n (-628, 66),\n (-806, 179),\n (-624, 92),\n (-532, 369),\n (437, 77),\n (514, -65),\n (8000, 8000),\n (8000, 8000),\n (8000, 8000),\n (8000, 8000),\n (8000, 8000),\n (-529, -74),\n (-416, -10),\n (-511, -17),\n (-619, -78),\n (56, -63),\n (10, -4),\n (6, 15),\n (21, 243),\n (264, 405),\n (669, -669),\n (-16, -36),\n (-33, -7),\n (-178, -58),\n (52, -53),\n (-1, -434),\n (-577, 64),\n (-861, -36),\n (-897, -32),\n (-929, 0),\n (-929, -55),\n (34, -8),\n (173, 12),\n (114, -37),\n (77, -769),\n (-724, -56),\n (-780, -3),\n (-8000, 8000),\n (-280, -424),\n (-797, -50),\n (-847, -255),\n (-1102, -5),\n (-1157, -288),\n (-1524, -63),\n (-68, -239),\n (-336, -249),\n (-492, -123),\n (304, 58),\n (390, 34),\n (336, -26),\n (332, 186),\n (561, -7),\n (554, -60),\n (691, -13),\n (690, 0),\n (741, -18),\n (730, 52),\n (782, 28),\n (810, 6),\n (816, -42),\n (774, 20),\n (794, 39),\n (7, -100),\n (-93, -77),\n (-123, 76),\n (302, -116),\n (-453, -66),\n (-519, 39),\n (-530, -145),\n (-675, -8000),\n (-82, 97),\n (203, -134),\n (69, 160),\n (-33, -38),\n (-164, -44),\n (-196, -157),\n (-353, 779),\n (783, -82),\n (701, -74),\n (-21, -437),\n (-431, -162),\n (-613, -69),\n (-854, 47),\n (-578, -411),\n (-8000, 8000),\n (525, 85),\n (-557, -187),\n (-184, -340),\n (-524, 130),\n (-1098, -8000),\n (-8000, 8000),\n (-607, -55),\n (-657, -89),\n (-643, -55),\n (-788, -55),\n (-8000, -8000),\n (-5, -9),\n (16, -45),\n (-443, -174),\n (-2, -3),\n (-458, -12),\n (-446, -265),\n (-737, -621),\n (-188, -276),\n (-464, 211),\n (-369, -96),\n (-465, 36),\n (-465, -487),\n (-952, 41),\n (-911, -73),\n (-1034, 341),\n (-693, -236),\n (-8000, -8000),\n (-7, -28),\n (55, 3),\n (0, 0),\n (0, 0),\n (0, -403),\n (-403, 35),\n (-570, -42),\n (-4, -49),\n (788, 51),\n (870, 8000),\n (-91, -150),\n (25, 67),\n (92, 48),\n (-542, -65),\n ...]"
     },
     "execution_count": 20,
     "metadata": {},
     "output_type": "execute_result"
    }
   ],
   "source": [
    "data_path = \"../game_logs/unranked_games\"\n",
    "\n",
    "results = []\n",
    "for batch in os.listdir(data_path):\n",
    "    if not os.path.isdir(os.path.join(data_path, batch)):\n",
    "        continue\n",
    "    for bot in os.listdir(os.path.join(data_path, batch)):\n",
    "        for game_id in tqdm(os.listdir(os.path.join(data_path, batch, bot))):\n",
    "            try:\n",
    "                path = os.path.join(data_path, batch, bot, game_id)\n",
    "                game = GameHistory.from_file(os.path.join(path, f\"game_{game_id}.log\"))\n",
    "                game_log = os.path.join(path, f\"move_scores_{game_id}.csv\")\n",
    "                df = pd.read_csv(game_log)\n",
    "                \n",
    "                gr_df = df.groupby(\"move_number\")\n",
    "                risky_moves = np.where(gr_df[\"analytical\"].max() - gr_df.first()[\"analytical\"] > risky_move_threshold)[0] + 1\n",
    "                \n",
    "                true_scores = gr_df.max()[\"true_score\"]\n",
    "                for move in risky_moves:\n",
    "                    if move < len(gr_df):\n",
    "                        if abs(true_scores[move+1]) == 8000:\n",
    "                            results.append((true_scores[move], true_scores[move+1]))\n",
    "                        else:\n",
    "                            results.append((true_scores[move], true_scores[move + 1] - true_scores[move]))\n",
    "                    else:\n",
    "                        result = 2 * (game.get_white_player_name() == \"Zubat\") == game.get_winner_color() - 1\n",
    "                        results.append((true_scores[move], result * 8000))\n",
    "            except:\n",
    "                pass\n",
    "            \n",
    "results"
   ],
   "metadata": {
    "collapsed": false,
    "ExecuteTime": {
     "end_time": "2023-12-29T02:10:48.222811500Z",
     "start_time": "2023-12-29T02:10:15.726709600Z"
    }
   },
   "id": "9170e6b34081e878"
  },
  {
   "cell_type": "code",
   "execution_count": 36,
   "outputs": [
    {
     "data": {
      "text/plain": "<Figure size 640x480 with 1 Axes>",
      "image/png": "[encoded data removed]"
     },
     "metadata": {},
     "output_type": "display_data"
    }
   ],
   "source": [
    "plt.scatter([r[0] for r in results], [r[1] for r in results], s=1)\n",
    "plt.xlim(-5000, 5000)\n",
    "plt.ylim(-10000, 10000)\n",
    "\n",
    "plt.title(\"Unconventional move scatterplot\")\n",
    "plt.xlabel(\"Position evaluation before move\")\n",
    "plt.ylabel(\"Evaluation delta after move\")\n",
    "\n",
    "plt.savefig('imgs/unconventional_move_scatter.png')"
   ],
   "metadata": {
    "collapsed": false,
    "ExecuteTime": {
     "end_time": "2023-12-29T05:56:19.167481200Z",
     "start_time": "2023-12-29T05:56:18.886374700Z"
    }
   },
   "id": "290c844983fbf900"
  },
  {
   "cell_type": "code",
   "execution_count": 37,
   "outputs": [
    {
     "data": {
      "text/plain": "<Figure size 640x480 with 1 Axes>",
      "image/png": "[encoded data removed]"
     },
     "metadata": {},
     "output_type": "display_data"
    }
   ],
   "source": [
    "plt.scatter([r[0] for r in results], [r[1] for r in results], s=1)\n",
    "plt.xlim(-1300, 1300)\n",
    "plt.ylim(-1000, 1000)\n",
    "\n",
    "plt.title(\"Unconventional move scatterplot (central cluster)\")\n",
    "plt.xlabel(\"Position evaluation before move\")\n",
    "plt.ylabel(\"Evaluation delta after move\")\n",
    "\n",
    "plt.savefig('imgs/unconventional_move_scatter2.png')"
   ],
   "metadata": {
    "collapsed": false,
    "ExecuteTime": {
     "end_time": "2023-12-29T05:56:33.830615600Z",
     "start_time": "2023-12-29T05:56:33.550067900Z"
    }
   },
   "id": "131674ad9f0bb486"
  },
  {
   "cell_type": "markdown",
   "source": [
    "## Individual game"
   ],
   "metadata": {
    "collapsed": false
   },
   "id": "35fe6306a6f9675d"
  },
  {
   "cell_type": "code",
   "execution_count": 56,
   "outputs": [
    {
     "data": {
      "text/plain": "array([15, 18, 22, 15, 18, 22], dtype=int64)"
     },
     "execution_count": 56,
     "metadata": {},
     "output_type": "execute_result"
    }
   ],
   "source": [
    "risky_move_threshold = 50\n",
    "dir = \"../game_logs/unranked_games/u4r4/StrangeFish2\"\n",
    "game_id = \"1701716767\"\n",
    "\n",
    "game = GameHistory.from_file(os.path.join(dir, game_id, f\"game_{game_id}.log\"))\n",
    "game_log = os.path.join(dir, game_id, f\"move_scores_{game_id}.csv\")\n",
    "df = pd.read_csv(game_log)\n",
    "\n",
    "gr_df = df.groupby(\"move_number\")\n",
    "risky_moves = np.where(gr_df[\"analytical\"].max() - gr_df.first()[\"analytical\"] > risky_move_threshold)[0] + 1\n",
    "risky_moves = np.append(risky_moves, np.where(gr_df[\"analytical\"].max() - gr_df.first()[\"analytical\"] >= risky_move_threshold)[0] + 1)\n",
    "risky_moves\n",
    "\n",
    "\n",
    "\n",
    "# analytical_scores = gr_df.max()[\"analytical\"]\n",
    "# for move in risky_moves:\n",
    "#     category = np.digitize(analytical_scores[move], categories)\n",
    "#     if move < len(gr_df):\n",
    "#         result = np.digitize(analytical_scores[move] - analytical_scores[move+1], result_thresholds)\n",
    "#         results.iloc[3-category, result+1] += 1\n",
    "#     else:\n",
    "#         result = 2 * (game.get_white_player_name() == \"Zubat\") == game.get_winner_color()\n",
    "#         results.iloc[3-category, result+1] += 1"
   ],
   "metadata": {
    "collapsed": false,
    "ExecuteTime": {
     "end_time": "2023-12-13T05:47:46.158695600Z",
     "start_time": "2023-12-13T05:47:46.072697Z"
    }
   },
   "id": "3d64ea36f59983be"
  },
  {
   "cell_type": "code",
   "execution_count": 57,
   "outputs": [
    {
     "data": {
      "text/plain": "     move_number  move       score  analytical  uncertainty      gamble\n507           15  e4e5   31.864500 -115.603182     0.404987  528.258349\n508           15  e1e3   21.137266  -11.577182     0.102272  439.754000\n509           15  e1f2   12.785331  -66.594091     0.243324  452.458076\n510           15  b3d4   11.251639  -24.526045     0.151416  272.575000\n511           15  e1g3  -36.801903 -115.868091     0.299893  327.296000\n512           15  c1e3  -41.353170  -78.139545     0.161344  256.000000\n513           15  e1d2  -74.031595  -94.757727     0.326396  -73.000000\n514           15  h2h3  -75.985076 -139.006045     0.243324  318.000000\n515           15  d3d4  -90.270673 -182.021364     0.326266  362.428571\n516           15  a2a4 -124.958131 -214.957727     0.280663  441.335294\n517           15  c1g5 -129.597522 -222.124682     0.280663  459.346667\n518           15  g1h1 -131.196233 -186.751500     0.251538  241.725000\n519           15  c1f4 -150.670264 -240.083318     0.230609  575.451712\n520           15  c1d2 -154.691834 -207.503182     0.213757  294.125000\n521           15  g2h3 -159.369812 -200.449545     0.161344  309.220000\n522           15  0000 -172.861663 -205.203182     0.102272  432.461111\n523           15  c1h6 -175.784853 -220.496955     0.251538  155.510000\n524           15  c3c4 -184.731735 -203.948636     0.102272  175.800000\n525           15  h2h4 -209.875879 -255.621364     0.137181  466.937692\n526           15  a2a3 -211.496682 -244.266818     0.326396    0.800000\n527           15  f1f2 -222.582385 -294.530455     0.336049  228.200000\n528           15  f1f3 -231.726950 -256.596273     0.214576   31.800000\n529           15  c1b2 -238.351248 -258.521364     0.214576  -12.000000\n530           15  a1b1 -290.950023 -326.403182     0.336049   11.000000\n531           15  e1d1 -298.792039 -338.821364     0.137181  383.600000\n532           15  b3d2 -311.479038 -339.712273     0.326396  -27.000000\n533           15  e1h4 -354.386803 -442.439136     0.404987  234.840000\n534           15  c1a3 -365.127204 -426.768773     0.230038  335.925714\n535           15  f1f6 -366.111356 -414.247727     0.161344  396.693333\n536           15  f1f4 -385.914569 -402.619682     0.213757  -43.700000\n537           15  b3a5 -398.678485 -421.696955     0.243324  -10.800000\n538           15  g2g4 -404.264076 -440.441500     0.251538   87.650000\n539           15  g2g3 -407.493363 -408.023318     0.151416 -193.000000\n540           15  g1f2 -451.071235 -439.362864     0.137181 -370.700000\n541           15  e1e2 -467.054377 -485.057727     0.151416   37.800000\n542           15  b3c5 -470.317497 -485.066818     0.102272   88.433333\n543           15  f1f5 -793.015265 -781.421364     0.230038 -300.800000",
      "text/html": "<div>\n<style scoped>\n    .dataframe tbody tr th:only-of-type {\n        vertical-align: middle;\n    }\n\n    .dataframe tbody tr th {\n        vertical-align: top;\n    }\n\n    .dataframe thead th {\n        text-align: right;\n    }\n</style>\n<table border=\"1\" class=\"dataframe\">\n  <thead>\n    <tr style=\"text-align: right;\">\n      <th></th>\n      <th>move_number</th>\n      <th>move</th>\n      <th>score</th>\n      <th>analytical</th>\n      <th>uncertainty</th>\n      <th>gamble</th>\n    </tr>\n  </thead>\n  <tbody>\n    <tr>\n      <th>507</th>\n      <td>15</td>\n      <td>e4e5</td>\n      <td>31.864500</td>\n      <td>-115.603182</td>\n      <td>0.404987</td>\n      <td>528.258349</td>\n    </tr>\n    <tr>\n      <th>508</th>\n      <td>15</td>\n      <td>e1e3</td>\n      <td>21.137266</td>\n      <td>-11.577182</td>\n      <td>0.102272</td>\n      <td>439.754000</td>\n    </tr>\n    <tr>\n      <th>509</th>\n      <td>15</td>\n      <td>e1f2</td>\n      <td>12.785331</td>\n      <td>-66.594091</td>\n      <td>0.243324</td>\n      <td>452.458076</td>\n    </tr>\n    <tr>\n      <th>510</th>\n      <td>15</td>\n      <td>b3d4</td>\n      <td>11.251639</td>\n      <td>-24.526045</td>\n      <td>0.151416</td>\n      <td>272.575000</td>\n    </tr>\n    <tr>\n      <th>511</th>\n      <td>15</td>\n      <td>e1g3</td>\n      <td>-36.801903</td>\n      <td>-115.868091</td>\n      <td>0.299893</td>\n      <td>327.296000</td>\n    </tr>\n    <tr>\n      <th>512</th>\n      <td>15</td>\n      <td>c1e3</td>\n      <td>-41.353170</td>\n      <td>-78.139545</td>\n      <td>0.161344</td>\n      <td>256.000000</td>\n    </tr>\n    <tr>\n      <th>513</th>\n      <td>15</td>\n      <td>e1d2</td>\n      <td>-74.031595</td>\n      <td>-94.757727</td>\n      <td>0.326396</td>\n      <td>-73.000000</td>\n    </tr>\n    <tr>\n      <th>514</th>\n      <td>15</td>\n      <td>h2h3</td>\n      <td>-75.985076</td>\n      <td>-139.006045</td>\n      <td>0.243324</td>\n      <td>318.000000</td>\n    </tr>\n    <tr>\n      <th>515</th>\n      <td>15</td>\n      <td>d3d4</td>\n      <td>-90.270673</td>\n      <td>-182.021364</td>\n      <td>0.326266</td>\n      <td>362.428571</td>\n    </tr>\n    <tr>\n      <th>516</th>\n      <td>15</td>\n      <td>a2a4</td>\n      <td>-124.958131</td>\n      <td>-214.957727</td>\n      <td>0.280663</td>\n      <td>441.335294</td>\n    </tr>\n    <tr>\n      <th>517</th>\n      <td>15</td>\n      <td>c1g5</td>\n      <td>-129.597522</td>\n      <td>-222.124682</td>\n      <td>0.280663</td>\n      <td>459.346667</td>\n    </tr>\n    <tr>\n      <th>518</th>\n      <td>15</td>\n      <td>g1h1</td>\n      <td>-131.196233</td>\n      <td>-186.751500</td>\n      <td>0.251538</td>\n      <td>241.725000</td>\n    </tr>\n    <tr>\n      <th>519</th>\n      <td>15</td>\n      <td>c1f4</td>\n      <td>-150.670264</td>\n      <td>-240.083318</td>\n      <td>0.230609</td>\n      <td>575.451712</td>\n    </tr>\n    <tr>\n      <th>520</th>\n      <td>15</td>\n      <td>c1d2</td>\n      <td>-154.691834</td>\n      <td>-207.503182</td>\n      <td>0.213757</td>\n      <td>294.125000</td>\n    </tr>\n    <tr>\n      <th>521</th>\n      <td>15</td>\n      <td>g2h3</td>\n      <td>-159.369812</td>\n      <td>-200.449545</td>\n      <td>0.161344</td>\n      <td>309.220000</td>\n    </tr>\n    <tr>\n      <th>522</th>\n      <td>15</td>\n      <td>0000</td>\n      <td>-172.861663</td>\n      <td>-205.203182</td>\n      <td>0.102272</td>\n      <td>432.461111</td>\n    </tr>\n    <tr>\n      <th>523</th>\n      <td>15</td>\n      <td>c1h6</td>\n      <td>-175.784853</td>\n      <td>-220.496955</td>\n      <td>0.251538</td>\n      <td>155.510000</td>\n    </tr>\n    <tr>\n      <th>524</th>\n      <td>15</td>\n      <td>c3c4</td>\n      <td>-184.731735</td>\n      <td>-203.948636</td>\n      <td>0.102272</td>\n      <td>175.800000</td>\n    </tr>\n    <tr>\n      <th>525</th>\n      <td>15</td>\n      <td>h2h4</td>\n      <td>-209.875879</td>\n      <td>-255.621364</td>\n      <td>0.137181</td>\n      <td>466.937692</td>\n    </tr>\n    <tr>\n      <th>526</th>\n      <td>15</td>\n      <td>a2a3</td>\n      <td>-211.496682</td>\n      <td>-244.266818</td>\n      <td>0.326396</td>\n      <td>0.800000</td>\n    </tr>\n    <tr>\n      <th>527</th>\n      <td>15</td>\n      <td>f1f2</td>\n      <td>-222.582385</td>\n      <td>-294.530455</td>\n      <td>0.336049</td>\n      <td>228.200000</td>\n    </tr>\n    <tr>\n      <th>528</th>\n      <td>15</td>\n      <td>f1f3</td>\n      <td>-231.726950</td>\n      <td>-256.596273</td>\n      <td>0.214576</td>\n      <td>31.800000</td>\n    </tr>\n    <tr>\n      <th>529</th>\n      <td>15</td>\n      <td>c1b2</td>\n      <td>-238.351248</td>\n      <td>-258.521364</td>\n      <td>0.214576</td>\n      <td>-12.000000</td>\n    </tr>\n    <tr>\n      <th>530</th>\n      <td>15</td>\n      <td>a1b1</td>\n      <td>-290.950023</td>\n      <td>-326.403182</td>\n      <td>0.336049</td>\n      <td>11.000000</td>\n    </tr>\n    <tr>\n      <th>531</th>\n      <td>15</td>\n      <td>e1d1</td>\n      <td>-298.792039</td>\n      <td>-338.821364</td>\n      <td>0.137181</td>\n      <td>383.600000</td>\n    </tr>\n    <tr>\n      <th>532</th>\n      <td>15</td>\n      <td>b3d2</td>\n      <td>-311.479038</td>\n      <td>-339.712273</td>\n      <td>0.326396</td>\n      <td>-27.000000</td>\n    </tr>\n    <tr>\n      <th>533</th>\n      <td>15</td>\n      <td>e1h4</td>\n      <td>-354.386803</td>\n      <td>-442.439136</td>\n      <td>0.404987</td>\n      <td>234.840000</td>\n    </tr>\n    <tr>\n      <th>534</th>\n      <td>15</td>\n      <td>c1a3</td>\n      <td>-365.127204</td>\n      <td>-426.768773</td>\n      <td>0.230038</td>\n      <td>335.925714</td>\n    </tr>\n    <tr>\n      <th>535</th>\n      <td>15</td>\n      <td>f1f6</td>\n      <td>-366.111356</td>\n      <td>-414.247727</td>\n      <td>0.161344</td>\n      <td>396.693333</td>\n    </tr>\n    <tr>\n      <th>536</th>\n      <td>15</td>\n      <td>f1f4</td>\n      <td>-385.914569</td>\n      <td>-402.619682</td>\n      <td>0.213757</td>\n      <td>-43.700000</td>\n    </tr>\n    <tr>\n      <th>537</th>\n      <td>15</td>\n      <td>b3a5</td>\n      <td>-398.678485</td>\n      <td>-421.696955</td>\n      <td>0.243324</td>\n      <td>-10.800000</td>\n    </tr>\n    <tr>\n      <th>538</th>\n      <td>15</td>\n      <td>g2g4</td>\n      <td>-404.264076</td>\n      <td>-440.441500</td>\n      <td>0.251538</td>\n      <td>87.650000</td>\n    </tr>\n    <tr>\n      <th>539</th>\n      <td>15</td>\n      <td>g2g3</td>\n      <td>-407.493363</td>\n      <td>-408.023318</td>\n      <td>0.151416</td>\n      <td>-193.000000</td>\n    </tr>\n    <tr>\n      <th>540</th>\n      <td>15</td>\n      <td>g1f2</td>\n      <td>-451.071235</td>\n      <td>-439.362864</td>\n      <td>0.137181</td>\n      <td>-370.700000</td>\n    </tr>\n    <tr>\n      <th>541</th>\n      <td>15</td>\n      <td>e1e2</td>\n      <td>-467.054377</td>\n      <td>-485.057727</td>\n      <td>0.151416</td>\n      <td>37.800000</td>\n    </tr>\n    <tr>\n      <th>542</th>\n      <td>15</td>\n      <td>b3c5</td>\n      <td>-470.317497</td>\n      <td>-485.066818</td>\n      <td>0.102272</td>\n      <td>88.433333</td>\n    </tr>\n    <tr>\n      <th>543</th>\n      <td>15</td>\n      <td>f1f5</td>\n      <td>-793.015265</td>\n      <td>-781.421364</td>\n      <td>0.230038</td>\n      <td>-300.800000</td>\n    </tr>\n  </tbody>\n</table>\n</div>"
     },
     "execution_count": 57,
     "metadata": {},
     "output_type": "execute_result"
    }
   ],
   "source": [
    "df[df[\"move_number\"] == 15]"
   ],
   "metadata": {
    "collapsed": false,
    "ExecuteTime": {
     "end_time": "2023-12-13T05:47:54.427877700Z",
     "start_time": "2023-12-13T05:47:54.342878100Z"
    }
   },
   "id": "d0e0fd4bbc6f7907"
  },
  {
   "cell_type": "code",
   "execution_count": 58,
   "outputs": [
    {
     "name": "stdout",
     "output_type": "stream",
     "text": [
      "0 1701710908   11   21.994724523016856\n",
      "0 1701710908   22   -446.93768000000006\n",
      "0 1701710908   11   21.994724523016856\n",
      "0 1701710908   22   -446.93768000000006\n",
      "1 1701712629   9   -165.84553333333338\n",
      "1 1701712629   10   90.9823541666666\n",
      "1 1701712629   12   79.98775993827167\n",
      "1 1701712629   16   -136.25531192614807\n",
      "1 1701712629   24   -57.7018750000002\n",
      "1 1701712629   30   171.13770245189346\n",
      "1 1701712629   33   -737.8664466666667\n",
      "1 1701712629   92   -3651.9625000000005\n",
      "1 1701712629   9   -165.84553333333338\n",
      "1 1701712629   10   90.9823541666666\n",
      "1 1701712629   12   79.98775993827167\n",
      "1 1701712629   16   -136.25531192614807\n",
      "1 1701712629   24   -57.7018750000002\n",
      "1 1701712629   30   171.13770245189346\n",
      "1 1701712629   33   -737.8664466666667\n",
      "1 1701712629   92   -3651.9625000000005\n",
      "2 1701715296   24   -190.7957890909089\n",
      "2 1701715296   24   -190.7957890909089\n",
      "4 1701717758   13   24.74791071288679\n",
      "4 1701717758   43   23.715754773462322\n",
      "4 1701717758   13   24.74791071288679\n",
      "4 1701717758   43   23.715754773462322\n",
      "5 1701719503   33   -44.23627812500001\n",
      "5 1701719503   39   -1362.786313869863\n",
      "5 1701719503   33   -44.23627812500001\n",
      "5 1701719503   39   -1362.786313869863\n",
      "6 1701720936   78   151.82308806336732\n",
      "6 1701720936   78   151.82308806336732\n",
      "8 1701724653   56   -15.152500000000032\n",
      "8 1701724653   80   -99.94499999999971\n",
      "8 1701724653   56   -15.152500000000032\n",
      "8 1701724653   80   -99.94499999999971\n",
      "11 1701730570   34   -252.29985937499987\n",
      "11 1701730570   34   -252.29985937499987\n",
      "13 1701732610   25   -183.92009999999996\n",
      "13 1701732610   25   -183.92009999999996\n",
      "14 1701733678   24   16.257513157894806\n",
      "14 1701733678   27   28.76571029176654\n",
      "14 1701733678   28   -376.39533335939933\n",
      "14 1701733678   33   -187.0350800000001\n",
      "14 1701733678   42   -1051.6278496729597\n",
      "14 1701733678   44   -7469.2495\n",
      "14 1701733678   24   16.257513157894806\n",
      "14 1701733678   27   28.76571029176654\n",
      "14 1701733678   28   -376.39533335939933\n",
      "14 1701733678   33   -187.0350800000001\n",
      "14 1701733678   42   -1051.6278496729597\n",
      "14 1701733678   44   -7469.2495\n",
      "15 1701735513   49   -835.0165770897058\n",
      "15 1701735513   49   -835.0165770897058\n",
      "16 1701737188   14   -115.75433518518517\n",
      "16 1701737188   23   -70.99670969827582\n",
      "16 1701737188   14   -115.75433518518517\n",
      "16 1701737188   23   -70.99670969827582\n",
      "17 1701738602   24   -574.095\n",
      "17 1701738602   45   -644.395745605585\n",
      "17 1701738602   46   loss\n",
      "17 1701738602   24   -574.095\n",
      "17 1701738602   45   -644.395745605585\n",
      "17 1701738602   46   loss\n",
      "19 1701741588   14   -147.92159134615372\n",
      "19 1701741588   32   3.8449999999999136\n",
      "19 1701741588   38   -316.2952\n",
      "19 1701741588   14   -147.92159134615372\n",
      "19 1701741588   32   3.8449999999999136\n",
      "19 1701741588   38   -316.2952\n",
      "20 1701743173   19   -60.63000000000001\n",
      "20 1701743173   48   118.72999999999999\n",
      "20 1701743173   73   loss\n",
      "20 1701743173   19   -60.63000000000001\n",
      "20 1701743173   48   118.72999999999999\n",
      "20 1701743173   73   loss\n",
      "21 1701745477   10   -337.307693548387\n",
      "21 1701745477   10   -337.307693548387\n",
      "22 1701746276   71   97.45945408710259\n",
      "22 1701746276   73   loss\n",
      "22 1701746276   71   97.45945408710259\n",
      "22 1701746276   73   loss\n",
      "23 734750   24   -167.54190000000006\n",
      "23 734750   24   -167.54190000000006\n",
      "25 734769   9   -233.84228668594028\n",
      "25 734769   10   -61.561576776005865\n",
      "25 734769   25   25.0555555555556\n",
      "25 734769   9   -233.84228668594028\n",
      "25 734769   10   -61.561576776005865\n",
      "25 734769   25   25.0555555555556\n",
      "26 734781   93   -567.4499999999998\n",
      "26 734781   93   -567.4499999999998\n",
      "28 734818   31   45.97376470588239\n",
      "28 734818   51   34.75\n",
      "28 734818   67   -214.22175319446478\n",
      "28 734818   68   -139.55000000000018\n",
      "28 734818   70   -11.449999999999818\n",
      "28 734818   31   45.97376470588239\n",
      "28 734818   51   34.75\n",
      "28 734818   67   -214.22175319446478\n",
      "28 734818   68   -139.55000000000018\n",
      "28 734818   70   -11.449999999999818\n",
      "30 734889   19   -158.39199999999983\n",
      "30 734889   22   -113.10000000000002\n",
      "30 734889   19   -158.39199999999983\n",
      "30 734889   22   -113.10000000000002\n",
      "31 734906   19   -329.47306666666714\n",
      "31 734906   27   loss\n",
      "31 734906   19   -329.47306666666714\n",
      "31 734906   27   loss\n",
      "33 734942   9   39.76709412568306\n",
      "33 734942   22   -340.37005642946303\n",
      "33 734942   9   39.76709412568306\n",
      "33 734942   22   -340.37005642946303\n",
      "36 735014   13   -152.12397369696976\n",
      "36 735014   13   -152.12397369696976\n",
      "38 735039   52   -84.89499999999998\n",
      "38 735039   52   -84.89499999999998\n",
      "41 735073   49   61.337590909090906\n",
      "41 735073   49   61.337590909090906\n",
      "42 735087   52   loss\n",
      "42 735087   52   loss\n",
      "43 735096   40   81.73374999999999\n",
      "43 735096   41   -73.52000000000004\n",
      "43 735096   42   73.52000000000004\n",
      "43 735096   43   -73.52000000000004\n",
      "43 735096   44   73.52000000000004\n",
      "43 735096   45   -73.52000000000004\n",
      "43 735096   61   -1440.8175125\n",
      "43 735096   40   81.73374999999999\n",
      "43 735096   41   -73.52000000000004\n",
      "43 735096   42   73.52000000000004\n",
      "43 735096   43   -73.52000000000004\n",
      "43 735096   44   73.52000000000004\n",
      "43 735096   45   -73.52000000000004\n",
      "43 735096   61   -1440.8175125\n",
      "44 735116   18   -227.43300000000005\n",
      "44 735116   46   -1250.8828711000951\n",
      "44 735116   18   -227.43300000000005\n",
      "44 735116   46   -1250.8828711000951\n",
      "45 735128   7   -190.66969918152586\n",
      "45 735128   29   -27.09199999999987\n",
      "45 735128   37   29.49488457831319\n",
      "45 735128   38   -27.572673333333228\n",
      "45 735128   45   -383.8538224983954\n",
      "45 735128   7   -190.66969918152586\n",
      "45 735128   29   -27.09199999999987\n",
      "45 735128   37   29.49488457831319\n",
      "45 735128   38   -27.572673333333228\n",
      "45 735128   45   -383.8538224983954\n",
      "47 735153   12   -138.67580778032035\n",
      "47 735153   18   -47.999999999999886\n",
      "47 735153   12   -138.67580778032035\n",
      "47 735153   18   -47.999999999999886\n",
      "48 735158   14   -34.14668092044593\n",
      "48 735158   14   -34.14668092044593\n",
      "49 735170   51   -70.54719999999998\n",
      "49 735170   54   -41.797500000000014\n",
      "49 735170   64   138.70499999999998\n",
      "49 735170   65   -44.60000000000002\n",
      "49 735170   68   -73.69500000000005\n",
      "49 735170   51   -70.54719999999998\n",
      "49 735170   54   -41.797500000000014\n",
      "49 735170   64   138.70499999999998\n",
      "49 735170   65   -44.60000000000002\n",
      "49 735170   68   -73.69500000000005\n"
     ]
    }
   ],
   "source": [
    "risky_move_threshold = 100\n",
    "dir = \"../game_logs/unranked_games/u4r4/StrangeFish2\"\n",
    "for i, game_id in enumerate(os.listdir(dir)):\n",
    "    try:\n",
    "        game = GameHistory.from_file(os.path.join(dir, game_id, f\"game_{game_id}.log\"))\n",
    "        game_log = os.path.join(dir, game_id, f\"move_scores_{game_id}.csv\")\n",
    "        df = pd.read_csv(game_log)\n",
    "        \n",
    "        gr_df = df.groupby(\"move_number\")\n",
    "        risky_moves = np.where(gr_df[\"analytical\"].max() - gr_df.first()[\"analytical\"] > risky_move_threshold)[0] + 1\n",
    "        risky_moves = np.append(risky_moves, np.where(gr_df[\"analytical\"].max() - gr_df.first()[\"analytical\"] >= risky_move_threshold)[0] + 1)\n",
    "        \n",
    "        true_scores = gr_df.max()[\"analytical\"]\n",
    "        for move in risky_moves:\n",
    "            category = np.digitize(true_scores[move], categories)\n",
    "            if move < len(gr_df):\n",
    "                if true_scores[move + 1] - true_scores[move] < 200:\n",
    "                    print(f\"{i} {game_id}   {move}   {true_scores[move + 1] - true_scores[move]}\")\n",
    "            else:\n",
    "                print(f\"{i} {game_id}   {move}   {'win' if (game.get_white_player_name() == 'Zubat') == game.get_winner_color() else 'loss'}\")            \n",
    "    except:\n",
    "        pass"
   ],
   "metadata": {
    "collapsed": false,
    "ExecuteTime": {
     "end_time": "2023-12-13T06:36:51.936752900Z",
     "start_time": "2023-12-13T06:36:51.235752200Z"
    }
   },
   "id": "3f6f782aab169701"
  },
  {
   "cell_type": "code",
   "execution_count": null,
   "outputs": [],
   "source": [],
   "metadata": {
    "collapsed": false
   },
   "id": "396ff7cbad6e7faf"
  },
  {
   "cell_type": "code",
   "execution_count": 28,
   "outputs": [
    {
     "data": {
      "text/plain": "       category  positive   neutral  negative\n0    (400, inf)  0.173192  0.656825  0.169983\n1      (0, 400)  0.169668  0.662088  0.168243\n2     (-400, 0)  0.144138  0.692994  0.162868\n3  (-inf, -400)  0.155507  0.628706  0.215787",
      "text/html": "<div>\n<style scoped>\n    .dataframe tbody tr th:only-of-type {\n        vertical-align: middle;\n    }\n\n    .dataframe tbody tr th {\n        vertical-align: top;\n    }\n\n    .dataframe thead th {\n        text-align: right;\n    }\n</style>\n<table border=\"1\" class=\"dataframe\">\n  <thead>\n    <tr style=\"text-align: right;\">\n      <th></th>\n      <th>category</th>\n      <th>positive</th>\n      <th>neutral</th>\n      <th>negative</th>\n    </tr>\n  </thead>\n  <tbody>\n    <tr>\n      <th>0</th>\n      <td>(400, inf)</td>\n      <td>0.173192</td>\n      <td>0.656825</td>\n      <td>0.169983</td>\n    </tr>\n    <tr>\n      <th>1</th>\n      <td>(0, 400)</td>\n      <td>0.169668</td>\n      <td>0.662088</td>\n      <td>0.168243</td>\n    </tr>\n    <tr>\n      <th>2</th>\n      <td>(-400, 0)</td>\n      <td>0.144138</td>\n      <td>0.692994</td>\n      <td>0.162868</td>\n    </tr>\n    <tr>\n      <th>3</th>\n      <td>(-inf, -400)</td>\n      <td>0.155507</td>\n      <td>0.628706</td>\n      <td>0.215787</td>\n    </tr>\n  </tbody>\n</table>\n</div>"
     },
     "execution_count": 28,
     "metadata": {},
     "output_type": "execute_result"
    }
   ],
   "source": [
    "df = pd.read_csv('tables/risk_results_percentage.csv', index_col=0)\n",
    "df"
   ],
   "metadata": {
    "collapsed": false,
    "ExecuteTime": {
     "end_time": "2023-12-29T05:23:28.667934700Z",
     "start_time": "2023-12-29T05:23:28.594935600Z"
    }
   },
   "id": "91f2bd9b0aeacdac"
  },
  {
   "cell_type": "code",
   "execution_count": 35,
   "outputs": [
    {
     "name": "stdout",
     "output_type": "stream",
     "text": [
      "\\begin{tabular}{lrrr}\n",
      "\\toprule\n",
      "    category &  positive &  neutral &  negative \\\\\n",
      "\\midrule\n",
      "  (400, inf) &    17.32\\% &   65.68\\% &    17.00\\% \\\\\n",
      "    (0, 400) &    16.97\\% &   66.21\\% &    16.82\\% \\\\\n",
      "   (-400, 0) &    14.41\\% &   69.30\\% &    16.29\\% \\\\\n",
      "(-inf, -400) &    15.55\\% &   62.87\\% &    21.58\\% \\\\\n",
      "\\bottomrule\n",
      "\\end{tabular}\n"
     ]
    }
   ],
   "source": [
    "print(df.to_latex(index=False, float_format='{:.2%}'.format))"
   ],
   "metadata": {
    "collapsed": false,
    "ExecuteTime": {
     "end_time": "2023-12-29T05:29:20.917073800Z",
     "start_time": "2023-12-29T05:29:20.850074700Z"
    }
   },
   "id": "1b7ae08961e1ac74"
  }
 ],
 "metadata": {
  "kernelspec": {
   "display_name": "Python 3",
   "language": "python",
   "name": "python3"
  },
  "language_info": {
   "codemirror_mode": {
    "name": "ipython",
    "version": 2
   },
   "file_extension": ".py",
   "mimetype": "text/x-python",
   "name": "python",
   "nbconvert_exporter": "python",
   "pygments_lexer": "ipython2",
   "version": "2.7.6"
  }
 },
 "nbformat": 4,
 "nbformat_minor": 5
}
