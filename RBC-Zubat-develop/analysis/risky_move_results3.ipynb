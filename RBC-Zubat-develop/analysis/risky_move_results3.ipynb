{
 "cells": [
  {
   "cell_type": "code",
   "execution_count": 1,
   "outputs": [],
   "source": [
    "%load_ext autoreload\n",
    "%autoreload 2"
   ],
   "metadata": {
    "collapsed": false,
    "ExecuteTime": {
     "end_time": "2024-01-02T20:25:16.748160200Z",
     "start_time": "2024-01-02T20:25:16.705158400Z"
    }
   },
   "id": "66061f7b9f1ffdc2"
  },
  {
   "cell_type": "code",
   "execution_count": 2,
   "outputs": [],
   "source": [
    "import csv\n",
    "import re\n",
    "import pandas as pd\n",
    "import numpy as np\n",
    "\n",
    "import pandas\n",
    "import os\n",
    "\n",
    "from reconchess import GameHistory\n",
    "import matplotlib.pyplot as plt\n",
    "from tqdm import tqdm"
   ],
   "metadata": {
    "collapsed": false,
    "ExecuteTime": {
     "end_time": "2024-01-02T20:25:19.056235Z",
     "start_time": "2024-01-02T20:25:17.968635400Z"
    }
   },
   "id": "initial_id"
  },
  {
   "cell_type": "markdown",
   "source": [
    "### Find approximate quantiles"
   ],
   "metadata": {
    "collapsed": false
   },
   "id": "d2b8cd2abd0b009e"
  },
  {
   "cell_type": "code",
   "execution_count": 4,
   "outputs": [
    {
     "name": "stderr",
     "output_type": "stream",
     "text": [
      "100%|██████████| 2/2 [00:00<00:00, 106184.91it/s]\n",
      "100%|██████████| 2/2 [00:00<?, ?it/s]\n",
      "100%|██████████| 2/2 [00:00<00:00, 1998.24it/s]\n",
      "100%|██████████| 2/2 [00:00<00:00, 2001.10it/s]\n",
      "100%|██████████| 2/2 [00:00<00:00, 1997.76it/s]\n",
      "100%|██████████| 2/2 [00:00<?, ?it/s]\n",
      "100%|██████████| 2/2 [00:00<?, ?it/s]\n",
      "100%|██████████| 2/2 [00:00<00:00, 1995.39it/s]\n",
      "100%|██████████| 2/2 [00:00<?, ?it/s]\n",
      "100%|██████████| 2/2 [00:00<00:00, 2002.53it/s]\n",
      "100%|██████████| 2/2 [00:00<00:00, 2001.58it/s]\n",
      "100%|██████████| 2/2 [00:00<?, ?it/s]\n",
      "100%|██████████| 2/2 [00:00<?, ?it/s]\n",
      "100%|██████████| 2/2 [00:00<00:00, 1998.24it/s]\n",
      "100%|██████████| 2/2 [00:00<?, ?it/s]\n",
      "100%|██████████| 2/2 [00:00<00:00, 2001.58it/s]\n",
      "100%|██████████| 2/2 [00:00<00:00, 1917.40it/s]\n",
      "100%|██████████| 2/2 [00:00<?, ?it/s]\n",
      "100%|██████████| 2/2 [00:00<00:00, 2002.05it/s]\n",
      "100%|██████████| 2/2 [00:00<00:00, 2000.62it/s]\n",
      "100%|██████████| 2/2 [00:00<00:00, 1998.72it/s]\n",
      "100%|██████████| 2/2 [00:00<00:00, 1999.67it/s]\n",
      "100%|██████████| 2/2 [00:00<?, ?it/s]\n",
      "100%|██████████| 2/2 [00:00<?, ?it/s]\n",
      "100%|██████████| 2/2 [00:00<00:00, 1997.29it/s]\n",
      "100%|██████████| 2/2 [00:00<00:00, 1999.19it/s]\n",
      "100%|██████████| 2/2 [00:00<?, ?it/s]\n",
      "100%|██████████| 2/2 [00:00<?, ?it/s]\n",
      "100%|██████████| 2/2 [00:00<00:00, 1998.72it/s]\n",
      "100%|██████████| 2/2 [00:00<?, ?it/s]\n",
      "100%|██████████| 2/2 [00:00<?, ?it/s]\n",
      "100%|██████████| 2/2 [00:00<?, ?it/s]\n",
      "100%|██████████| 2/2 [00:00<?, ?it/s]\n",
      "100%|██████████| 2/2 [00:00<00:00, 1998.24it/s]\n",
      "100%|██████████| 2/2 [00:00<?, ?it/s]\n"
     ]
    }
   ],
   "source": [
    "data_path = \"../game_logs/ranked_games\"\n",
    "\n",
    "wins = []\n",
    "losses = []\n",
    "\n",
    "for batch in os.listdir(data_path):\n",
    "    if not os.path.isdir(os.path.join(data_path, batch)):\n",
    "        continue\n",
    "    for game_id in tqdm(os.listdir(os.path.join(data_path, batch))):\n",
    "        try:\n",
    "            game = GameHistory.from_file(os.path.join(data_path, batch, game_id, f\"game_{game_id}.log\"))\n",
    "            has_won = (game.get_white_player_name() == \"Zubat\") == game.get_winner_color()\n",
    "            game_log = os.path.join(data_path, batch, game_id, f\"move_scores_{game_id}.csv\")\n",
    "            df = pd.read_csv(game_log)\n",
    "            mx = df.groupby(\"move_number\").max()\n",
    "            if has_won:\n",
    "                wins.append(mx[\"analytical\"].to_list())\n",
    "            else:\n",
    "                losses.append(mx[\"analytical\"].to_list())\n",
    "        except:\n",
    "            pass"
   ],
   "metadata": {
    "collapsed": false,
    "ExecuteTime": {
     "end_time": "2023-12-29T01:50:56.727211900Z",
     "start_time": "2023-12-29T01:50:56.537665200Z"
    }
   },
   "id": "da2ed2066eb805ee"
  },
  {
   "cell_type": "code",
   "execution_count": 8,
   "outputs": [
    {
     "data": {
      "text/plain": "(667, 226)"
     },
     "execution_count": 8,
     "metadata": {},
     "output_type": "execute_result"
    }
   ],
   "source": [
    "len(wins), len(losses)"
   ],
   "metadata": {
    "collapsed": false,
    "ExecuteTime": {
     "end_time": "2023-11-08T12:22:35.618263461Z",
     "start_time": "2023-11-08T12:22:35.492152018Z"
    }
   },
   "id": "72247157616de8f4"
  },
  {
   "cell_type": "code",
   "execution_count": 9,
   "outputs": [
    {
     "data": {
      "text/plain": "44597"
     },
     "execution_count": 9,
     "metadata": {},
     "output_type": "execute_result"
    }
   ],
   "source": [
    "res = np.array([x for win in wins for x in win] + [x for loss in losses for x in loss] * 3)\n",
    "len(res)"
   ],
   "metadata": {
    "collapsed": false,
    "ExecuteTime": {
     "end_time": "2023-11-08T12:22:39.316207030Z",
     "start_time": "2023-11-08T12:22:39.249219842Z"
    }
   },
   "id": "7e99e871cb4fbb18"
  },
  {
   "cell_type": "code",
   "execution_count": 10,
   "outputs": [
    {
     "data": {
      "text/plain": "<Figure size 640x480 with 1 Axes>",
      "image/png": "[encoded data removed]"
     },
     "metadata": {},
     "output_type": "display_data"
    }
   ],
   "source": [
    "plt.hist(res, bins=100)\n",
    "plt.show()"
   ],
   "metadata": {
    "collapsed": false,
    "ExecuteTime": {
     "end_time": "2023-11-08T12:22:43.019509228Z",
     "start_time": "2023-11-08T12:22:42.679033020Z"
    }
   },
   "id": "cf8c49087f1a0f6d"
  },
  {
   "cell_type": "code",
   "execution_count": 11,
   "outputs": [
    {
     "data": {
      "text/plain": "(24299, 20298)"
     },
     "execution_count": 11,
     "metadata": {},
     "output_type": "execute_result"
    }
   ],
   "source": [
    "len(res[res >= 0]), len(res[res < 0])"
   ],
   "metadata": {
    "collapsed": false,
    "ExecuteTime": {
     "end_time": "2023-11-08T12:22:48.380264520Z",
     "start_time": "2023-11-08T12:22:48.336884756Z"
    }
   },
   "id": "45bd1e506860e956"
  },
  {
   "cell_type": "code",
   "execution_count": 12,
   "outputs": [
    {
     "data": {
      "text/plain": "([(0.0359, 365.34], (0.0359, 365.34], (0.0359, 365.34], (0.0359, 365.34], (0.0359, 365.34], ..., (365.34, 9538.0], (365.34, 9538.0], (0.0359, 365.34], (0.0359, 365.34], (0.0359, 365.34]]\n Length: 24299\n Categories (2, interval[float64, right]): [(0.0359, 365.34] < (365.34, 9538.0]],\n [(-426.252, -0.0204], (-426.252, -0.0204], (-426.252, -0.0204], (-426.252, -0.0204], (-426.252, -0.0204], ..., (-426.252, -0.0204], (-426.252, -0.0204], (-426.252, -0.0204], (-426.252, -0.0204], (-7519.336, -426.252]]\n Length: 20298\n Categories (2, interval[float64, right]): [(-7519.336, -426.252] < (-426.252, -0.0204]])"
     },
     "execution_count": 12,
     "metadata": {},
     "output_type": "execute_result"
    }
   ],
   "source": [
    "pd.qcut(res[res >= 0], 2), pd.qcut(res[res < 0], 2)"
   ],
   "metadata": {
    "collapsed": false,
    "ExecuteTime": {
     "end_time": "2023-11-08T12:22:49.890821990Z",
     "start_time": "2023-11-08T12:22:49.782376118Z"
    }
   },
   "id": "b8bb6e173488a8e0"
  },
  {
   "cell_type": "code",
   "execution_count": 13,
   "outputs": [
    {
     "data": {
      "text/plain": "(10679, 9619, 12963, 11336)"
     },
     "execution_count": 13,
     "metadata": {},
     "output_type": "execute_result"
    }
   ],
   "source": [
    "len(res[res < -400]), len(res[(res < 0) & (res >= -400)]), len(res[(res < 400) & (res >= 0)]), len(res[res >= 400])"
   ],
   "metadata": {
    "collapsed": false,
    "ExecuteTime": {
     "end_time": "2023-11-08T12:22:57.887839126Z",
     "start_time": "2023-11-08T12:22:57.803912052Z"
    }
   },
   "id": "8c7fbc9886b83d42"
  },
  {
   "cell_type": "markdown",
   "source": [
    "Ranges will be (-inf, -400), (-400, 0), (0, 400), (400, inf)"
   ],
   "metadata": {
    "collapsed": false
   },
   "id": "fbc2a790b20e7839"
  },
  {
   "cell_type": "markdown",
   "source": [
    "### Calculating"
   ],
   "metadata": {
    "collapsed": false
   },
   "id": "4bcdcaed6ffaf2d2"
  },
  {
   "cell_type": "code",
   "execution_count": 18,
   "outputs": [],
   "source": [
    "categories = [0, 20, 40, 60, 80, 100, 120]\n",
    "result_thresholds = [-50, 50]\n",
    "risky_move_threshold = 50"
   ],
   "metadata": {
    "collapsed": false,
    "ExecuteTime": {
     "end_time": "2024-01-02T20:32:02.270290100Z",
     "start_time": "2024-01-02T20:32:02.192301600Z"
    }
   },
   "id": "ff6d7183adc133e5"
  },
  {
   "cell_type": "code",
   "execution_count": 19,
   "outputs": [
    {
     "data": {
      "text/plain": "     category  positive  neutral  negative\n0     (0, 20)         0        0         0\n1    (20, 40)         0        0         0\n2    (40, 60)         0        0         0\n3    (60, 80)         0        0         0\n4   (80, 100)         0        0         0\n5  (100, 120)         0        0         0\n6  (120, inf)         0        0         0",
      "text/html": "<div>\n<style scoped>\n    .dataframe tbody tr th:only-of-type {\n        vertical-align: middle;\n    }\n\n    .dataframe tbody tr th {\n        vertical-align: top;\n    }\n\n    .dataframe thead th {\n        text-align: right;\n    }\n</style>\n<table border=\"1\" class=\"dataframe\">\n  <thead>\n    <tr style=\"text-align: right;\">\n      <th></th>\n      <th>category</th>\n      <th>positive</th>\n      <th>neutral</th>\n      <th>negative</th>\n    </tr>\n  </thead>\n  <tbody>\n    <tr>\n      <th>0</th>\n      <td>(0, 20)</td>\n      <td>0</td>\n      <td>0</td>\n      <td>0</td>\n    </tr>\n    <tr>\n      <th>1</th>\n      <td>(20, 40)</td>\n      <td>0</td>\n      <td>0</td>\n      <td>0</td>\n    </tr>\n    <tr>\n      <th>2</th>\n      <td>(40, 60)</td>\n      <td>0</td>\n      <td>0</td>\n      <td>0</td>\n    </tr>\n    <tr>\n      <th>3</th>\n      <td>(60, 80)</td>\n      <td>0</td>\n      <td>0</td>\n      <td>0</td>\n    </tr>\n    <tr>\n      <th>4</th>\n      <td>(80, 100)</td>\n      <td>0</td>\n      <td>0</td>\n      <td>0</td>\n    </tr>\n    <tr>\n      <th>5</th>\n      <td>(100, 120)</td>\n      <td>0</td>\n      <td>0</td>\n      <td>0</td>\n    </tr>\n    <tr>\n      <th>6</th>\n      <td>(120, inf)</td>\n      <td>0</td>\n      <td>0</td>\n      <td>0</td>\n    </tr>\n  </tbody>\n</table>\n</div>"
     },
     "execution_count": 19,
     "metadata": {},
     "output_type": "execute_result"
    }
   ],
   "source": [
    "results = pd.DataFrame(\n",
    "    {\"category\": [\n",
    "        f\"({categories[i]}, {categories[i+1]})\"\n",
    "        for i in range(len(categories) - 1)\n",
    "    ] + [f'({categories[-1]}, inf)'], \n",
    "     \"positive\": [0 for _ in range(len(categories))], \"neutral\": [0 for _ in range(len(categories))], \"negative\": [0 for _ in range(len(categories))]})\n",
    "results"
   ],
   "metadata": {
    "collapsed": false,
    "ExecuteTime": {
     "end_time": "2024-01-02T20:32:03.930862800Z",
     "start_time": "2024-01-02T20:32:03.849476700Z"
    }
   },
   "id": "c7ee971defe1a812"
  },
  {
   "cell_type": "code",
   "execution_count": 20,
   "outputs": [
    {
     "name": "stderr",
     "output_type": "stream",
     "text": [
      "100%|██████████| 50/50 [00:00<00:00, 58.37it/s]\n",
      "100%|██████████| 51/51 [00:01<00:00, 48.87it/s]\n",
      "100%|██████████| 46/46 [00:00<00:00, 56.42it/s]\n",
      "100%|██████████| 50/50 [00:00<00:00, 50.87it/s]\n",
      "100%|██████████| 54/54 [00:00<00:00, 74.81it/s]\n",
      "100%|██████████| 53/53 [00:01<00:00, 49.76it/s]\n",
      "100%|██████████| 51/51 [00:00<00:00, 68.27it/s]\n",
      "100%|██████████| 56/56 [00:00<00:00, 63.14it/s]\n",
      "100%|██████████| 50/50 [00:00<00:00, 65.53it/s]\n",
      "100%|██████████| 50/50 [00:00<00:00, 63.61it/s]\n",
      "100%|██████████| 50/50 [00:00<00:00, 61.05it/s]\n",
      "100%|██████████| 50/50 [00:00<00:00, 51.82it/s]\n",
      "100%|██████████| 50/50 [00:00<00:00, 62.44it/s]\n",
      "100%|██████████| 50/50 [00:00<00:00, 57.12it/s]\n",
      "100%|██████████| 53/53 [00:00<00:00, 63.66it/s]\n",
      "100%|██████████| 51/51 [00:01<00:00, 47.62it/s]\n",
      "100%|██████████| 47/47 [00:00<00:00, 68.77it/s]\n",
      "100%|██████████| 51/51 [00:00<00:00, 54.44it/s]\n",
      "100%|██████████| 50/50 [00:00<00:00, 69.81it/s]\n",
      "100%|██████████| 50/50 [00:00<00:00, 59.51it/s]\n",
      "100%|██████████| 47/47 [00:00<00:00, 59.63it/s]\n",
      "100%|██████████| 52/52 [00:01<00:00, 49.20it/s]\n",
      "100%|██████████| 48/48 [00:00<00:00, 60.57it/s]\n",
      "100%|██████████| 50/50 [00:00<00:00, 55.72it/s]\n",
      "100%|██████████| 52/52 [00:00<00:00, 68.30it/s]\n",
      "100%|██████████| 53/53 [00:00<00:00, 55.25it/s]\n",
      "100%|██████████| 55/55 [00:00<00:00, 66.77it/s]\n",
      "100%|██████████| 56/56 [00:00<00:00, 61.52it/s]\n",
      "100%|██████████| 50/50 [00:00<00:00, 65.87it/s]\n",
      "100%|██████████| 50/50 [00:00<00:00, 52.32it/s]\n",
      "100%|██████████| 50/50 [00:00<00:00, 65.52it/s]\n",
      "100%|██████████| 50/50 [00:00<00:00, 52.43it/s]\n",
      "100%|██████████| 51/51 [00:00<00:00, 63.33it/s]\n",
      "100%|██████████| 50/50 [00:00<00:00, 56.16it/s]\n",
      "100%|██████████| 50/50 [00:00<00:00, 71.65it/s]\n",
      "100%|██████████| 50/50 [00:00<00:00, 51.81it/s]\n",
      "100%|██████████| 50/50 [00:00<00:00, 68.66it/s]\n",
      "100%|██████████| 52/52 [00:00<00:00, 54.15it/s]\n",
      "100%|██████████| 50/50 [00:00<00:00, 69.12it/s]\n",
      "100%|██████████| 51/51 [00:00<00:00, 52.90it/s]\n",
      "100%|██████████| 52/52 [00:00<00:00, 62.41it/s]\n",
      "100%|██████████| 52/52 [00:01<00:00, 51.69it/s]\n",
      "100%|██████████| 49/49 [00:00<00:00, 59.10it/s]\n",
      "100%|██████████| 51/51 [00:00<00:00, 54.99it/s]\n",
      "100%|██████████| 56/56 [00:00<00:00, 73.17it/s] \n",
      "100%|██████████| 54/54 [00:00<00:00, 59.41it/s]\n",
      "100%|██████████| 53/53 [00:00<00:00, 70.13it/s]\n",
      "100%|██████████| 54/54 [00:00<00:00, 63.59it/s]\n",
      "100%|██████████| 48/48 [00:00<00:00, 69.68it/s]\n",
      "100%|██████████| 50/50 [00:00<00:00, 55.17it/s]\n",
      "100%|██████████| 50/50 [00:00<00:00, 60.20it/s]\n",
      "100%|██████████| 52/52 [00:00<00:00, 52.65it/s]\n",
      "100%|██████████| 64/64 [00:01<00:00, 63.50it/s]\n",
      "100%|██████████| 50/50 [00:00<00:00, 53.03it/s]\n",
      "100%|██████████| 50/50 [00:00<00:00, 67.57it/s]\n",
      "100%|██████████| 51/51 [00:00<00:00, 52.13it/s]\n",
      "100%|██████████| 50/50 [00:00<00:00, 55.97it/s]\n",
      "100%|██████████| 51/51 [00:00<00:00, 58.77it/s]\n",
      "100%|██████████| 50/50 [00:00<00:00, 62.20it/s]\n",
      "100%|██████████| 50/50 [00:00<00:00, 52.45it/s]\n",
      "100%|██████████| 51/51 [00:00<00:00, 64.40it/s]\n",
      "100%|██████████| 54/54 [00:01<00:00, 51.45it/s]\n",
      "100%|██████████| 50/50 [00:00<00:00, 59.71it/s]\n",
      "100%|██████████| 66/66 [00:01<00:00, 50.06it/s]\n",
      "100%|██████████| 50/50 [00:00<00:00, 74.09it/s]\n",
      "100%|██████████| 51/51 [00:00<00:00, 55.44it/s]\n",
      "100%|██████████| 53/53 [00:00<00:00, 68.74it/s]\n",
      "100%|██████████| 50/50 [00:00<00:00, 61.27it/s]\n",
      "100%|██████████| 60/60 [00:00<00:00, 65.96it/s]\n",
      "100%|██████████| 50/50 [00:00<00:00, 57.42it/s]\n"
     ]
    }
   ],
   "source": [
    "data_path = \"../game_logs/unranked_games\"\n",
    "for batch in os.listdir(data_path):\n",
    "    if not os.path.isdir(os.path.join(data_path, batch)):\n",
    "        continue\n",
    "    for bot in os.listdir(os.path.join(data_path, batch)):\n",
    "        for game_id in tqdm(os.listdir(os.path.join(data_path, batch, bot))):\n",
    "            try:\n",
    "                path = os.path.join(data_path, batch, bot, game_id)\n",
    "                game = GameHistory.from_file(os.path.join(path, f\"game_{game_id}.log\"))\n",
    "                game_log = os.path.join(path, f\"move_scores_{game_id}.csv\")\n",
    "                df = pd.read_csv(game_log)\n",
    "                \n",
    "                gr_df = df.groupby(\"move_number\")\n",
    "                risky_moves = np.where(gr_df[\"analytical\"].max() - gr_df.first()[\"analytical\"] < risky_move_threshold)[0] + 1\n",
    "                risky_moves = np.append(risky_moves, np.where(gr_df[\"analytical\"].max() - gr_df.first()[\"analytical\"] >= risky_move_threshold)[0] + 1)\n",
    "                \n",
    "                true_scores = gr_df.max()[\"true_score\"]\n",
    "                for move in risky_moves:\n",
    "                    category = np.digitize(move, categories) - 1\n",
    "                    if move < len(gr_df):\n",
    "                        result = np.digitize(true_scores[move] - true_scores[move + 1], result_thresholds)\n",
    "                        results.iloc[category, result+1] += 1\n",
    "                    else:\n",
    "                        result = 2 * (game.get_white_player_name() == \"Zubat\") == game.get_winner_color()\n",
    "                        results.iloc[category, result+1] += 1\n",
    "            except:\n",
    "                pass"
   ],
   "metadata": {
    "collapsed": false,
    "ExecuteTime": {
     "end_time": "2024-01-02T20:33:05.605524200Z",
     "start_time": "2024-01-02T20:32:04.592562200Z"
    }
   },
   "id": "c6ed104c9d3c792d"
  },
  {
   "cell_type": "code",
   "execution_count": 30,
   "outputs": [
    {
     "data": {
      "text/plain": "  move number  positive  neutral  negative\n0     (0, 20)      9776    45030     11329\n1    (20, 40)      9874    33434     11595\n2    (40, 60)      3939    15632      4001\n3    (60, 80)      1431     6782      1177\n4   (80, 100)       571     3530       457\n5  (100, 120)       285     1634       209\n6  (120, inf)       170      916       125",
      "text/html": "<div>\n<style scoped>\n    .dataframe tbody tr th:only-of-type {\n        vertical-align: middle;\n    }\n\n    .dataframe tbody tr th {\n        vertical-align: top;\n    }\n\n    .dataframe thead th {\n        text-align: right;\n    }\n</style>\n<table border=\"1\" class=\"dataframe\">\n  <thead>\n    <tr style=\"text-align: right;\">\n      <th></th>\n      <th>move number</th>\n      <th>positive</th>\n      <th>neutral</th>\n      <th>negative</th>\n    </tr>\n  </thead>\n  <tbody>\n    <tr>\n      <th>0</th>\n      <td>(0, 20)</td>\n      <td>9776</td>\n      <td>45030</td>\n      <td>11329</td>\n    </tr>\n    <tr>\n      <th>1</th>\n      <td>(20, 40)</td>\n      <td>9874</td>\n      <td>33434</td>\n      <td>11595</td>\n    </tr>\n    <tr>\n      <th>2</th>\n      <td>(40, 60)</td>\n      <td>3939</td>\n      <td>15632</td>\n      <td>4001</td>\n    </tr>\n    <tr>\n      <th>3</th>\n      <td>(60, 80)</td>\n      <td>1431</td>\n      <td>6782</td>\n      <td>1177</td>\n    </tr>\n    <tr>\n      <th>4</th>\n      <td>(80, 100)</td>\n      <td>571</td>\n      <td>3530</td>\n      <td>457</td>\n    </tr>\n    <tr>\n      <th>5</th>\n      <td>(100, 120)</td>\n      <td>285</td>\n      <td>1634</td>\n      <td>209</td>\n    </tr>\n    <tr>\n      <th>6</th>\n      <td>(120, inf)</td>\n      <td>170</td>\n      <td>916</td>\n      <td>125</td>\n    </tr>\n  </tbody>\n</table>\n</div>"
     },
     "execution_count": 30,
     "metadata": {},
     "output_type": "execute_result"
    }
   ],
   "source": [
    "results = results.rename(columns={'category': 'move number'})\n",
    "results"
   ],
   "metadata": {
    "collapsed": false,
    "ExecuteTime": {
     "end_time": "2024-01-02T20:35:02.220965800Z",
     "start_time": "2024-01-02T20:35:02.137964900Z"
    }
   },
   "id": "8f576683ed30390e"
  },
  {
   "cell_type": "code",
   "execution_count": 31,
   "outputs": [
    {
     "data": {
      "text/plain": "  move number  positive   neutral  negative\n0     (0, 20)  0.147819  0.680880  0.171301\n1    (20, 40)  0.179844  0.608965  0.211191\n2    (40, 60)  0.167105  0.663160  0.169735\n3    (60, 80)  0.152396  0.722258  0.125346\n4   (80, 100)  0.125274  0.774462  0.100263\n5  (100, 120)  0.133929  0.767857  0.098214\n6  (120, inf)  0.140380  0.756400  0.103220",
      "text/html": "<div>\n<style scoped>\n    .dataframe tbody tr th:only-of-type {\n        vertical-align: middle;\n    }\n\n    .dataframe tbody tr th {\n        vertical-align: top;\n    }\n\n    .dataframe thead th {\n        text-align: right;\n    }\n</style>\n<table border=\"1\" class=\"dataframe\">\n  <thead>\n    <tr style=\"text-align: right;\">\n      <th></th>\n      <th>move number</th>\n      <th>positive</th>\n      <th>neutral</th>\n      <th>negative</th>\n    </tr>\n  </thead>\n  <tbody>\n    <tr>\n      <th>0</th>\n      <td>(0, 20)</td>\n      <td>0.147819</td>\n      <td>0.680880</td>\n      <td>0.171301</td>\n    </tr>\n    <tr>\n      <th>1</th>\n      <td>(20, 40)</td>\n      <td>0.179844</td>\n      <td>0.608965</td>\n      <td>0.211191</td>\n    </tr>\n    <tr>\n      <th>2</th>\n      <td>(40, 60)</td>\n      <td>0.167105</td>\n      <td>0.663160</td>\n      <td>0.169735</td>\n    </tr>\n    <tr>\n      <th>3</th>\n      <td>(60, 80)</td>\n      <td>0.152396</td>\n      <td>0.722258</td>\n      <td>0.125346</td>\n    </tr>\n    <tr>\n      <th>4</th>\n      <td>(80, 100)</td>\n      <td>0.125274</td>\n      <td>0.774462</td>\n      <td>0.100263</td>\n    </tr>\n    <tr>\n      <th>5</th>\n      <td>(100, 120)</td>\n      <td>0.133929</td>\n      <td>0.767857</td>\n      <td>0.098214</td>\n    </tr>\n    <tr>\n      <th>6</th>\n      <td>(120, inf)</td>\n      <td>0.140380</td>\n      <td>0.756400</td>\n      <td>0.103220</td>\n    </tr>\n  </tbody>\n</table>\n</div>"
     },
     "execution_count": 31,
     "metadata": {},
     "output_type": "execute_result"
    }
   ],
   "source": [
    "results2 = results.copy()\n",
    "results2[\"positive\"] = results[\"positive\"] / (results[\"positive\"] + results[\"neutral\"] + results[\"negative\"])\n",
    "results2[\"neutral\"] = results[\"neutral\"] / (results[\"positive\"] + results[\"neutral\"] + results[\"negative\"])\n",
    "results2[\"negative\"] = results[\"negative\"] / (results[\"positive\"] + results[\"neutral\"] + results[\"negative\"])\n",
    "results2"
   ],
   "metadata": {
    "collapsed": false,
    "ExecuteTime": {
     "end_time": "2024-01-02T20:35:16.273652400Z",
     "start_time": "2024-01-02T20:35:16.197276900Z"
    }
   },
   "id": "bf0e591a6e687c8a"
  },
  {
   "cell_type": "code",
   "execution_count": 32,
   "outputs": [],
   "source": [
    "results.to_csv(\"tables/risk_results_time.csv\", index=False)\n",
    "results2.to_csv(\"tables/risk_results_time_percentage.csv\", index=False)"
   ],
   "metadata": {
    "collapsed": false,
    "ExecuteTime": {
     "end_time": "2024-01-02T20:35:59.717306Z",
     "start_time": "2024-01-02T20:35:59.633239400Z"
    }
   },
   "id": "2edaa920edb870e8"
  },
  {
   "cell_type": "code",
   "execution_count": 37,
   "outputs": [
    {
     "name": "stdout",
     "output_type": "stream",
     "text": [
      "\\begin{tabular}{lrrr}\n",
      "\\toprule\n",
      "move number &  positive &  neutral &  negative \\\\\n",
      "\\midrule\n",
      "    (0, 20) &    14.78\\% &   68.09\\% &    17.13\\% \\\\\n",
      "   (20, 40) &    17.98\\% &   60.90\\% &    21.12\\% \\\\\n",
      "   (40, 60) &    16.71\\% &   66.32\\% &    16.97\\% \\\\\n",
      "   (60, 80) &    15.24\\% &   72.23\\% &    12.53\\% \\\\\n",
      "  (80, 100) &    12.53\\% &   77.45\\% &    10.03\\% \\\\\n",
      " (100, 120) &    13.39\\% &   76.79\\% &     9.82\\% \\\\\n",
      " (120, inf) &    14.04\\% &   75.64\\% &    10.32\\% \\\\\n",
      "\\bottomrule\n",
      "\\end{tabular}\n"
     ]
    }
   ],
   "source": [
    "print(results2.to_latex(index=False, float_format='{:.2%}'.format))"
   ],
   "metadata": {
    "collapsed": false,
    "ExecuteTime": {
     "end_time": "2024-01-02T20:47:22.153950800Z",
     "start_time": "2024-01-02T20:47:22.077135900Z"
    }
   },
   "id": "801482db829916e0"
  },
  {
   "cell_type": "markdown",
   "source": [
    "### Graph"
   ],
   "metadata": {
    "collapsed": false
   },
   "id": "7d916731f17fb2fb"
  },
  {
   "cell_type": "code",
   "execution_count": 10,
   "outputs": [
    {
     "name": "stderr",
     "output_type": "stream",
     "text": [
      "100%|██████████| 50/50 [00:00<00:00, 124.02it/s]\n",
      "100%|██████████| 51/51 [00:00<00:00, 90.86it/s]\n",
      "100%|██████████| 46/46 [00:00<00:00, 103.68it/s]\n",
      "100%|██████████| 50/50 [00:00<00:00, 85.16it/s] \n",
      "100%|██████████| 54/54 [00:00<00:00, 134.27it/s]\n",
      "100%|██████████| 53/53 [00:00<00:00, 106.10it/s]\n",
      "100%|██████████| 51/51 [00:00<00:00, 106.89it/s]\n",
      "100%|██████████| 56/56 [00:00<00:00, 118.96it/s]\n",
      "100%|██████████| 50/50 [00:00<00:00, 120.39it/s]\n",
      "100%|██████████| 50/50 [00:00<00:00, 104.87it/s]\n",
      "100%|██████████| 50/50 [00:00<00:00, 126.18it/s]\n",
      "100%|██████████| 50/50 [00:00<00:00, 98.27it/s] \n",
      "100%|██████████| 50/50 [00:00<00:00, 126.47it/s]\n",
      "100%|██████████| 50/50 [00:00<00:00, 105.81it/s]\n",
      "100%|██████████| 53/53 [00:00<00:00, 109.57it/s]\n",
      "100%|██████████| 51/51 [00:00<00:00, 104.15it/s]\n",
      "100%|██████████| 47/47 [00:00<00:00, 133.96it/s]\n",
      "100%|██████████| 51/51 [00:00<00:00, 103.13it/s]\n",
      "100%|██████████| 50/50 [00:00<00:00, 129.66it/s]\n",
      "100%|██████████| 50/50 [00:00<00:00, 113.85it/s]\n",
      "100%|██████████| 47/47 [00:00<00:00, 108.81it/s]\n",
      "100%|██████████| 52/52 [00:00<00:00, 100.86it/s]\n",
      "100%|██████████| 48/48 [00:00<00:00, 122.60it/s]\n",
      "100%|██████████| 50/50 [00:00<00:00, 97.94it/s] \n",
      "100%|██████████| 52/52 [00:00<00:00, 125.07it/s]\n",
      "100%|██████████| 53/53 [00:00<00:00, 104.85it/s]\n",
      "100%|██████████| 55/55 [00:00<00:00, 122.80it/s]\n",
      "100%|██████████| 56/56 [00:00<00:00, 122.65it/s]\n",
      "100%|██████████| 50/50 [00:00<00:00, 110.62it/s]\n",
      "100%|██████████| 50/50 [00:00<00:00, 102.87it/s]\n",
      "100%|██████████| 50/50 [00:00<00:00, 128.23it/s]\n",
      "100%|██████████| 50/50 [00:00<00:00, 98.41it/s] \n",
      "100%|██████████| 51/51 [00:00<00:00, 126.17it/s]\n",
      "100%|██████████| 50/50 [00:00<00:00, 100.83it/s]\n",
      "100%|██████████| 50/50 [00:00<00:00, 133.47it/s]\n",
      "100%|██████████| 50/50 [00:00<00:00, 103.54it/s]\n",
      "100%|██████████| 50/50 [00:00<00:00, 113.03it/s]\n",
      "100%|██████████| 52/52 [00:00<00:00, 108.81it/s]\n",
      "100%|██████████| 50/50 [00:00<00:00, 129.86it/s]\n",
      "100%|██████████| 51/51 [00:00<00:00, 97.59it/s] \n",
      "100%|██████████| 52/52 [00:00<00:00, 134.13it/s]\n",
      "100%|██████████| 52/52 [00:00<00:00, 94.08it/s] \n",
      "100%|██████████| 49/49 [00:00<00:00, 121.66it/s]\n",
      "100%|██████████| 51/51 [00:00<00:00, 108.77it/s]\n",
      "100%|██████████| 56/56 [00:00<00:00, 127.38it/s]\n",
      "100%|██████████| 54/54 [00:00<00:00, 112.12it/s]\n",
      "100%|██████████| 53/53 [00:00<00:00, 130.68it/s]\n",
      "100%|██████████| 54/54 [00:00<00:00, 113.62it/s]\n",
      "100%|██████████| 48/48 [00:00<00:00, 124.43it/s]\n",
      "100%|██████████| 50/50 [00:00<00:00, 94.08it/s]\n",
      "100%|██████████| 50/50 [00:00<00:00, 103.78it/s]\n",
      "100%|██████████| 52/52 [00:00<00:00, 108.89it/s]\n",
      "100%|██████████| 64/64 [00:00<00:00, 117.59it/s]\n",
      "100%|██████████| 50/50 [00:00<00:00, 107.74it/s]\n",
      "100%|██████████| 50/50 [00:00<00:00, 128.82it/s]\n",
      "100%|██████████| 51/51 [00:00<00:00, 91.06it/s] \n",
      "100%|██████████| 50/50 [00:00<00:00, 107.08it/s]\n",
      "100%|██████████| 51/51 [00:00<00:00, 99.53it/s] \n",
      "100%|██████████| 50/50 [00:00<00:00, 116.24it/s]\n",
      "100%|██████████| 50/50 [00:00<00:00, 106.56it/s]\n",
      "100%|██████████| 51/51 [00:00<00:00, 109.15it/s]\n",
      "100%|██████████| 54/54 [00:00<00:00, 112.15it/s]\n",
      "100%|██████████| 50/50 [00:00<00:00, 104.37it/s]\n",
      "100%|██████████| 66/66 [00:00<00:00, 100.68it/s]\n",
      "100%|██████████| 50/50 [00:00<00:00, 113.17it/s]\n",
      "100%|██████████| 51/51 [00:00<00:00, 109.18it/s]\n",
      "100%|██████████| 53/53 [00:00<00:00, 127.94it/s]\n",
      "100%|██████████| 50/50 [00:00<00:00, 102.82it/s]\n",
      "100%|██████████| 60/60 [00:00<00:00, 129.33it/s]\n",
      "100%|██████████| 50/50 [00:00<00:00, 110.98it/s]\n"
     ]
    },
    {
     "data": {
      "text/plain": "[(29, 8000),\n (26, -5),\n (27, -898),\n (52, -8000),\n (36, -8000),\n (25, -39),\n (21, 27),\n (31, 8000),\n (24, -172),\n (22, 5),\n (37, -14),\n (8, -29),\n (20, 78),\n (21, 7),\n (71, 0),\n (19, 32),\n (26, -256),\n (23, -100),\n (22, 8000),\n (30, -5),\n (16, -197),\n (13, -30),\n (20, -52),\n (82, 46),\n (21, -8000),\n (38, -686),\n (19, -8),\n (73, 8000),\n (101, 8000),\n (103, -4033),\n (38, -13),\n (37, -46),\n (68, -75),\n (19, -76),\n (29, -8000),\n (28, -95),\n (33, -13),\n (10, -86),\n (29, 8000),\n (42, -10),\n (43, -222),\n (36, -28),\n (101, -4),\n (104, 1),\n (21, 10),\n (15, -8000),\n (14, -100),\n (59, 2605),\n (60, 8000),\n (22, -101),\n (30, -393),\n (2, -79),\n (6, -26),\n (36, -8000),\n (33, 113),\n (34, 57),\n (37, -7180),\n (35, -8000),\n (7, -49),\n (32, -12),\n (37, 5),\n (21, -34),\n (22, -69),\n (34, -65),\n (35, -109),\n (28, -157),\n (35, -8000),\n (31, -18),\n (10, -967),\n (12, 173),\n (17, -178),\n (25, 279),\n (16, -459),\n (58, -59),\n (67, -11),\n (5, -21),\n (26, 8000),\n (9, -57),\n (20, -40),\n (40, -49),\n (27, -64),\n (50, 8000),\n (31, -172),\n (2, -79),\n (35, -44),\n (18, -1133),\n (27, 36),\n (20, -16),\n (20, -71),\n (27, -157),\n (2, -72),\n (33, -143),\n (35, -9),\n (41, 35),\n (9, -158),\n (35, 26),\n (71, -8),\n (75, -8000),\n (44, -8000),\n (47, -689),\n (49, -269),\n (2, -72),\n (31, -25),\n (49, 453),\n (61, 8000),\n (10, -328),\n (32, 8),\n (35, -25),\n (51, 351),\n (54, 18),\n (57, -5),\n (60, -8000),\n (67, 28),\n (14, -46),\n (11, -32),\n (2, -74),\n (34, -369),\n (28, -60),\n (42, 61),\n (17, 46),\n (41, -8000),\n (49, 2),\n (39, -8000),\n (26, 70),\n (24, -28),\n (32, -18),\n (34, 32),\n (38, 254),\n (52, 9),\n (17, -21),\n (21, -39),\n (27, -247),\n (29, -184),\n (40, -8000),\n (30, -8000),\n (5, -74),\n (19, -114),\n (65, 507),\n (29, -63),\n (30, 0),\n (29, 5),\n (51, -5),\n (52, 8),\n (22, -107),\n (57, -8000),\n (18, -307),\n (19, -222),\n (20, -46),\n (9, -428),\n (35, -63),\n (36, -60),\n (57, 618),\n (33, -156),\n (62, -2),\n (64, 0),\n (75, 17),\n (25, 0),\n (49, 0),\n (54, -602),\n (56, 8000),\n (57, -8000),\n (9, 206),\n (28, -328),\n (49, 8000),\n (50, 8000),\n (51, 0),\n (2, -79),\n (7, 3),\n (2, -68),\n (27, -527),\n (22, -1076),\n (45, -8000),\n (27, -68),\n (31, 155),\n (54, 92),\n (61, -8000),\n (47, 8000),\n (12, 15),\n (16, -167),\n (28, -48),\n (29, -16),\n (37, -26),\n (44, -8000),\n (20, -120),\n (36, -519),\n (42, 8000),\n (29, -556),\n (32, -106),\n (3, -67),\n (4, 5),\n (26, -8000),\n (28, -8000),\n (30, 8000),\n (17, -176),\n (23, 670),\n (2, -61),\n (25, -100),\n (27, -69),\n (40, 8000),\n (41, 8000),\n (42, 8000),\n (4, -94),\n (27, 136),\n (30, -32),\n (34, 8000),\n (11, 17),\n (13, -33),\n (14, -123),\n (15, -105),\n (20, 8),\n (21, 49),\n (22, -7),\n (25, -198),\n (28, 427),\n (25, 0),\n (20, -66),\n (2, -56),\n (24, -19),\n (25, -169),\n (36, -18),\n (42, 8000),\n (44, 8000),\n (5, -13),\n (32, -355),\n (26, -164),\n (43, 1),\n (54, -30),\n (59, 23),\n (4, -94),\n (20, 93),\n (33, -40),\n (41, -40),\n (42, 28),\n (43, -70),\n (46, 74),\n (15, -338),\n (40, -121),\n (51, 8000),\n (7, 68),\n (39, -92),\n (50, 18),\n (51, -126),\n (69, 8000),\n (70, 8000),\n (71, -8000),\n (9, -47),\n (20, -8),\n (24, 479),\n (29, 0),\n (30, 8000),\n (24, 106),\n (27, 153),\n (36, -81),\n (44, 8000),\n (45, 8000),\n (48, 8000),\n (49, 8000),\n (24, 8000),\n (27, 8000),\n (23, -230),\n (33, -15),\n (2, -63),\n (30, -54),\n (32, -8000),\n (23, -414),\n (8, -49),\n (20, -330),\n (28, -105),\n (31, -77),\n (31, 26),\n (45, 8000),\n (7, -54),\n (9, 49),\n (23, -123),\n (14, -121),\n (16, -92),\n (10, -158),\n (27, 8000),\n (31, 8000),\n (32, 8000),\n (11, -95),\n (12, -626),\n (18, -196),\n (27, -59),\n (50, -38),\n (14, 145),\n (15, -150),\n (17, -50),\n (24, 27),\n (25, -196),\n (37, -17),\n (8, -61),\n (10, -57),\n (24, 674),\n (28, -77),\n (29, -553),\n (3, -124),\n (11, -2),\n (20, -13),\n (36, -334),\n (43, -38),\n (14, -37),\n (16, -246),\n (18, -68),\n (27, 8000),\n (52, -8000),\n (53, -8000),\n (55, 8000),\n (19, -121),\n (20, -2),\n (32, 17),\n (33, -19),\n (42, 8000),\n (44, -3536),\n (46, 8000),\n (47, 8000),\n (48, 8000),\n (49, 8000),\n (50, 8000),\n (51, 8000),\n (52, 8000),\n (53, 8000),\n (54, 8000),\n (55, 8000),\n (56, 8000),\n (57, 8000),\n (58, 8000),\n (59, 8000),\n (60, 8000),\n (61, 8000),\n (62, 8000),\n (63, 8000),\n (64, -8000),\n (30, -23),\n (35, 14),\n (44, -1),\n (55, 40),\n (22, -95),\n (29, -551),\n (35, -4),\n (36, 212),\n (40, -21),\n (41, -127),\n (15, -45),\n (42, 21),\n (44, -25),\n (53, 22),\n (9, -122),\n (10, -4),\n (12, -136),\n (17, -54),\n (22, -326),\n (19, 15),\n (24, -327),\n (37, -5),\n (47, 8000),\n (9, 212),\n (10, -10),\n (13, -61),\n (19, -129),\n (26, -156),\n (28, -8000),\n (21, -8000),\n (22, 7728),\n (27, 63),\n (8, 90),\n (28, -4),\n (32, 40),\n (34, -25),\n (36, 5),\n (40, 26),\n (44, 221),\n (47, -199),\n (50, -527),\n (8, -78),\n (9, -464),\n (11, 27),\n (13, -138),\n (17, -32),\n (18, -186),\n (19, 77),\n (21, -27),\n (20, 38),\n (21, -56),\n (30, -206),\n (35, -46),\n (40, 45),\n (46, -17),\n (49, -8000),\n (9, 202),\n (10, -325),\n (13, -39),\n (16, -100),\n (30, -8000),\n (5, -30),\n (9, -394),\n (19, -78),\n (23, -36),\n (23, -171),\n (29, -8000),\n (31, 8000),\n (12, -420),\n (19, 42),\n (32, 0),\n (33, -18),\n (39, -8000),\n (11, -174),\n (12, 28),\n (17, 8000),\n (9, -85),\n (15, -480),\n (18, -60),\n (31, -8000),\n (21, -25),\n (35, -7),\n (41, -20),\n (50, 136),\n (62, 70),\n (74, -283),\n (75, -264),\n (76, -330),\n (81, -8000),\n (10, -22),\n (30, -255),\n (11, 3),\n (21, -70),\n (31, -34),\n (47, 0),\n (69, 48),\n (78, 4),\n (82, -6),\n (88, 15),\n (95, 20),\n (97, 24),\n (99, 49),\n (101, -17),\n (20, 35),\n (24, -41),\n (18, -196),\n (29, -50),\n (52, -8000),\n (56, 8000),\n (6, -49),\n (15, -90),\n (19, -118),\n (37, -446),\n (41, -8000),\n (13, -307),\n (18, -36),\n (20, -119),\n (26, 18),\n (41, 8000),\n (42, 8000),\n (43, 8000),\n (44, 8000),\n (45, 8000),\n (47, -8000),\n (10, -22),\n (13, 529),\n (15, 298),\n (17, 63),\n (19, -10),\n (21, -39),\n (24, -33),\n (9, -437),\n (10, -217),\n (18, 27),\n (26, 34),\n (31, -227),\n (45, -238),\n (32, -304),\n (48, 9),\n (55, -24),\n (58, 4),\n (61, 5),\n (92, -8),\n (12, -17),\n (32, 170),\n (7, 562),\n (8, -185),\n (13, -885),\n (18, -686),\n (20, -260),\n (23, 6),\n (27, 9),\n (28, -151),\n (32, -8000),\n (16, -139),\n (17, -105),\n (29, 8000),\n (24, -2),\n (27, 42),\n (28, 67),\n (36, 19),\n (8, 311),\n (16, -13),\n (24, 35),\n (27, 87),\n (29, -273),\n (30, 181),\n (31, 120),\n (34, -2),\n (35, -72),\n (41, -12),\n (52, -8000),\n (14, -72),\n (18, -4),\n (15, 146),\n (14, -25),\n (18, -97),\n (22, -83),\n (23, -10),\n (28, -17),\n (33, -44),\n (34, -63),\n (37, 283),\n (44, -86),\n (47, -30),\n (48, -7),\n (50, -374),\n (55, -7),\n (62, -222),\n (78, -8000),\n (15, 603),\n (18, -179),\n (19, -5),\n (23, -148),\n (35, -1119),\n (56, -198),\n (12, -26),\n (15, -147),\n (31, -8000),\n (5, 23),\n (22, -34),\n (38, -270),\n (39, 291),\n (20, -60),\n (25, 60),\n (27, -23),\n (29, -413),\n (30, -157),\n (31, -30),\n (15, 8),\n (23, 21),\n (35, -298),\n (47, 45),\n (49, -46),\n (51, -9),\n (54, 23),\n (56, 26),\n (9, -366),\n (12, -162),\n (19, -28),\n (46, 12),\n (51, -49),\n (53, -18),\n (55, -119),\n (59, -82),\n (61, -115),\n (63, -8000),\n (2, -139),\n (25, -69),\n (27, 10),\n (35, -6),\n (36, -31),\n (38, 101),\n (40, 523),\n (3, -169),\n (28, -75),\n (29, -500),\n (31, -3),\n (20, -17),\n (21, -61),\n (22, -68),\n (28, -89),\n (32, -39),\n (38, 14),\n (40, 107),\n (45, -10),\n (46, 8000),\n (20, -211),\n (22, -4),\n (25, -19),\n (28, -8000),\n (31, -207),\n (34, -31),\n (2, -153),\n (9, -103),\n (10, -67),\n (11, 27),\n (14, 123),\n (18, -48),\n (19, -155),\n (20, -234),\n (33, -285),\n (2, -145),\n (15, -55),\n (26, 971),\n (30, 2),\n (5, 312),\n (7, -213),\n (17, 20),\n (29, -41),\n (55, 2592),\n (58, -18),\n (62, -1),\n (63, 22),\n (64, -21),\n (66, -6),\n (67, 10),\n (68, -28),\n (69, 25),\n (72, 77),\n (73, -5),\n (74, 0),\n (77, -11),\n (80, -23),\n (81, 8),\n (83, 35),\n (84, 8000),\n (86, 8000),\n (88, 8000),\n (90, 8000),\n (100, 8000),\n (101, -3715),\n (102, -28),\n (103, 6),\n (105, -18),\n (106, -16),\n (108, 14),\n (109, -29),\n (110, -8000),\n (3, -127),\n (19, -68),\n (21, -189),\n (31, -181),\n (36, 8000),\n (14, -51),\n (4, -65),\n (14, -25),\n (25, 41),\n (26, 68),\n (30, -10),\n (32, -8),\n (34, -179),\n (37, -115),\n (40, -49),\n (42, 14),\n (44, -3),\n (49, -186),\n (53, 213),\n (66, 8000),\n (69, 8000),\n (72, 8000),\n (78, 8000),\n (81, 8000),\n (82, 8000),\n (84, 0),\n (6, -41),\n (15, -18),\n (3, -17),\n (27, -70),\n (33, 66),\n (37, 3),\n (70, -39),\n (73, 36),\n (74, -49),\n (83, -16),\n (4, -38),\n (5, -13),\n (18, -87),\n (30, 8000),\n (32, 8000),\n (5, -41),\n (10, -315),\n (23, -67),\n (24, -68),\n (39, -8000),\n (40, 8000),\n (4, -45),\n (21, -10),\n (4, -50),\n (21, 9),\n (24, 5),\n (28, -23),\n (30, -39),\n (32, -468),\n (38, 10),\n (45, 18),\n (46, 16),\n (48, -78),\n (50, -83),\n (37, -66),\n (39, -44),\n (45, 2),\n (54, -8),\n (59, -18),\n (62, -31),\n (64, -2692),\n (22, 2),\n (23, 1),\n (25, -2),\n (37, -179),\n (46, -2),\n (51, -104),\n (54, -15),\n (58, -3),\n (60, -13),\n (63, 8000),\n (66, 182),\n (71, -104),\n (72, -96),\n (78, 8000),\n (81, 8000),\n (83, 8000),\n (86, 8000),\n (88, 8000),\n (3, -142),\n (14, -32),\n (15, 39),\n (16, 59),\n (19, 38),\n (20, -41),\n (28, 5),\n (29, 3),\n (30, 18),\n (31, 7),\n (33, -22),\n (34, -8000),\n (11, -21),\n (2, -157),\n (5, -5),\n (12, -243),\n (15, -1),\n (22, 78),\n (26, 8000),\n (23, -19),\n (27, -61),\n (33, 36),\n (35, -125),\n (41, 35),\n (42, 146),\n (57, 13),\n (62, 8000),\n (45, -11),\n (2, -149),\n (17, -119),\n (3, -157),\n (11, -16),\n (25, -731),\n (2, -155),\n (20, -80),\n (22, -180),\n (32, -154),\n (2, -65),\n (17, 44),\n (18, 0),\n (2, -77),\n (23, -36),\n (26, -155),\n (36, 328),\n (38, 21),\n (39, -30),\n (43, 8000),\n (44, 8000),\n (48, -8000),\n (49, -8000),\n (2, -71),\n (25, -124),\n (29, -20),\n (56, -8000),\n (58, -8000),\n (2, -71),\n (41, -195),\n (2, -63),\n (18, 18),\n (21, -36),\n (28, 15),\n (30, 27),\n (33, 8000),\n (34, 8000),\n (14, -273),\n (13, -120),\n (29, 32),\n (31, 26),\n (27, -314),\n (11, -401),\n (21, -347),\n (24, -452),\n (27, -242),\n (31, -215),\n (32, -48),\n (2, -71),\n (28, 27),\n (31, 8000),\n (4, -34),\n (5, -94),\n (2, -66),\n (27, -183),\n (38, -89),\n (65, -8000),\n (22, 15),\n (24, -82),\n (32, 23),\n (5, 4),\n (13, -177),\n (17, -102),\n (32, 8000),\n (2, -63),\n (40, 8000),\n (4, -76),\n (10, -101),\n (13, -41),\n (25, -146),\n (26, 77),\n (16, 241),\n (27, 135),\n (32, -26),\n (33, -6),\n (41, -3),\n (46, 201),\n (47, 23),\n (11, -108),\n (29, 14),\n (30, -91),\n (15, -73),\n (19, -14),\n (20, 2),\n (21, -582),\n (22, -21),\n (25, -71),\n (26, -35),\n (27, -77),\n (29, -62),\n (30, 35),\n (35, 80),\n (36, -69),\n (37, -7),\n (38, -35),\n (39, -31),\n (40, 15),\n (41, -42),\n (43, -49),\n (47, -34),\n (48, -13),\n (55, -57),\n (58, -573),\n (3, -65),\n (11, -3),\n (19, -3),\n (32, -33),\n (40, -8000),\n (41, -8000),\n (5, -97),\n (18, 284),\n (21, -17),\n (22, -157),\n (23, 2),\n (48, 0),\n (15, -70),\n (16, -78),\n (17, 12),\n (19, -26),\n (5, -19),\n (24, -31),\n (10, -3),\n (15, -43),\n (16, -8),\n (24, -64),\n (30, 14),\n (8, 106),\n (26, -41),\n (28, -8000),\n (18, 66),\n (26, 179),\n (32, 92),\n (33, 369),\n (42, 77),\n (43, -65),\n (52, 8000),\n (55, 8000),\n (56, 8000),\n (57, 8000),\n (58, 8000),\n (22, -74),\n (32, -10),\n (44, -17),\n (47, -78),\n (13, -63),\n (22, -4),\n (23, 15),\n (24, 243),\n (25, 405),\n (26, -669),\n (30, -36),\n (32, -7),\n (35, -58),\n (8, -53),\n (9, -434),\n (16, 64),\n (26, -36),\n (27, -32),\n (28, 0),\n (34, -55),\n (13, -8),\n (18, 12),\n (22, -37),\n (23, -769),\n (31, -56),\n (32, -3),\n (44, 8000),\n (15, -424),\n (24, -50),\n (25, -255),\n (26, -5),\n (28, -288),\n (30, -63),\n (13, -239),\n (15, -249),\n (17, -123),\n (13, 58),\n (18, 34),\n (24, -26),\n (26, 186),\n (36, -7),\n (37, -60),\n (47, -13),\n (51, 0),\n (55, -18),\n (57, 52),\n (58, 28),\n (59, 6),\n (60, -42),\n (61, 20),\n (62, 39),\n (7, -100),\n (8, -77),\n (10, 76),\n (17, -116),\n (29, -66),\n (30, 39),\n (32, -145),\n (33, -8000),\n (12, 97),\n (14, -134),\n (15, 160),\n (19, -38),\n (21, -44),\n (23, -157),\n (24, 779),\n (28, -82),\n (29, -74),\n (9, -437),\n (11, -162),\n (13, -69),\n (20, 47),\n (27, -411),\n (33, 8000),\n (16, 85),\n (31, -187),\n (15, -340),\n (16, 130),\n (20, -8000),\n (23, 8000),\n (31, -55),\n (36, -89),\n (47, -55),\n (50, -55),\n (52, -8000),\n (4, -9),\n (18, -45),\n (25, -174),\n (19, -3),\n (33, -12),\n (35, -265),\n (40, -621),\n (17, -276),\n (18, 211),\n (21, -96),\n (22, 36),\n (24, -487),\n (25, 41),\n (26, -73),\n (30, 341),\n (31, -236),\n (36, -8000),\n (4, -28),\n (14, 3),\n (17, 0),\n (28, 0),\n (29, -403),\n (30, 35),\n (38, -42),\n (5, -49),\n (36, 51),\n (38, 8000),\n (8, -150),\n (21, 67),\n (22, 48),\n (29, -65),\n ...]"
     },
     "execution_count": 10,
     "metadata": {},
     "output_type": "execute_result"
    }
   ],
   "source": [
    "data_path = \"../game_logs/unranked_games\"\n",
    "\n",
    "results = []\n",
    "for batch in os.listdir(data_path):\n",
    "    if not os.path.isdir(os.path.join(data_path, batch)):\n",
    "        continue\n",
    "    for bot in os.listdir(os.path.join(data_path, batch)):\n",
    "        for game_id in tqdm(os.listdir(os.path.join(data_path, batch, bot))):\n",
    "            try:\n",
    "                path = os.path.join(data_path, batch, bot, game_id)\n",
    "                game = GameHistory.from_file(os.path.join(path, f\"game_{game_id}.log\"))\n",
    "                game_log = os.path.join(path, f\"move_scores_{game_id}.csv\")\n",
    "                df = pd.read_csv(game_log)\n",
    "                \n",
    "                gr_df = df.groupby(\"move_number\")\n",
    "                risky_moves = np.where(gr_df[\"analytical\"].max() - gr_df.first()[\"analytical\"] > risky_move_threshold)[0] + 1\n",
    "                \n",
    "                true_scores = gr_df.max()[\"true_score\"]\n",
    "                for move in risky_moves:\n",
    "                    if move < len(gr_df):\n",
    "                        if abs(true_scores[move+1]) == 8000:\n",
    "                            results.append((move, true_scores[move+1]))\n",
    "                        else:\n",
    "                            results.append((move, true_scores[move + 1] - true_scores[move]))\n",
    "                    else:\n",
    "                        result = 2 * (game.get_white_player_name() == \"Zubat\") == game.get_winner_color() - 1\n",
    "                        results.append((move, result * 8000))\n",
    "            except:\n",
    "                pass\n",
    "            \n",
    "results"
   ],
   "metadata": {
    "collapsed": false,
    "ExecuteTime": {
     "end_time": "2024-01-02T19:27:31.948450600Z",
     "start_time": "2024-01-02T19:26:59.310474600Z"
    }
   },
   "id": "9170e6b34081e878"
  },
  {
   "cell_type": "code",
   "execution_count": 11,
   "outputs": [
    {
     "data": {
      "text/plain": "<Figure size 640x480 with 1 Axes>",
      "image/png": "[encoded data removed]"
     },
     "metadata": {},
     "output_type": "display_data"
    }
   ],
   "source": [
    "plt.scatter([r[0] for r in results], [r[1] for r in results], s=1)\n",
    "# plt.xlim(0, 200)\n",
    "plt.ylim(-10000, 10000)\n",
    "\n",
    "plt.title(\"Unconventional move scatterplot\")\n",
    "plt.xlabel(\"Position evaluation before move\")\n",
    "plt.ylabel(\"Evaluation delta after move\")\n",
    "\n",
    "plt.savefig('imgs/unconventional_move_scatter.png')"
   ],
   "metadata": {
    "collapsed": false,
    "ExecuteTime": {
     "end_time": "2024-01-02T19:27:32.355397Z",
     "start_time": "2024-01-02T19:27:31.950450600Z"
    }
   },
   "id": "290c844983fbf900"
  },
  {
   "cell_type": "code",
   "execution_count": 12,
   "outputs": [
    {
     "data": {
      "text/plain": "<Figure size 640x480 with 1 Axes>",
      "image/png": "[encoded data removed]"
     },
     "metadata": {},
     "output_type": "display_data"
    }
   ],
   "source": [
    "plt.scatter([r[0] for r in results], [r[1] for r in results], s=1)\n",
    "# plt.xlim(-1300, 1300)\n",
    "# plt.ylim(-1000, 1000)\n",
    "plt.yscale('symlog')\n",
    "\n",
    "plt.title(\"Unconventional move scatterplot (central cluster)\")\n",
    "plt.xlabel(\"Position evaluation before move\")\n",
    "plt.ylabel(\"Evaluation delta after move\")\n",
    "\n",
    "plt.savefig('imgs/unconventional_move_scatter2.png')"
   ],
   "metadata": {
    "collapsed": false,
    "ExecuteTime": {
     "end_time": "2024-01-02T19:28:56.155103500Z",
     "start_time": "2024-01-02T19:28:55.404792700Z"
    }
   },
   "id": "131674ad9f0bb486"
  },
  {
   "cell_type": "markdown",
   "source": [
    "## Individual game"
   ],
   "metadata": {
    "collapsed": false
   },
   "id": "35fe6306a6f9675d"
  },
  {
   "cell_type": "code",
   "execution_count": 56,
   "outputs": [
    {
     "data": {
      "text/plain": "array([15, 18, 22, 15, 18, 22], dtype=int64)"
     },
     "execution_count": 56,
     "metadata": {},
     "output_type": "execute_result"
    }
   ],
   "source": [
    "risky_move_threshold = 50\n",
    "dir = \"../game_logs/unranked_games/u4r4/StrangeFish2\"\n",
    "game_id = \"1701716767\"\n",
    "\n",
    "game = GameHistory.from_file(os.path.join(dir, game_id, f\"game_{game_id}.log\"))\n",
    "game_log = os.path.join(dir, game_id, f\"move_scores_{game_id}.csv\")\n",
    "df = pd.read_csv(game_log)\n",
    "\n",
    "gr_df = df.groupby(\"move_number\")\n",
    "risky_moves = np.where(gr_df[\"analytical\"].max() - gr_df.first()[\"analytical\"] > risky_move_threshold)[0] + 1\n",
    "risky_moves = np.append(risky_moves, np.where(gr_df[\"analytical\"].max() - gr_df.first()[\"analytical\"] >= risky_move_threshold)[0] + 1)\n",
    "risky_moves\n",
    "\n",
    "\n",
    "\n",
    "# analytical_scores = gr_df.max()[\"analytical\"]\n",
    "# for move in risky_moves:\n",
    "#     category = np.digitize(analytical_scores[move], categories)\n",
    "#     if move < len(gr_df):\n",
    "#         result = np.digitize(analytical_scores[move] - analytical_scores[move+1], result_thresholds)\n",
    "#         results.iloc[3-category, result+1] += 1\n",
    "#     else:\n",
    "#         result = 2 * (game.get_white_player_name() == \"Zubat\") == game.get_winner_color()\n",
    "#         results.iloc[3-category, result+1] += 1"
   ],
   "metadata": {
    "collapsed": false,
    "ExecuteTime": {
     "end_time": "2023-12-13T05:47:46.158695600Z",
     "start_time": "2023-12-13T05:47:46.072697Z"
    }
   },
   "id": "3d64ea36f59983be"
  },
  {
   "cell_type": "code",
   "execution_count": 57,
   "outputs": [
    {
     "data": {
      "text/plain": "     move_number  move       score  analytical  uncertainty      gamble\n507           15  e4e5   31.864500 -115.603182     0.404987  528.258349\n508           15  e1e3   21.137266  -11.577182     0.102272  439.754000\n509           15  e1f2   12.785331  -66.594091     0.243324  452.458076\n510           15  b3d4   11.251639  -24.526045     0.151416  272.575000\n511           15  e1g3  -36.801903 -115.868091     0.299893  327.296000\n512           15  c1e3  -41.353170  -78.139545     0.161344  256.000000\n513           15  e1d2  -74.031595  -94.757727     0.326396  -73.000000\n514           15  h2h3  -75.985076 -139.006045     0.243324  318.000000\n515           15  d3d4  -90.270673 -182.021364     0.326266  362.428571\n516           15  a2a4 -124.958131 -214.957727     0.280663  441.335294\n517           15  c1g5 -129.597522 -222.124682     0.280663  459.346667\n518           15  g1h1 -131.196233 -186.751500     0.251538  241.725000\n519           15  c1f4 -150.670264 -240.083318     0.230609  575.451712\n520           15  c1d2 -154.691834 -207.503182     0.213757  294.125000\n521           15  g2h3 -159.369812 -200.449545     0.161344  309.220000\n522           15  0000 -172.861663 -205.203182     0.102272  432.461111\n523           15  c1h6 -175.784853 -220.496955     0.251538  155.510000\n524           15  c3c4 -184.731735 -203.948636     0.102272  175.800000\n525           15  h2h4 -209.875879 -255.621364     0.137181  466.937692\n526           15  a2a3 -211.496682 -244.266818     0.326396    0.800000\n527           15  f1f2 -222.582385 -294.530455     0.336049  228.200000\n528           15  f1f3 -231.726950 -256.596273     0.214576   31.800000\n529           15  c1b2 -238.351248 -258.521364     0.214576  -12.000000\n530           15  a1b1 -290.950023 -326.403182     0.336049   11.000000\n531           15  e1d1 -298.792039 -338.821364     0.137181  383.600000\n532           15  b3d2 -311.479038 -339.712273     0.326396  -27.000000\n533           15  e1h4 -354.386803 -442.439136     0.404987  234.840000\n534           15  c1a3 -365.127204 -426.768773     0.230038  335.925714\n535           15  f1f6 -366.111356 -414.247727     0.161344  396.693333\n536           15  f1f4 -385.914569 -402.619682     0.213757  -43.700000\n537           15  b3a5 -398.678485 -421.696955     0.243324  -10.800000\n538           15  g2g4 -404.264076 -440.441500     0.251538   87.650000\n539           15  g2g3 -407.493363 -408.023318     0.151416 -193.000000\n540           15  g1f2 -451.071235 -439.362864     0.137181 -370.700000\n541           15  e1e2 -467.054377 -485.057727     0.151416   37.800000\n542           15  b3c5 -470.317497 -485.066818     0.102272   88.433333\n543           15  f1f5 -793.015265 -781.421364     0.230038 -300.800000",
      "text/html": "<div>\n<style scoped>\n    .dataframe tbody tr th:only-of-type {\n        vertical-align: middle;\n    }\n\n    .dataframe tbody tr th {\n        vertical-align: top;\n    }\n\n    .dataframe thead th {\n        text-align: right;\n    }\n</style>\n<table border=\"1\" class=\"dataframe\">\n  <thead>\n    <tr style=\"text-align: right;\">\n      <th></th>\n      <th>move_number</th>\n      <th>move</th>\n      <th>score</th>\n      <th>analytical</th>\n      <th>uncertainty</th>\n      <th>gamble</th>\n    </tr>\n  </thead>\n  <tbody>\n    <tr>\n      <th>507</th>\n      <td>15</td>\n      <td>e4e5</td>\n      <td>31.864500</td>\n      <td>-115.603182</td>\n      <td>0.404987</td>\n      <td>528.258349</td>\n    </tr>\n    <tr>\n      <th>508</th>\n      <td>15</td>\n      <td>e1e3</td>\n      <td>21.137266</td>\n      <td>-11.577182</td>\n      <td>0.102272</td>\n      <td>439.754000</td>\n    </tr>\n    <tr>\n      <th>509</th>\n      <td>15</td>\n      <td>e1f2</td>\n      <td>12.785331</td>\n      <td>-66.594091</td>\n      <td>0.243324</td>\n      <td>452.458076</td>\n    </tr>\n    <tr>\n      <th>510</th>\n      <td>15</td>\n      <td>b3d4</td>\n      <td>11.251639</td>\n      <td>-24.526045</td>\n      <td>0.151416</td>\n      <td>272.575000</td>\n    </tr>\n    <tr>\n      <th>511</th>\n      <td>15</td>\n      <td>e1g3</td>\n      <td>-36.801903</td>\n      <td>-115.868091</td>\n      <td>0.299893</td>\n      <td>327.296000</td>\n    </tr>\n    <tr>\n      <th>512</th>\n      <td>15</td>\n      <td>c1e3</td>\n      <td>-41.353170</td>\n      <td>-78.139545</td>\n      <td>0.161344</td>\n      <td>256.000000</td>\n    </tr>\n    <tr>\n      <th>513</th>\n      <td>15</td>\n      <td>e1d2</td>\n      <td>-74.031595</td>\n      <td>-94.757727</td>\n      <td>0.326396</td>\n      <td>-73.000000</td>\n    </tr>\n    <tr>\n      <th>514</th>\n      <td>15</td>\n      <td>h2h3</td>\n      <td>-75.985076</td>\n      <td>-139.006045</td>\n      <td>0.243324</td>\n      <td>318.000000</td>\n    </tr>\n    <tr>\n      <th>515</th>\n      <td>15</td>\n      <td>d3d4</td>\n      <td>-90.270673</td>\n      <td>-182.021364</td>\n      <td>0.326266</td>\n      <td>362.428571</td>\n    </tr>\n    <tr>\n      <th>516</th>\n      <td>15</td>\n      <td>a2a4</td>\n      <td>-124.958131</td>\n      <td>-214.957727</td>\n      <td>0.280663</td>\n      <td>441.335294</td>\n    </tr>\n    <tr>\n      <th>517</th>\n      <td>15</td>\n      <td>c1g5</td>\n      <td>-129.597522</td>\n      <td>-222.124682</td>\n      <td>0.280663</td>\n      <td>459.346667</td>\n    </tr>\n    <tr>\n      <th>518</th>\n      <td>15</td>\n      <td>g1h1</td>\n      <td>-131.196233</td>\n      <td>-186.751500</td>\n      <td>0.251538</td>\n      <td>241.725000</td>\n    </tr>\n    <tr>\n      <th>519</th>\n      <td>15</td>\n      <td>c1f4</td>\n      <td>-150.670264</td>\n      <td>-240.083318</td>\n      <td>0.230609</td>\n      <td>575.451712</td>\n    </tr>\n    <tr>\n      <th>520</th>\n      <td>15</td>\n      <td>c1d2</td>\n      <td>-154.691834</td>\n      <td>-207.503182</td>\n      <td>0.213757</td>\n      <td>294.125000</td>\n    </tr>\n    <tr>\n      <th>521</th>\n      <td>15</td>\n      <td>g2h3</td>\n      <td>-159.369812</td>\n      <td>-200.449545</td>\n      <td>0.161344</td>\n      <td>309.220000</td>\n    </tr>\n    <tr>\n      <th>522</th>\n      <td>15</td>\n      <td>0000</td>\n      <td>-172.861663</td>\n      <td>-205.203182</td>\n      <td>0.102272</td>\n      <td>432.461111</td>\n    </tr>\n    <tr>\n      <th>523</th>\n      <td>15</td>\n      <td>c1h6</td>\n      <td>-175.784853</td>\n      <td>-220.496955</td>\n      <td>0.251538</td>\n      <td>155.510000</td>\n    </tr>\n    <tr>\n      <th>524</th>\n      <td>15</td>\n      <td>c3c4</td>\n      <td>-184.731735</td>\n      <td>-203.948636</td>\n      <td>0.102272</td>\n      <td>175.800000</td>\n    </tr>\n    <tr>\n      <th>525</th>\n      <td>15</td>\n      <td>h2h4</td>\n      <td>-209.875879</td>\n      <td>-255.621364</td>\n      <td>0.137181</td>\n      <td>466.937692</td>\n    </tr>\n    <tr>\n      <th>526</th>\n      <td>15</td>\n      <td>a2a3</td>\n      <td>-211.496682</td>\n      <td>-244.266818</td>\n      <td>0.326396</td>\n      <td>0.800000</td>\n    </tr>\n    <tr>\n      <th>527</th>\n      <td>15</td>\n      <td>f1f2</td>\n      <td>-222.582385</td>\n      <td>-294.530455</td>\n      <td>0.336049</td>\n      <td>228.200000</td>\n    </tr>\n    <tr>\n      <th>528</th>\n      <td>15</td>\n      <td>f1f3</td>\n      <td>-231.726950</td>\n      <td>-256.596273</td>\n      <td>0.214576</td>\n      <td>31.800000</td>\n    </tr>\n    <tr>\n      <th>529</th>\n      <td>15</td>\n      <td>c1b2</td>\n      <td>-238.351248</td>\n      <td>-258.521364</td>\n      <td>0.214576</td>\n      <td>-12.000000</td>\n    </tr>\n    <tr>\n      <th>530</th>\n      <td>15</td>\n      <td>a1b1</td>\n      <td>-290.950023</td>\n      <td>-326.403182</td>\n      <td>0.336049</td>\n      <td>11.000000</td>\n    </tr>\n    <tr>\n      <th>531</th>\n      <td>15</td>\n      <td>e1d1</td>\n      <td>-298.792039</td>\n      <td>-338.821364</td>\n      <td>0.137181</td>\n      <td>383.600000</td>\n    </tr>\n    <tr>\n      <th>532</th>\n      <td>15</td>\n      <td>b3d2</td>\n      <td>-311.479038</td>\n      <td>-339.712273</td>\n      <td>0.326396</td>\n      <td>-27.000000</td>\n    </tr>\n    <tr>\n      <th>533</th>\n      <td>15</td>\n      <td>e1h4</td>\n      <td>-354.386803</td>\n      <td>-442.439136</td>\n      <td>0.404987</td>\n      <td>234.840000</td>\n    </tr>\n    <tr>\n      <th>534</th>\n      <td>15</td>\n      <td>c1a3</td>\n      <td>-365.127204</td>\n      <td>-426.768773</td>\n      <td>0.230038</td>\n      <td>335.925714</td>\n    </tr>\n    <tr>\n      <th>535</th>\n      <td>15</td>\n      <td>f1f6</td>\n      <td>-366.111356</td>\n      <td>-414.247727</td>\n      <td>0.161344</td>\n      <td>396.693333</td>\n    </tr>\n    <tr>\n      <th>536</th>\n      <td>15</td>\n      <td>f1f4</td>\n      <td>-385.914569</td>\n      <td>-402.619682</td>\n      <td>0.213757</td>\n      <td>-43.700000</td>\n    </tr>\n    <tr>\n      <th>537</th>\n      <td>15</td>\n      <td>b3a5</td>\n      <td>-398.678485</td>\n      <td>-421.696955</td>\n      <td>0.243324</td>\n      <td>-10.800000</td>\n    </tr>\n    <tr>\n      <th>538</th>\n      <td>15</td>\n      <td>g2g4</td>\n      <td>-404.264076</td>\n      <td>-440.441500</td>\n      <td>0.251538</td>\n      <td>87.650000</td>\n    </tr>\n    <tr>\n      <th>539</th>\n      <td>15</td>\n      <td>g2g3</td>\n      <td>-407.493363</td>\n      <td>-408.023318</td>\n      <td>0.151416</td>\n      <td>-193.000000</td>\n    </tr>\n    <tr>\n      <th>540</th>\n      <td>15</td>\n      <td>g1f2</td>\n      <td>-451.071235</td>\n      <td>-439.362864</td>\n      <td>0.137181</td>\n      <td>-370.700000</td>\n    </tr>\n    <tr>\n      <th>541</th>\n      <td>15</td>\n      <td>e1e2</td>\n      <td>-467.054377</td>\n      <td>-485.057727</td>\n      <td>0.151416</td>\n      <td>37.800000</td>\n    </tr>\n    <tr>\n      <th>542</th>\n      <td>15</td>\n      <td>b3c5</td>\n      <td>-470.317497</td>\n      <td>-485.066818</td>\n      <td>0.102272</td>\n      <td>88.433333</td>\n    </tr>\n    <tr>\n      <th>543</th>\n      <td>15</td>\n      <td>f1f5</td>\n      <td>-793.015265</td>\n      <td>-781.421364</td>\n      <td>0.230038</td>\n      <td>-300.800000</td>\n    </tr>\n  </tbody>\n</table>\n</div>"
     },
     "execution_count": 57,
     "metadata": {},
     "output_type": "execute_result"
    }
   ],
   "source": [
    "df[df[\"move_number\"] == 15]"
   ],
   "metadata": {
    "collapsed": false,
    "ExecuteTime": {
     "end_time": "2023-12-13T05:47:54.427877700Z",
     "start_time": "2023-12-13T05:47:54.342878100Z"
    }
   },
   "id": "d0e0fd4bbc6f7907"
  },
  {
   "cell_type": "code",
   "execution_count": 58,
   "outputs": [
    {
     "name": "stdout",
     "output_type": "stream",
     "text": [
      "0 1701710908   11   21.994724523016856\n",
      "0 1701710908   22   -446.93768000000006\n",
      "0 1701710908   11   21.994724523016856\n",
      "0 1701710908   22   -446.93768000000006\n",
      "1 1701712629   9   -165.84553333333338\n",
      "1 1701712629   10   90.9823541666666\n",
      "1 1701712629   12   79.98775993827167\n",
      "1 1701712629   16   -136.25531192614807\n",
      "1 1701712629   24   -57.7018750000002\n",
      "1 1701712629   30   171.13770245189346\n",
      "1 1701712629   33   -737.8664466666667\n",
      "1 1701712629   92   -3651.9625000000005\n",
      "1 1701712629   9   -165.84553333333338\n",
      "1 1701712629   10   90.9823541666666\n",
      "1 1701712629   12   79.98775993827167\n",
      "1 1701712629   16   -136.25531192614807\n",
      "1 1701712629   24   -57.7018750000002\n",
      "1 1701712629   30   171.13770245189346\n",
      "1 1701712629   33   -737.8664466666667\n",
      "1 1701712629   92   -3651.9625000000005\n",
      "2 1701715296   24   -190.7957890909089\n",
      "2 1701715296   24   -190.7957890909089\n",
      "4 1701717758   13   24.74791071288679\n",
      "4 1701717758   43   23.715754773462322\n",
      "4 1701717758   13   24.74791071288679\n",
      "4 1701717758   43   23.715754773462322\n",
      "5 1701719503   33   -44.23627812500001\n",
      "5 1701719503   39   -1362.786313869863\n",
      "5 1701719503   33   -44.23627812500001\n",
      "5 1701719503   39   -1362.786313869863\n",
      "6 1701720936   78   151.82308806336732\n",
      "6 1701720936   78   151.82308806336732\n",
      "8 1701724653   56   -15.152500000000032\n",
      "8 1701724653   80   -99.94499999999971\n",
      "8 1701724653   56   -15.152500000000032\n",
      "8 1701724653   80   -99.94499999999971\n",
      "11 1701730570   34   -252.29985937499987\n",
      "11 1701730570   34   -252.29985937499987\n",
      "13 1701732610   25   -183.92009999999996\n",
      "13 1701732610   25   -183.92009999999996\n",
      "14 1701733678   24   16.257513157894806\n",
      "14 1701733678   27   28.76571029176654\n",
      "14 1701733678   28   -376.39533335939933\n",
      "14 1701733678   33   -187.0350800000001\n",
      "14 1701733678   42   -1051.6278496729597\n",
      "14 1701733678   44   -7469.2495\n",
      "14 1701733678   24   16.257513157894806\n",
      "14 1701733678   27   28.76571029176654\n",
      "14 1701733678   28   -376.39533335939933\n",
      "14 1701733678   33   -187.0350800000001\n",
      "14 1701733678   42   -1051.6278496729597\n",
      "14 1701733678   44   -7469.2495\n",
      "15 1701735513   49   -835.0165770897058\n",
      "15 1701735513   49   -835.0165770897058\n",
      "16 1701737188   14   -115.75433518518517\n",
      "16 1701737188   23   -70.99670969827582\n",
      "16 1701737188   14   -115.75433518518517\n",
      "16 1701737188   23   -70.99670969827582\n",
      "17 1701738602   24   -574.095\n",
      "17 1701738602   45   -644.395745605585\n",
      "17 1701738602   46   loss\n",
      "17 1701738602   24   -574.095\n",
      "17 1701738602   45   -644.395745605585\n",
      "17 1701738602   46   loss\n",
      "19 1701741588   14   -147.92159134615372\n",
      "19 1701741588   32   3.8449999999999136\n",
      "19 1701741588   38   -316.2952\n",
      "19 1701741588   14   -147.92159134615372\n",
      "19 1701741588   32   3.8449999999999136\n",
      "19 1701741588   38   -316.2952\n",
      "20 1701743173   19   -60.63000000000001\n",
      "20 1701743173   48   118.72999999999999\n",
      "20 1701743173   73   loss\n",
      "20 1701743173   19   -60.63000000000001\n",
      "20 1701743173   48   118.72999999999999\n",
      "20 1701743173   73   loss\n",
      "21 1701745477   10   -337.307693548387\n",
      "21 1701745477   10   -337.307693548387\n",
      "22 1701746276   71   97.45945408710259\n",
      "22 1701746276   73   loss\n",
      "22 1701746276   71   97.45945408710259\n",
      "22 1701746276   73   loss\n",
      "23 734750   24   -167.54190000000006\n",
      "23 734750   24   -167.54190000000006\n",
      "25 734769   9   -233.84228668594028\n",
      "25 734769   10   -61.561576776005865\n",
      "25 734769   25   25.0555555555556\n",
      "25 734769   9   -233.84228668594028\n",
      "25 734769   10   -61.561576776005865\n",
      "25 734769   25   25.0555555555556\n",
      "26 734781   93   -567.4499999999998\n",
      "26 734781   93   -567.4499999999998\n",
      "28 734818   31   45.97376470588239\n",
      "28 734818   51   34.75\n",
      "28 734818   67   -214.22175319446478\n",
      "28 734818   68   -139.55000000000018\n",
      "28 734818   70   -11.449999999999818\n",
      "28 734818   31   45.97376470588239\n",
      "28 734818   51   34.75\n",
      "28 734818   67   -214.22175319446478\n",
      "28 734818   68   -139.55000000000018\n",
      "28 734818   70   -11.449999999999818\n",
      "30 734889   19   -158.39199999999983\n",
      "30 734889   22   -113.10000000000002\n",
      "30 734889   19   -158.39199999999983\n",
      "30 734889   22   -113.10000000000002\n",
      "31 734906   19   -329.47306666666714\n",
      "31 734906   27   loss\n",
      "31 734906   19   -329.47306666666714\n",
      "31 734906   27   loss\n",
      "33 734942   9   39.76709412568306\n",
      "33 734942   22   -340.37005642946303\n",
      "33 734942   9   39.76709412568306\n",
      "33 734942   22   -340.37005642946303\n",
      "36 735014   13   -152.12397369696976\n",
      "36 735014   13   -152.12397369696976\n",
      "38 735039   52   -84.89499999999998\n",
      "38 735039   52   -84.89499999999998\n",
      "41 735073   49   61.337590909090906\n",
      "41 735073   49   61.337590909090906\n",
      "42 735087   52   loss\n",
      "42 735087   52   loss\n",
      "43 735096   40   81.73374999999999\n",
      "43 735096   41   -73.52000000000004\n",
      "43 735096   42   73.52000000000004\n",
      "43 735096   43   -73.52000000000004\n",
      "43 735096   44   73.52000000000004\n",
      "43 735096   45   -73.52000000000004\n",
      "43 735096   61   -1440.8175125\n",
      "43 735096   40   81.73374999999999\n",
      "43 735096   41   -73.52000000000004\n",
      "43 735096   42   73.52000000000004\n",
      "43 735096   43   -73.52000000000004\n",
      "43 735096   44   73.52000000000004\n",
      "43 735096   45   -73.52000000000004\n",
      "43 735096   61   -1440.8175125\n",
      "44 735116   18   -227.43300000000005\n",
      "44 735116   46   -1250.8828711000951\n",
      "44 735116   18   -227.43300000000005\n",
      "44 735116   46   -1250.8828711000951\n",
      "45 735128   7   -190.66969918152586\n",
      "45 735128   29   -27.09199999999987\n",
      "45 735128   37   29.49488457831319\n",
      "45 735128   38   -27.572673333333228\n",
      "45 735128   45   -383.8538224983954\n",
      "45 735128   7   -190.66969918152586\n",
      "45 735128   29   -27.09199999999987\n",
      "45 735128   37   29.49488457831319\n",
      "45 735128   38   -27.572673333333228\n",
      "45 735128   45   -383.8538224983954\n",
      "47 735153   12   -138.67580778032035\n",
      "47 735153   18   -47.999999999999886\n",
      "47 735153   12   -138.67580778032035\n",
      "47 735153   18   -47.999999999999886\n",
      "48 735158   14   -34.14668092044593\n",
      "48 735158   14   -34.14668092044593\n",
      "49 735170   51   -70.54719999999998\n",
      "49 735170   54   -41.797500000000014\n",
      "49 735170   64   138.70499999999998\n",
      "49 735170   65   -44.60000000000002\n",
      "49 735170   68   -73.69500000000005\n",
      "49 735170   51   -70.54719999999998\n",
      "49 735170   54   -41.797500000000014\n",
      "49 735170   64   138.70499999999998\n",
      "49 735170   65   -44.60000000000002\n",
      "49 735170   68   -73.69500000000005\n"
     ]
    }
   ],
   "source": [
    "risky_move_threshold = 100\n",
    "dir = \"../game_logs/unranked_games/u4r4/StrangeFish2\"\n",
    "for i, game_id in enumerate(os.listdir(dir)):\n",
    "    try:\n",
    "        game = GameHistory.from_file(os.path.join(dir, game_id, f\"game_{game_id}.log\"))\n",
    "        game_log = os.path.join(dir, game_id, f\"move_scores_{game_id}.csv\")\n",
    "        df = pd.read_csv(game_log)\n",
    "        \n",
    "        gr_df = df.groupby(\"move_number\")\n",
    "        risky_moves = np.where(gr_df[\"analytical\"].max() - gr_df.first()[\"analytical\"] > risky_move_threshold)[0] + 1\n",
    "        risky_moves = np.append(risky_moves, np.where(gr_df[\"analytical\"].max() - gr_df.first()[\"analytical\"] >= risky_move_threshold)[0] + 1)\n",
    "        \n",
    "        true_scores = gr_df.max()[\"analytical\"]\n",
    "        for move in risky_moves:\n",
    "            category = np.digitize(true_scores[move], categories)\n",
    "            if move < len(gr_df):\n",
    "                if true_scores[move + 1] - true_scores[move] < 200:\n",
    "                    print(f\"{i} {game_id}   {move}   {true_scores[move + 1] - true_scores[move]}\")\n",
    "            else:\n",
    "                print(f\"{i} {game_id}   {move}   {'win' if (game.get_white_player_name() == 'Zubat') == game.get_winner_color() else 'loss'}\")            \n",
    "    except:\n",
    "        pass"
   ],
   "metadata": {
    "collapsed": false,
    "ExecuteTime": {
     "end_time": "2023-12-13T06:36:51.936752900Z",
     "start_time": "2023-12-13T06:36:51.235752200Z"
    }
   },
   "id": "3f6f782aab169701"
  },
  {
   "cell_type": "code",
   "execution_count": null,
   "outputs": [],
   "source": [],
   "metadata": {
    "collapsed": false
   },
   "id": "396ff7cbad6e7faf"
  },
  {
   "cell_type": "code",
   "execution_count": 28,
   "outputs": [
    {
     "data": {
      "text/plain": "       category  positive   neutral  negative\n0    (400, inf)  0.173192  0.656825  0.169983\n1      (0, 400)  0.169668  0.662088  0.168243\n2     (-400, 0)  0.144138  0.692994  0.162868\n3  (-inf, -400)  0.155507  0.628706  0.215787",
      "text/html": "<div>\n<style scoped>\n    .dataframe tbody tr th:only-of-type {\n        vertical-align: middle;\n    }\n\n    .dataframe tbody tr th {\n        vertical-align: top;\n    }\n\n    .dataframe thead th {\n        text-align: right;\n    }\n</style>\n<table border=\"1\" class=\"dataframe\">\n  <thead>\n    <tr style=\"text-align: right;\">\n      <th></th>\n      <th>category</th>\n      <th>positive</th>\n      <th>neutral</th>\n      <th>negative</th>\n    </tr>\n  </thead>\n  <tbody>\n    <tr>\n      <th>0</th>\n      <td>(400, inf)</td>\n      <td>0.173192</td>\n      <td>0.656825</td>\n      <td>0.169983</td>\n    </tr>\n    <tr>\n      <th>1</th>\n      <td>(0, 400)</td>\n      <td>0.169668</td>\n      <td>0.662088</td>\n      <td>0.168243</td>\n    </tr>\n    <tr>\n      <th>2</th>\n      <td>(-400, 0)</td>\n      <td>0.144138</td>\n      <td>0.692994</td>\n      <td>0.162868</td>\n    </tr>\n    <tr>\n      <th>3</th>\n      <td>(-inf, -400)</td>\n      <td>0.155507</td>\n      <td>0.628706</td>\n      <td>0.215787</td>\n    </tr>\n  </tbody>\n</table>\n</div>"
     },
     "execution_count": 28,
     "metadata": {},
     "output_type": "execute_result"
    }
   ],
   "source": [
    "df = pd.read_csv('tables/risk_results_percentage.csv', index_col=0)\n",
    "df"
   ],
   "metadata": {
    "collapsed": false,
    "ExecuteTime": {
     "end_time": "2023-12-29T05:23:28.667934700Z",
     "start_time": "2023-12-29T05:23:28.594935600Z"
    }
   },
   "id": "91f2bd9b0aeacdac"
  },
  {
   "cell_type": "code",
   "execution_count": 35,
   "outputs": [
    {
     "name": "stdout",
     "output_type": "stream",
     "text": [
      "\\begin{tabular}{lrrr}\n",
      "\\toprule\n",
      "    category &  positive &  neutral &  negative \\\\\n",
      "\\midrule\n",
      "  (400, inf) &    17.32\\% &   65.68\\% &    17.00\\% \\\\\n",
      "    (0, 400) &    16.97\\% &   66.21\\% &    16.82\\% \\\\\n",
      "   (-400, 0) &    14.41\\% &   69.30\\% &    16.29\\% \\\\\n",
      "(-inf, -400) &    15.55\\% &   62.87\\% &    21.58\\% \\\\\n",
      "\\bottomrule\n",
      "\\end{tabular}\n"
     ]
    }
   ],
   "source": [
    "print(df.to_latex(index=False, float_format='{:.2%}'.format))"
   ],
   "metadata": {
    "collapsed": false,
    "ExecuteTime": {
     "end_time": "2023-12-29T05:29:20.917073800Z",
     "start_time": "2023-12-29T05:29:20.850074700Z"
    }
   },
   "id": "1b7ae08961e1ac74"
  }
 ],
 "metadata": {
  "kernelspec": {
   "display_name": "Python 3",
   "language": "python",
   "name": "python3"
  },
  "language_info": {
   "codemirror_mode": {
    "name": "ipython",
    "version": 2
   },
   "file_extension": ".py",
   "mimetype": "text/x-python",
   "name": "python",
   "nbconvert_exporter": "python",
   "pygments_lexer": "ipython2",
   "version": "2.7.6"
  }
 },
 "nbformat": 4,
 "nbformat_minor": 5
}
