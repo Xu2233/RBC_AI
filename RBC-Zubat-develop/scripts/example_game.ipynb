{
 "cells": [
  {
   "cell_type": "code",
   "execution_count": 1,
   "outputs": [
    {
     "name": "stdout",
     "output_type": "stream",
     "text": [
      "C:\\Users\\User\\Documents\\Studia\\Masters Thesis\\reconchess-strangefish2\n"
     ]
    }
   ],
   "source": [
    "%load_ext autoreload\n",
    "%autoreload 2\n",
    "\n",
    "%cd ..\n",
    "\n",
    "from reconchess import play_local_game\n",
    "from reconchess.bots.trout_bot import TroutBot\n",
    "from strangefish.strangefish_strategy import StrangeFish2\n",
    "\n",
    "from strangefish.zubat_strategy.zubat_strategy import Zubat\n",
    "\n",
    "from strangefish.models.uncertainty_lstm import uncertainty_lstm_1"
   ],
   "metadata": {
    "collapsed": false,
    "pycharm": {
     "is_executing": true
    },
    "ExecuteTime": {
     "end_time": "2024-01-03T18:37:36.404794700Z",
     "start_time": "2024-01-03T18:36:42.806421500Z"
    }
   }
  },
  {
   "cell_type": "code",
   "execution_count": null,
   "outputs": [],
   "source": [
    "from reconchess import LocalGame\n",
    "\n",
    "game = LocalGame(seconds_per_player=9000)\n",
    "\n",
    "zubat = Zubat(uncertainty_model=uncertainty_lstm_1('uncertainty_model/uncertainty_lstm_3/weights'))\n",
    "strangefish = StrangeFish2(game_id=\"EXAMPLE\", log_to_file=False)\n",
    "\n",
    "try:\n",
    "    winner_color, win_reason, game_history = play_local_game(\n",
    "        strangefish,\n",
    "        zubat,\n",
    "        game=game,\n",
    "    )\n",
    "except Exception as e:\n",
    "    zubat.gameover_strategy()\n",
    "    raise e"
   ],
   "metadata": {
    "collapsed": false,
    "pycharm": {
     "is_executing": true
    }
   }
  },
  {
   "cell_type": "code",
   "execution_count": 7,
   "outputs": [],
   "source": [
    "zubat.gameover_strategy()"
   ],
   "metadata": {
    "collapsed": false
   }
  },
  {
   "cell_type": "code",
   "execution_count": null,
   "outputs": [],
   "source": [
    "game_history.save('game_logs/example_games/sample_game_4.log')"
   ],
   "metadata": {
    "collapsed": false
   }
  },
  {
   "cell_type": "code",
   "execution_count": 1,
   "outputs": [
    {
     "name": "stdout",
     "output_type": "stream",
     "text": [
      "pygame 2.1.2 (SDL 2.0.18, Python 3.10.9)\n",
      "Hello from the pygame community. https://www.pygame.org/contribute.html\n"
     ]
    }
   ],
   "source": [
    "from reconchess import GameHistory\n",
    "from strangefish.utilities.replay_window import MyReplayWindow\n",
    "\n",
    "game_history = GameHistory.from_file('game_logs/test_games/1694477815/game_1694477815.log')"
   ],
   "metadata": {
    "collapsed": false,
    "pycharm": {
     "is_executing": true
    },
    "ExecuteTime": {
     "end_time": "2023-09-12T00:48:36.483316100Z",
     "start_time": "2023-09-12T00:48:35.778742100Z"
    }
   }
  },
  {
   "cell_type": "code",
   "execution_count": 4,
   "outputs": [],
   "source": [
    "window = MyReplayWindow(game_history)\n",
    "\n",
    "move = 0\n",
    "\n",
    "for i in range(move * 4):\n",
    "    window.go_forwards()\n",
    "\n",
    "while window.update():\n",
    "    window.draw()"
   ],
   "metadata": {
    "collapsed": false,
    "ExecuteTime": {
     "end_time": "2023-09-12T00:51:50.493272400Z",
     "start_time": "2023-09-12T00:49:38.161204500Z"
    }
   }
  },
  {
   "cell_type": "code",
   "execution_count": 6,
   "outputs": [],
   "source": [
    "game_history = game.get_game_history()"
   ],
   "metadata": {
    "collapsed": false
   }
  },
  {
   "cell_type": "code",
   "execution_count": 4,
   "outputs": [],
   "source": [
    "game_history.save('game_logs/example_games/sample_game_4.log')"
   ],
   "metadata": {
    "collapsed": false
   }
  }
 ],
 "metadata": {
  "kernelspec": {
   "display_name": "Python 3",
   "language": "python",
   "name": "python3"
  },
  "language_info": {
   "codemirror_mode": {
    "name": "ipython",
    "version": 2
   },
   "file_extension": ".py",
   "mimetype": "text/x-python",
   "name": "python",
   "nbconvert_exporter": "python",
   "pygments_lexer": "ipython2",
   "version": "2.7.6"
  }
 },
 "nbformat": 4,
 "nbformat_minor": 0
}
