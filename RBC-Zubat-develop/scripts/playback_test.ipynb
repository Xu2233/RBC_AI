{
 "cells": [
  {
   "cell_type": "code",
   "execution_count": 1,
   "metadata": {
    "collapsed": true,
    "ExecuteTime": {
     "end_time": "2023-12-31T20:08:59.240092300Z",
     "start_time": "2023-12-31T20:08:59.167105300Z"
    }
   },
   "outputs": [],
   "source": [
    "%load_ext autoreload\n",
    "%autoreload 2\n",
    "\n",
    "%cd .."
   ]
  },
  {
   "cell_type": "code",
   "execution_count": 2,
   "outputs": [],
   "source": [
    "import chess\n",
    "from game_log_reader.playback import playback\n",
    "from game_log_reader.uncertainty_playback_player import UncertaintyPlaybackPlayer\n",
    "from game_log_reader.game_history_extended import GameHistoryExtended\n",
    "import os\n",
    "from tqdm import tqdm"
   ],
   "metadata": {
    "collapsed": false,
    "ExecuteTime": {
     "end_time": "2023-12-31T20:08:59.622399200Z",
     "start_time": "2023-12-31T20:08:59.239054700Z"
    }
   }
  },
  {
   "cell_type": "code",
   "execution_count": 7,
   "outputs": [
    {
     "name": "stdout",
     "output_type": "stream",
     "text": [
      "49 294\n"
     ]
    }
   ],
   "source": [
    "path = 'game_logs/unranked_games/u4r1/Oracle'\n",
    "save_path = 'game_logs/ranked_games_extended/batch_18 (0,125 - 100)'\n",
    "\n",
    "if not os.path.exists(save_path):\n",
    "    os.makedirs(save_path, mode=0o777)\n",
    "\n",
    "print(len(os.listdir(path)), len(os.listdir(save_path)))\n",
    "\n",
    "game_files = list(set(os.listdir(path)) - set(os.listdir(save_path)))\n",
    "game_files.sort()\n",
    "\n",
    "# game_files = ['571769.json']"
   ],
   "metadata": {
    "collapsed": false,
    "ExecuteTime": {
     "end_time": "2023-12-31T20:39:21.009112300Z",
     "start_time": "2023-12-31T20:39:20.955111900Z"
    }
   }
  },
  {
   "cell_type": "code",
   "execution_count": 8,
   "outputs": [
    {
     "name": "stderr",
     "output_type": "stream",
     "text": [
      "100%|██████████| 49/49 [02:12<00:00,  2.70s/it, game=738959, player=Oracle, opponent=Zubat]\n"
     ]
    }
   ],
   "source": [
    "bar = tqdm(game_files)\n",
    "\n",
    "for game_file in bar:\n",
    "    if not os.path.exists(os.path.join(path, game_file, f'game_{game_file}.log')):\n",
    "        continue\n",
    "    \n",
    "    game_history = GameHistoryExtended.from_file(os.path.join(path, game_file, f'game_{game_file}.log'))\n",
    "\n",
    "    if game_history.is_empty():\n",
    "        continue\n",
    "    for color in chess.COLORS:\n",
    "        if game_history.get_player_name(color) in ['random', 'trout', 'attacker', 'Zubat']:\n",
    "            continue\n",
    "        bar.set_postfix({'game': game_file, 'player': game_history.get_player_name(color), 'opponent': game_history.get_player_name(not color)})\n",
    "        player = UncertaintyPlaybackPlayer(game_id=game_file.split('.')[0], log_to_file=False, rc_disable_pbar=True)\n",
    "        try:\n",
    "            playback(game_history, player, color)\n",
    "        except:\n",
    "            pass\n",
    "        game_history._pre_sense_uncertainty[color] = player.board_states_pre_sense\n",
    "        game_history._post_sense_uncertainty[color] = player.board_states_post_sense\n",
    "    os.makedirs(os.path.join(save_path, game_file), mode=0o777)\n",
    "    game_history.save(os.path.join(save_path, game_file, f'game_{game_file}.log'))"
   ],
   "metadata": {
    "collapsed": false,
    "ExecuteTime": {
     "end_time": "2023-12-31T20:41:33.701919900Z",
     "start_time": "2023-12-31T20:39:21.554218300Z"
    }
   }
  },
  {
   "cell_type": "code",
   "execution_count": null,
   "outputs": [],
   "source": [
    "game_files"
   ],
   "metadata": {
    "collapsed": false
   }
  },
  {
   "cell_type": "code",
   "execution_count": null,
   "outputs": [],
   "source": [],
   "metadata": {
    "collapsed": false
   }
  },
  {
   "cell_type": "code",
   "execution_count": null,
   "outputs": [],
   "source": [],
   "metadata": {
    "collapsed": false
   }
  },
  {
   "cell_type": "code",
   "execution_count": null,
   "outputs": [],
   "source": [
    "player.board_states_pre_sense"
   ],
   "metadata": {
    "collapsed": false
   }
  },
  {
   "cell_type": "code",
   "execution_count": null,
   "outputs": [],
   "source": [
    "player.board_states_post_sense"
   ],
   "metadata": {
    "collapsed": false
   }
  }
 ],
 "metadata": {
  "kernelspec": {
   "display_name": "Python 3",
   "language": "python",
   "name": "python3"
  },
  "language_info": {
   "codemirror_mode": {
    "name": "ipython",
    "version": 2
   },
   "file_extension": ".py",
   "mimetype": "text/x-python",
   "name": "python",
   "nbconvert_exporter": "python",
   "pygments_lexer": "ipython2",
   "version": "2.7.6"
  }
 },
 "nbformat": 4,
 "nbformat_minor": 0
}
