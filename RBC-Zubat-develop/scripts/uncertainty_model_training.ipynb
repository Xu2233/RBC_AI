{
 "cells": [
  {
   "cell_type": "code",
   "execution_count": null,
   "metadata": {
    "collapsed": true,
    "pycharm": {
     "is_executing": true
    }
   },
   "outputs": [],
   "source": [
    "%load_ext autoreload\n",
    "%autoreload 2\n",
    "\n",
    "%cd ..\n",
    "\n",
    "import os\n",
    "\n",
    "import numpy as np\n",
    "import pandas as pd\n",
    "\n",
    "from strangefish.models.model_training_utils import GameHistorySequence\n",
    "from strangefish.models.uncertainty_transformer import uncertainty_transformer_1"
   ]
  },
  {
   "cell_type": "code",
   "execution_count": 3,
   "outputs": [
    {
     "name": "stdout",
     "output_type": "stream",
     "text": [
      "Model: \"model_1\"\n",
      "_________________________________________________________________\n",
      " Layer (type)                Output Shape              Param #   \n",
      "=================================================================\n",
      " input (InputLayer)          [(None, None, 8, 8, 37)]  0         \n",
      "                                                                 \n",
      " masking_1 (Masking)         (None, None, 8, 8, 37)    0         \n",
      "                                                                 \n",
      " reshape_1 (Reshape)         (None, None, 2368)        0         \n",
      "                                                                 \n",
      " transformer_block_1 (Transf  (None, None, 2368)       45190976  \n",
      " ormerBlock)                                                     \n",
      "                                                                 \n",
      " global_average_pooling1d_1   (None, 2368)             0         \n",
      " (GlobalAveragePooling1D)                                        \n",
      "                                                                 \n",
      " dropout_5 (Dropout)         (None, 2368)              0         \n",
      "                                                                 \n",
      " fc (Dense)                  (None, 64)                151616    \n",
      "                                                                 \n",
      " dropout_3 (Dropout)         (None, 64)                0         \n",
      "                                                                 \n",
      " output (Dense)              (None, 1)                 65        \n",
      "                                                                 \n",
      "=================================================================\n",
      "Total params: 45,342,657\n",
      "Trainable params: 45,342,657\n",
      "Non-trainable params: 0\n",
      "_________________________________________________________________\n"
     ]
    }
   ],
   "source": [
    "model = uncertainty_transformer_1()\n",
    "model_name = 'uncertainty_transformer_2'\n",
    "# os.mkdir()\n",
    "\n",
    "model.summary()"
   ],
   "metadata": {
    "collapsed": false
   }
  },
  {
   "cell_type": "code",
   "execution_count": 5,
   "outputs": [
    {
     "data": {
      "text/plain": "<tensorflow.python.checkpoint.checkpoint.CheckpointLoadStatus at 0x2963c551ab0>"
     },
     "execution_count": 5,
     "metadata": {},
     "output_type": "execute_result"
    }
   ],
   "source": [
    "model.load_weights('uncertainty_model/uncertainty_transformer_1/weights')"
   ],
   "metadata": {
    "collapsed": false
   }
  },
  {
   "cell_type": "code",
   "execution_count": 6,
   "outputs": [],
   "source": [
    "from sklearn.model_selection import train_test_split\n",
    "\n",
    "data_path = 'game_logs/historical_games_extended'\n",
    "\n",
    "files = os.listdir(data_path)\n",
    "files.sort()\n",
    "\n",
    "train_data, test_data = train_test_split(files, test_size=0.2, random_state=42)\n",
    "\n",
    "pd.DataFrame({'files': train_data}).to_csv('uncertainty_model/train_data.csv')\n",
    "pd.DataFrame({'files': test_data}).to_csv('uncertainty_model/test_data.csv')"
   ],
   "metadata": {
    "collapsed": false
   }
  },
  {
   "cell_type": "code",
   "execution_count": 7,
   "outputs": [],
   "source": [
    "training_sequence = GameHistorySequence(train_data, data_path, 16)\n",
    "test_sequence = GameHistorySequence(test_data, data_path, 16, shuffle=False)"
   ],
   "metadata": {
    "collapsed": false
   }
  },
  {
   "cell_type": "code",
   "execution_count": 8,
   "outputs": [],
   "source": [
    "from tensorflow.python.keras.callbacks import ModelCheckpoint\n",
    "\n",
    "checkpoint = ModelCheckpoint(f'uncertainty_model/{model_name}', 'val_loss', verbose=1, mode='max')"
   ],
   "metadata": {
    "collapsed": false
   }
  },
  {
   "cell_type": "code",
   "execution_count": 9,
   "outputs": [
    {
     "name": "stdout",
     "output_type": "stream",
     "text": [
      "Epoch 1/5\n"
     ]
    },
    {
     "name": "stderr",
     "output_type": "stream",
     "text": [
      "C:\\Users\\User\\AppData\\Roaming\\Python\\Python310\\site-packages\\tensorflow\\python\\framework\\indexed_slices.py:444: UserWarning: Converting sparse IndexedSlices(IndexedSlices(indices=Tensor(\"gradient_tape/masked_squared_error/Reshape_2:0\", shape=(None,), dtype=int64), values=Tensor(\"gradient_tape/masked_squared_error/Reshape_1:0\", shape=(None, 1), dtype=float32), dense_shape=Tensor(\"gradient_tape/masked_squared_error/Cast_1:0\", shape=(2,), dtype=int32))) to a dense Tensor of unknown shape. This may consume a large amount of memory.\n",
      "  warnings.warn(\n"
     ]
    },
    {
     "name": "stdout",
     "output_type": "stream",
     "text": [
      "799/799 [==============================] - ETA: 0s - loss: 0.4919 \n",
      "Epoch 00001: saving model to uncertainty_model\\uncertainty_transformer_2\n"
     ]
    },
    {
     "name": "stderr",
     "output_type": "stream",
     "text": [
      "WARNING:absl:Found untraced functions such as multi_head_attention_1_layer_call_fn, multi_head_attention_1_layer_call_and_return_conditional_losses, layer_normalization_2_layer_call_fn, layer_normalization_2_layer_call_and_return_conditional_losses, layer_normalization_3_layer_call_fn while saving (showing 5 of 22). These functions will not be directly callable after loading.\n"
     ]
    },
    {
     "name": "stdout",
     "output_type": "stream",
     "text": [
      "INFO:tensorflow:Assets written to: uncertainty_model\\uncertainty_transformer_2\\assets\n"
     ]
    },
    {
     "name": "stderr",
     "output_type": "stream",
     "text": [
      "INFO:tensorflow:Assets written to: uncertainty_model\\uncertainty_transformer_2\\assets\n"
     ]
    },
    {
     "name": "stdout",
     "output_type": "stream",
     "text": [
      "799/799 [==============================] - 11165s 14s/step - loss: 0.4919 - val_loss: 0.4920\n",
      "Epoch 2/5\n",
      "184/799 [=====>........................] - ETA: 1:42:25 - loss: 0.4991"
     ]
    },
    {
     "name": "stderr",
     "output_type": "stream",
     "text": [
      "\n",
      "KeyboardInterrupt\n",
      "\n"
     ]
    }
   ],
   "source": [
    "hist = model.fit(training_sequence, validation_data=test_sequence, epochs=5, callbacks=checkpoint)"
   ],
   "metadata": {
    "collapsed": false
   }
  },
  {
   "cell_type": "code",
   "execution_count": 10,
   "outputs": [
    {
     "name": "stderr",
     "output_type": "stream",
     "text": [
      "WARNING:absl:Found untraced functions such as multi_head_attention_1_layer_call_fn, multi_head_attention_1_layer_call_and_return_conditional_losses, layer_normalization_2_layer_call_fn, layer_normalization_2_layer_call_and_return_conditional_losses, layer_normalization_3_layer_call_fn while saving (showing 5 of 22). These functions will not be directly callable after loading.\n"
     ]
    },
    {
     "name": "stdout",
     "output_type": "stream",
     "text": [
      "INFO:tensorflow:Assets written to: uncertainty_model/uncertainty_transformer_2\\assets\n"
     ]
    },
    {
     "name": "stderr",
     "output_type": "stream",
     "text": [
      "INFO:tensorflow:Assets written to: uncertainty_model/uncertainty_transformer_2\\assets\n"
     ]
    }
   ],
   "source": [
    "model.save(f'uncertainty_model/{model_name}')"
   ],
   "metadata": {
    "collapsed": false
   }
  },
  {
   "cell_type": "code",
   "execution_count": 11,
   "outputs": [],
   "source": [
    "model.save_weights(f'uncertainty_model/{model_name}/weights')"
   ],
   "metadata": {
    "collapsed": false
   }
  },
  {
   "cell_type": "code",
   "execution_count": 16,
   "outputs": [
    {
     "ename": "NameError",
     "evalue": "name 'hist' is not defined",
     "output_type": "error",
     "traceback": [
      "\u001B[1;31m---------------------------------------------------------------------------\u001B[0m",
      "\u001B[1;31mNameError\u001B[0m                                 Traceback (most recent call last)",
      "Cell \u001B[1;32mIn[16], line 3\u001B[0m\n\u001B[0;32m      1\u001B[0m \u001B[38;5;28;01mimport\u001B[39;00m \u001B[38;5;21;01mpickle\u001B[39;00m\n\u001B[0;32m      2\u001B[0m \u001B[38;5;28;01mwith\u001B[39;00m \u001B[38;5;28mopen\u001B[39m(\u001B[38;5;124mf\u001B[39m\u001B[38;5;124m'\u001B[39m\u001B[38;5;124muncertainty_model/\u001B[39m\u001B[38;5;132;01m{\u001B[39;00mmodel_name\u001B[38;5;132;01m}\u001B[39;00m\u001B[38;5;124m/train_hist\u001B[39m\u001B[38;5;124m'\u001B[39m, \u001B[38;5;124m'\u001B[39m\u001B[38;5;124mwb\u001B[39m\u001B[38;5;124m'\u001B[39m) \u001B[38;5;28;01mas\u001B[39;00m file_pi:\n\u001B[1;32m----> 3\u001B[0m     pickle\u001B[38;5;241m.\u001B[39mdump(\u001B[43mhist\u001B[49m\u001B[38;5;241m.\u001B[39mhistory, file_pi)\n",
      "\u001B[1;31mNameError\u001B[0m: name 'hist' is not defined"
     ]
    }
   ],
   "source": [
    "import pickle\n",
    "with open(f'uncertainty_model/{model_name}/train_hist', 'wb') as file_pi:\n",
    "    pickle.dump(hist.history, file_pi)"
   ],
   "metadata": {
    "collapsed": false
   }
  },
  {
   "cell_type": "code",
   "execution_count": 16,
   "outputs": [
    {
     "name": "stdout",
     "output_type": "stream",
     "text": [
      "Model: \"model\"\n",
      "_________________________________________________________________\n",
      "Layer (type)                 Output Shape              Param #   \n",
      "=================================================================\n",
      "input (InputLayer)           [(None, None, 8, 8, 37)]  0         \n",
      "_________________________________________________________________\n",
      "masking (Masking)            (None, None, 8, 8, 37)    0         \n",
      "_________________________________________________________________\n",
      "conv_1 (Conv2D)              (None, None, 6, 6, 128)   42752     \n",
      "_________________________________________________________________\n",
      "tf.cast (TFOpLambda)         (None, None, 6, 6, 128)   0         \n",
      "_________________________________________________________________\n",
      "tf.compat.v1.nn.fused_batch_ ((None, None, 6, 6, 128), 0         \n",
      "_________________________________________________________________\n",
      "activation_1 (Activation)    (None, None, 6, 6, 128)   0         \n",
      "_________________________________________________________________\n",
      "dropout_1 (Dropout)          (None, None, 6, 6, 128)   0         \n",
      "_________________________________________________________________\n",
      "conv_2 (Conv2D)              (None, None, 4, 4, 256)   295168    \n",
      "_________________________________________________________________\n",
      "tf.cast_1 (TFOpLambda)       (None, None, 4, 4, 256)   0         \n",
      "_________________________________________________________________\n",
      "tf.compat.v1.nn.fused_batch_ ((None, None, 4, 4, 256), 0         \n",
      "_________________________________________________________________\n",
      "activation_2 (Activation)    (None, None, 4, 4, 256)   0         \n",
      "_________________________________________________________________\n",
      "dropout_2 (Dropout)          (None, None, 4, 4, 256)   0         \n",
      "_________________________________________________________________\n",
      "reshape_1 (Reshape)          (None, None, 4096)        0         \n",
      "_________________________________________________________________\n",
      "lstm_1 (LSTM)                (None, None, 128)         2163200   \n",
      "_________________________________________________________________\n",
      "lstm_2 (LSTM)                (None, None, 128)         131584    \n",
      "_________________________________________________________________\n",
      "fc (Dense)                   (None, None, 64)          8256      \n",
      "_________________________________________________________________\n",
      "dropout_3 (Dropout)          (None, None, 64)          0         \n",
      "_________________________________________________________________\n",
      "output (Dense)               (None, None, 1)           65        \n",
      "=================================================================\n",
      "Total params: 2,641,025\n",
      "Trainable params: 2,641,025\n",
      "Non-trainable params: 0\n",
      "_________________________________________________________________\n"
     ]
    }
   ],
   "source": [
    "model.summary()"
   ],
   "metadata": {
    "collapsed": false
   }
  },
  {
   "cell_type": "code",
   "execution_count": 41,
   "outputs": [
    {
     "data": {
      "text/plain": "array([[[0.09206896]]], dtype=float32)"
     },
     "execution_count": 41,
     "metadata": {},
     "output_type": "execute_result"
    }
   ],
   "source": [
    "model.predict(np.array([game_map[0][0:1]]))"
   ],
   "metadata": {
    "collapsed": false
   }
  },
  {
   "cell_type": "code",
   "execution_count": 56,
   "outputs": [
    {
     "data": {
      "text/plain": "array([[[9.65302661e-02],\n        [1.84438210e-02],\n        [1.08479137e-04],\n        ...,\n        [0.00000000e+00],\n        [0.00000000e+00],\n        [0.00000000e+00]],\n\n       [[1.46613687e-01],\n        [1.66606791e-02],\n        [3.14770907e-04],\n        ...,\n        [0.00000000e+00],\n        [0.00000000e+00],\n        [0.00000000e+00]],\n\n       [[9.01013464e-02],\n        [1.72635075e-02],\n        [8.06811586e-05],\n        ...,\n        [0.00000000e+00],\n        [0.00000000e+00],\n        [0.00000000e+00]],\n\n       ...,\n\n       [[1.16691105e-01],\n        [1.57225449e-02],\n        [8.28637785e-05],\n        ...,\n        [0.00000000e+00],\n        [0.00000000e+00],\n        [0.00000000e+00]],\n\n       [[8.83309990e-02],\n        [1.63214374e-02],\n        [6.22796797e-05],\n        ...,\n        [0.00000000e+00],\n        [0.00000000e+00],\n        [0.00000000e+00]],\n\n       [[1.09717838e-01],\n        [1.31376991e-02],\n        [2.62407644e-04],\n        ...,\n        [0.00000000e+00],\n        [0.00000000e+00],\n        [0.00000000e+00]]], dtype=float32)"
     },
     "execution_count": 56,
     "metadata": {},
     "output_type": "execute_result"
    }
   ],
   "source": [
    "model.predict(test_sample)"
   ],
   "metadata": {
    "collapsed": false
   }
  }
 ],
 "metadata": {
  "kernelspec": {
   "display_name": "Python 3",
   "language": "python",
   "name": "python3"
  },
  "language_info": {
   "codemirror_mode": {
    "name": "ipython",
    "version": 2
   },
   "file_extension": ".py",
   "mimetype": "text/x-python",
   "name": "python",
   "nbconvert_exporter": "python",
   "pygments_lexer": "ipython2",
   "version": "2.7.6"
  }
 },
 "nbformat": 4,
 "nbformat_minor": 0
}
